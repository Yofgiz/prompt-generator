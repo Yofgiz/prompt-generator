{
 "cells": [
  {
   "attachments": {},
   "cell_type": "markdown",
   "metadata": {},
   "source": [
    "[![Open In Colab](https://colab.research.google.com/assets/colab-badge.svg)](https://colab.research.google.com/github/pinecone-io/examples/blob/master/learn/generation/langchain/rag-chatbot.ipynb) [![Open nbviewer](https://raw.githubusercontent.com/pinecone-io/examples/master/assets/nbviewer-shield.svg)](https://nbviewer.org/github/pinecone-io/examples/blob/master/learn/generation/langchain/rag-chatbot.ipynb)"
   ]
  },
  {
   "attachments": {},
   "cell_type": "markdown",
   "metadata": {},
   "source": [
    "# Building RAG Chatbots with LangChain"
   ]
  },
  {
   "cell_type": "markdown",
   "metadata": {},
   "source": []
  },
  {
   "attachments": {},
   "cell_type": "markdown",
   "metadata": {},
   "source": [
    "In this example, we'll work on building an AI chatbot from start-to-finish. We will be using LangChain, OpenAI, and Pinecone vector DB, to build a chatbot capable of learning from the external world using **R**etrieval **A**ugmented **G**eneration (RAG).\n",
    "\n",
    "We will be using a dataset sourced from the Llama 2 ArXiv paper and other related papers to help our chatbot answer questions about the latest and greatest in the world of GenAI.\n",
    "\n",
    "By the end of the example we'll have a functioning chatbot and RAG pipeline that can hold a conversation and provide informative responses based on a knowledge base.\n",
    "\n",
    "### Before you begin\n",
    "\n",
    "You'll need to get an [OpenAI API key](https://platform.openai.com/account/api-keys) and [Pinecone API key](https://app.pinecone.io)."
   ]
  },
  {
   "attachments": {},
   "cell_type": "markdown",
   "metadata": {},
   "source": [
    "### Prerequisites"
   ]
  },
  {
   "attachments": {},
   "cell_type": "markdown",
   "metadata": {},
   "source": [
    "Before we start building our chatbot, we need to install some Python libraries. Here's a brief overview of what each library does:\n",
    "\n",
    "- **langchain**: This is a library for GenAI. We'll use it to chain together different language models and components for our chatbot.\n",
    "- **openai**: This is the official OpenAI Python client. We'll use it to interact with the OpenAI API and generate responses for our chatbot.\n",
    "- **datasets**: This library provides a vast array of datasets for machine learning. We'll use it to load our knowledge base for the chatbot.\n",
    "- **pinecone-client**: This is the official Pinecone Python client. We'll use it to interact with the Pinecone API and store our chatbot's knowledge base in a vector database.\n",
    "\n",
    "You can install these libraries using pip like so:"
   ]
  },
  {
   "cell_type": "code",
   "execution_count": 1,
   "metadata": {},
   "outputs": [],
   "source": [
    "!pip install -qU \\\n",
    "    langchain==0.0.354 \\\n",
    "    openai==1.6.1 \\\n",
    "    datasets==2.10.1 \\\n",
    "    pinecone-client==3.0.0 \\\n",
    "    tiktoken==0.5.2"
   ]
  },
  {
   "attachments": {},
   "cell_type": "markdown",
   "metadata": {},
   "source": [
    "### Building a Chatbot (no RAG)"
   ]
  },
  {
   "attachments": {},
   "cell_type": "markdown",
   "metadata": {},
   "source": [
    "We will be relying heavily on the LangChain library to bring together the different components needed for our chatbot. To begin, we'll create a simple chatbot without any retrieval augmentation. We do this by initializing a `ChatOpenAI` object. For this we do need an [OpenAI API key](https://platform.openai.com/account/api-keys)."
   ]
  },
  {
   "cell_type": "code",
   "execution_count": 2,
   "metadata": {},
   "outputs": [
    {
     "name": "stderr",
     "output_type": "stream",
     "text": [
      "/home/misge/miniconda3/envs/wk6/lib/python3.11/site-packages/langchain_core/_api/deprecation.py:117: LangChainDeprecationWarning: The class `langchain_community.chat_models.openai.ChatOpenAI` was deprecated in langchain-community 0.0.10 and will be removed in 0.2.0. An updated version of the class exists in the langchain-openai package and should be used instead. To use it run `pip install -U langchain-openai` and import as `from langchain_openai import ChatOpenAI`.\n",
      "  warn_deprecated(\n"
     ]
    }
   ],
   "source": [
    "import os\n",
    "from langchain.chat_models import ChatOpenAI\n",
    "\n",
    "os.environ[\"OPENAI_API_KEY\"] = os.getenv(\"OPENAI_API_KEY\") or \"YOUR_API_KEY\"\n",
    "\n",
    "chat = ChatOpenAI(\n",
    "    openai_api_key=os.environ[\"OPENAI_API_KEY\"],\n",
    "    model='gpt-3.5-turbo'\n",
    ")"
   ]
  },
  {
   "attachments": {},
   "cell_type": "markdown",
   "metadata": {},
   "source": [
    "Chats with OpenAI's `gpt-3.5-turbo` and `gpt-4` chat models are typically structured (in plain text) like this:\n",
    "\n",
    "```\n",
    "System: You are a helpful assistant.\n",
    "\n",
    "User: Hi AI, how are you today?\n",
    "\n",
    "Assistant: I'm great thank you. How can I help you?\n",
    "\n",
    "User: I'd like to understand string theory.\n",
    "\n",
    "Assistant:\n",
    "```\n",
    "\n",
    "The final `\"Assistant:\"` without a response is what would prompt the model to continue the conversation. In the official OpenAI `ChatCompletion` endpoint these would be passed to the model in a format like:\n",
    "\n",
    "```python\n",
    "[\n",
    "    {\"role\": \"system\", \"content\": \"You are a helpful assistant.\"},\n",
    "    {\"role\": \"user\", \"content\": \"Hi AI, how are you today?\"},\n",
    "    {\"role\": \"assistant\", \"content\": \"I'm great thank you. How can I help you?\"}\n",
    "    {\"role\": \"user\", \"content\": \"I'd like to understand string theory.\"}\n",
    "]\n",
    "```\n",
    "\n",
    "In LangChain there is a slightly different format. We use three _message_ objects like so:"
   ]
  },
  {
   "cell_type": "code",
   "execution_count": 3,
   "metadata": {},
   "outputs": [],
   "source": [
    "from langchain.schema import (\n",
    "    SystemMessage,\n",
    "    HumanMessage,\n",
    "    AIMessage\n",
    ")\n",
    "\n",
    "messages = [\n",
    "    SystemMessage(content=\"You are a helpful assistant.\"),\n",
    "    HumanMessage(content=\"Hi AI, how are you today?\"),\n",
    "    AIMessage(content=\"I'm great thank you. How can I help you?\"),\n",
    "    HumanMessage(content=\"I'd like to understand string theory.\")\n",
    "]"
   ]
  },
  {
   "attachments": {},
   "cell_type": "markdown",
   "metadata": {},
   "source": [
    "The format is very similar, we're just swapped the role of `\"user\"` for `HumanMessage`, and the role of `\"assistant\"` for `AIMessage`.\n",
    "\n",
    "We generate the next response from the AI by passing these messages to the `ChatOpenAI` object."
   ]
  },
  {
   "cell_type": "code",
   "execution_count": 4,
   "metadata": {},
   "outputs": [
    {
     "name": "stderr",
     "output_type": "stream",
     "text": [
      "/home/misge/miniconda3/envs/wk6/lib/python3.11/site-packages/langchain_core/_api/deprecation.py:117: LangChainDeprecationWarning: The function `__call__` was deprecated in LangChain 0.1.7 and will be removed in 0.2.0. Use invoke instead.\n",
      "  warn_deprecated(\n"
     ]
    },
    {
     "data": {
      "text/plain": [
       "AIMessage(content='String theory is a theoretical framework in physics that aims to provide a unified description of all fundamental forces and particles in the universe. It suggests that the fundamental building blocks of the universe are not point-like particles, but tiny, vibrating strings.\\n\\nHere are some key points to understand about string theory:\\n\\n1. Dimensions: String theory requires the existence of extra dimensions beyond the familiar three dimensions of space (length, width, and height) and one dimension of time. These additional dimensions are compactified or \"curled up\" at incredibly small scales, making them difficult to detect.\\n\\n2. Vibrating Strings: In string theory, particles are not considered as separate entities but rather as different vibrational modes of a string. The different vibrational patterns of the string correspond to different particles with varying masses and properties.\\n\\n3. Supersymmetry: String theory incorporates supersymmetry, which suggests that every known particle has a \"superpartner\" particle with different spin properties. Supersymmetry helps to address certain issues in particle physics, such as the hierarchy problem and the unification of forces.\\n\\n4. Multiverse: String theory suggests the possibility of a multiverse, where our universe is just one of many possible universes. These universes, known as \"branes,\" could exist in higher-dimensional space, and interactions between different branes could give rise to the different physical laws and phenomena observed in our universe.\\n\\nIt\\'s important to note that string theory is still a work in progress and has not yet been experimentally confirmed. However, it has provided valuable insights into various aspects of physics and continues to be an active area of research.\\n\\nIf you\\'d like to dive deeper into string theory, there are several books and online resources available that provide more detailed explanations and mathematical formulations.')"
      ]
     },
     "execution_count": 4,
     "metadata": {},
     "output_type": "execute_result"
    }
   ],
   "source": [
    "res = chat(messages)\n",
    "res"
   ]
  },
  {
   "attachments": {},
   "cell_type": "markdown",
   "metadata": {},
   "source": [
    "In response we get another AI message object. We can print it more clearly like so:"
   ]
  },
  {
   "cell_type": "code",
   "execution_count": 5,
   "metadata": {},
   "outputs": [
    {
     "name": "stdout",
     "output_type": "stream",
     "text": [
      "String theory is a theoretical framework in physics that aims to provide a unified description of all fundamental forces and particles in the universe. It suggests that the fundamental building blocks of the universe are not point-like particles, but tiny, vibrating strings.\n",
      "\n",
      "Here are some key points to understand about string theory:\n",
      "\n",
      "1. Dimensions: String theory requires the existence of extra dimensions beyond the familiar three dimensions of space (length, width, and height) and one dimension of time. These additional dimensions are compactified or \"curled up\" at incredibly small scales, making them difficult to detect.\n",
      "\n",
      "2. Vibrating Strings: In string theory, particles are not considered as separate entities but rather as different vibrational modes of a string. The different vibrational patterns of the string correspond to different particles with varying masses and properties.\n",
      "\n",
      "3. Supersymmetry: String theory incorporates supersymmetry, which suggests that every known particle has a \"superpartner\" particle with different spin properties. Supersymmetry helps to address certain issues in particle physics, such as the hierarchy problem and the unification of forces.\n",
      "\n",
      "4. Multiverse: String theory suggests the possibility of a multiverse, where our universe is just one of many possible universes. These universes, known as \"branes,\" could exist in higher-dimensional space, and interactions between different branes could give rise to the different physical laws and phenomena observed in our universe.\n",
      "\n",
      "It's important to note that string theory is still a work in progress and has not yet been experimentally confirmed. However, it has provided valuable insights into various aspects of physics and continues to be an active area of research.\n",
      "\n",
      "If you'd like to dive deeper into string theory, there are several books and online resources available that provide more detailed explanations and mathematical formulations.\n"
     ]
    }
   ],
   "source": [
    "print(res.content)"
   ]
  },
  {
   "attachments": {},
   "cell_type": "markdown",
   "metadata": {},
   "source": [
    "Because `res` is just another `AIMessage` object, we can append it to `messages`, add another `HumanMessage`, and generate the next response in the conversation."
   ]
  },
  {
   "cell_type": "code",
   "execution_count": 6,
   "metadata": {},
   "outputs": [
    {
     "name": "stdout",
     "output_type": "stream",
     "text": [
      "Physicists believe that string theory has the potential to produce a unified theory because it incorporates all the fundamental forces and particles of nature into a single framework. This is in contrast to the currently accepted theories, such as the Standard Model of particle physics, which describe the electromagnetic, weak, and strong nuclear forces separately.\n",
      "\n",
      "Here are some reasons why physicists see string theory as a candidate for a unified theory:\n",
      "\n",
      "1. Gravity and Quantum Mechanics: One of the main motivations for string theory is its ability to incorporate gravity into a quantum mechanical framework. Gravity, described by Einstein's general theory of relativity, is not fully compatible with quantum mechanics, which is the framework that successfully describes the other three fundamental forces. String theory offers a way to reconcile these two theories by describing gravity in terms of vibrating strings, which naturally exhibit quantum behavior.\n",
      "\n",
      "2. Consistency and Mathematical Beauty: String theory is a mathematically consistent framework. It provides a self-consistent description of how strings vibrate and interact, without encountering the mathematical inconsistencies present in some other theories. This mathematical beauty and consistency give physicists confidence in its potential as a unified theory.\n",
      "\n",
      "3. Grand Unification: String theory also has the potential to unify the fundamental forces of nature. In the Standard Model, the electromagnetic, weak, and strong forces are described by separate theories. String theory suggests that these forces arise from different vibrational modes of the underlying strings. This provides the possibility of a unified description of all forces, known as the \"grand unification.\"\n",
      "\n",
      "4. Supersymmetry: String theory incorporates supersymmetry, which is a symmetry between particles with different spins. Supersymmetry helps to address some fundamental issues in particle physics, such as the hierarchy problem (the large discrepancy between the weak and gravitational forces) and the unification of forces. The presence of supersymmetry in string theory is seen as a promising aspect for achieving a unified theory.\n",
      "\n",
      "It's important to note that while physicists have high hopes for string theory, it has not yet been experimentally confirmed. The energies required to directly observe strings or extra dimensions are currently beyond the reach of our experimental capabilities. Nonetheless, researchers continue to explore string theory and its mathematical implications to gain a deeper understanding of our universe.\n"
     ]
    }
   ],
   "source": [
    "# add latest AI response to messages\n",
    "messages.append(res)\n",
    "\n",
    "# now create a new user prompt\n",
    "prompt = HumanMessage(\n",
    "    content=\"Why do physicists believe it can produce a 'unified theory'?\"\n",
    ")\n",
    "# add to messages\n",
    "messages.append(prompt)\n",
    "\n",
    "# send to chat-gpt\n",
    "res = chat(messages)\n",
    "\n",
    "print(res.content)"
   ]
  },
  {
   "attachments": {},
   "cell_type": "markdown",
   "metadata": {},
   "source": [
    "### Dealing with Hallucinations"
   ]
  },
  {
   "attachments": {},
   "cell_type": "markdown",
   "metadata": {},
   "source": [
    "We have our chatbot, but as mentioned — the knowledge of LLMs can be limited. The reason for this is that LLMs learn all they know during training. An LLM essentially compresses the \"world\" as seen in the training data into the internal parameters of the model. We call this knowledge the _parametric knowledge_ of the model.\n",
    "\n",
    "By default, LLMs have no access to the external world.\n",
    "\n",
    "The result of this is very clear when we ask LLMs about more recent information, like about the new (and very popular) Llama 2 LLM."
   ]
  },
  {
   "cell_type": "code",
   "execution_count": 7,
   "metadata": {},
   "outputs": [],
   "source": [
    "# add latest AI response to messages\n",
    "messages.append(res)\n",
    "\n",
    "# now create a new user prompt\n",
    "prompt = HumanMessage(\n",
    "    content=\"What is so special about Llama 2?\"\n",
    ")\n",
    "# add to messages\n",
    "messages.append(prompt)\n",
    "\n",
    "# send to OpenAI\n",
    "res = chat(messages)"
   ]
  },
  {
   "cell_type": "code",
   "execution_count": 8,
   "metadata": {},
   "outputs": [
    {
     "name": "stdout",
     "output_type": "stream",
     "text": [
      "I'm sorry, but I couldn't find any specific information about \"Llama 2\" in relation to any significant scientific or technological concept or discovery. It's possible that you may be referring to something specific that I am not aware of. Could you please provide more context or clarify your question? That way, I can try to assist you better.\n"
     ]
    }
   ],
   "source": [
    "print(res.content)"
   ]
  },
  {
   "attachments": {},
   "cell_type": "markdown",
   "metadata": {},
   "source": [
    "Our chatbot can no longer help us, it doesn't contain the information we need to answer the question. It was very clear from this answer that the LLM doesn't know the informaiton, but sometimes an LLM may respond like it _does_ know the answer — and this can be very hard to detect.\n",
    "\n",
    "OpenAI have since adjusted the behavior for this particular example as we can see below:"
   ]
  },
  {
   "cell_type": "code",
   "execution_count": 9,
   "metadata": {},
   "outputs": [],
   "source": [
    "# add latest AI response to messages\n",
    "messages.append(res)\n",
    "\n",
    "# now create a new user prompt\n",
    "prompt = HumanMessage(\n",
    "    content=\"Can you tell me about the LLMChain in LangChain?\"\n",
    ")\n",
    "# add to messages\n",
    "messages.append(prompt)\n",
    "\n",
    "# send to OpenAI\n",
    "res = chat(messages)"
   ]
  },
  {
   "cell_type": "code",
   "execution_count": 10,
   "metadata": {},
   "outputs": [
    {
     "name": "stdout",
     "output_type": "stream",
     "text": [
      "I apologize, but I couldn't find any information on an LLMChain specifically related to LangChain. It's possible that you may be referring to a specific term or concept that is not widely known or documented. If you can provide more context or explain further, I'll do my best to assist you.\n"
     ]
    }
   ],
   "source": [
    "print(res.content)"
   ]
  },
  {
   "attachments": {},
   "cell_type": "markdown",
   "metadata": {},
   "source": [
    "There is another way of feeding knowledge into LLMs. It is called _source knowledge_ and it refers to any information fed into the LLM via the prompt. We can try that with the LLMChain question. We can take a description of this object from the LangChain documentation."
   ]
  },
  {
   "cell_type": "code",
   "execution_count": 11,
   "metadata": {},
   "outputs": [],
   "source": [
    "llmchain_information = [\n",
    "    \"A LLMChain is the most common type of chain. It consists of a PromptTemplate, a model (either an LLM or a ChatModel), and an optional output parser. This chain takes multiple input variables, uses the PromptTemplate to format them into a prompt. It then passes that to the model. Finally, it uses the OutputParser (if provided) to parse the output of the LLM into a final format.\",\n",
    "    \"Chains is an incredibly generic concept which returns to a sequence of modular components (or other chains) combined in a particular way to accomplish a common use case.\",\n",
    "    \"LangChain is a framework for developing applications powered by language models. We believe that the most powerful and differentiated applications will not only call out to a language model via an api, but will also: (1) Be data-aware: connect a language model to other sources of data, (2) Be agentic: Allow a language model to interact with its environment. As such, the LangChain framework is designed with the objective in mind to enable those types of applications.\"\n",
    "]\n",
    "\n",
    "source_knowledge = \"\\n\".join(llmchain_information)"
   ]
  },
  {
   "attachments": {},
   "cell_type": "markdown",
   "metadata": {},
   "source": [
    "We can feed this additional knowledge into our prompt with some instructions telling the LLM how we'd like it to use this information alongside our original query."
   ]
  },
  {
   "cell_type": "code",
   "execution_count": 12,
   "metadata": {},
   "outputs": [],
   "source": [
    "query = \"Can you tell me about the LLMChain in LangChain?\"\n",
    "\n",
    "augmented_prompt = f\"\"\"Using the contexts below, answer the query.\n",
    "\n",
    "Contexts:\n",
    "{source_knowledge}\n",
    "\n",
    "Query: {query}\"\"\""
   ]
  },
  {
   "attachments": {},
   "cell_type": "markdown",
   "metadata": {},
   "source": [
    "Now we feed this into our chatbot as we were before."
   ]
  },
  {
   "cell_type": "code",
   "execution_count": 13,
   "metadata": {},
   "outputs": [],
   "source": [
    "# create a new user prompt\n",
    "prompt = HumanMessage(\n",
    "    content=augmented_prompt\n",
    ")\n",
    "# add to messages\n",
    "messages.append(prompt)\n",
    "\n",
    "# send to OpenAI\n",
    "res = chat(messages)"
   ]
  },
  {
   "cell_type": "code",
   "execution_count": 14,
   "metadata": {},
   "outputs": [
    {
     "name": "stdout",
     "output_type": "stream",
     "text": [
      "The LLMChain is a type of chain within the LangChain framework. Chains in LangChain are sequences of modular components or other chains combined in a specific way to achieve a common use case. The LLMChain, in particular, is the most common type of chain.\n",
      "\n",
      "The LLMChain consists of three main components: a PromptTemplate, a language model (either an LLM or a ChatModel), and an optional output parser. This chain takes multiple input variables, which are formatted into a prompt using the PromptTemplate. The formatted prompt is then passed to the language model for processing. Finally, the OutputParser, if provided, is used to parse the output of the language model into a final format.\n",
      "\n",
      "LangChain itself is a framework designed for developing applications powered by language models. It aims to create applications that not only make use of language models via an API but also connect the language model to other sources of data, making them data-aware. Additionally, LangChain enables applications to allow language models to interact with their environment, making them agentic. The framework is designed with the goal of enabling powerful and differentiated applications that leverage the capabilities of language models in a more comprehensive way.\n"
     ]
    }
   ],
   "source": [
    "print(res.content)"
   ]
  },
  {
   "attachments": {},
   "cell_type": "markdown",
   "metadata": {},
   "source": [
    "The quality of this answer is phenomenal. This is made possible thanks to the idea of augmented our query with external knowledge (source knowledge). There's just one problem — how do we get this information in the first place?\n",
    "\n",
    "We learned in the previous chapters about Pinecone and vector databases. Well, they can help us here too. But first, we'll need a dataset."
   ]
  },
  {
   "attachments": {},
   "cell_type": "markdown",
   "metadata": {},
   "source": [
    "### Importing the Data"
   ]
  },
  {
   "attachments": {},
   "cell_type": "markdown",
   "metadata": {},
   "source": [
    "In this task, we will be importing our data. We will be using the Hugging Face Datasets library to load our data. Specifically, we will be using the `\"jamescalam/llama-2-arxiv-papers\"` dataset. This dataset contains a collection of ArXiv papers which will serve as the external knowledge base for our chatbot."
   ]
  },
  {
   "cell_type": "code",
   "execution_count": 15,
   "metadata": {},
   "outputs": [
    {
     "name": "stderr",
     "output_type": "stream",
     "text": [
      "Found cached dataset json (/home/misge/.cache/huggingface/datasets/jamescalam___json/jamescalam--llama-2-arxiv-papers-chunked-ea255a807f3039a6/0.0.0/0f7e3662623656454fcd2b650f34e886a7db4b9104504885bd462096cc7a9f51)\n"
     ]
    },
    {
     "data": {
      "text/plain": [
       "Dataset({\n",
       "    features: ['doi', 'chunk-id', 'chunk', 'id', 'title', 'summary', 'source', 'authors', 'categories', 'comment', 'journal_ref', 'primary_category', 'published', 'updated', 'references'],\n",
       "    num_rows: 4838\n",
       "})"
      ]
     },
     "execution_count": 15,
     "metadata": {},
     "output_type": "execute_result"
    }
   ],
   "source": [
    "from datasets import load_dataset\n",
    "\n",
    "dataset = load_dataset(\"jamescalam/llama-2-arxiv-papers-chunked\", split=\"train\")\n",
    "dataset"
   ]
  },
  {
   "cell_type": "code",
   "execution_count": 16,
   "metadata": {},
   "outputs": [
    {
     "data": {
      "text/plain": [
       "{'doi': '1102.0183',\n",
       " 'chunk-id': '0',\n",
       " 'chunk': 'High-Performance Neural Networks\\nfor Visual Object Classi\\x0ccation\\nDan C. Cire\\x18 san, Ueli Meier, Jonathan Masci,\\nLuca M. Gambardella and J\\x7f urgen Schmidhuber\\nTechnical Report No. IDSIA-01-11\\nJanuary 2011\\nIDSIA / USI-SUPSI\\nDalle Molle Institute for Arti\\x0ccial Intelligence\\nGalleria 2, 6928 Manno, Switzerland\\nIDSIA is a joint institute of both University of Lugano (USI) and University of Applied Sciences of Southern Switzerland (SUPSI),\\nand was founded in 1988 by the Dalle Molle Foundation which promoted quality of life.\\nThis work was partially supported by the Swiss Commission for Technology and Innovation (CTI), Project n. 9688.1 IFF:\\nIntelligent Fill in Form.arXiv:1102.0183v1  [cs.AI]  1 Feb 2011\\nTechnical Report No. IDSIA-01-11 1\\nHigh-Performance Neural Networks\\nfor Visual Object Classi\\x0ccation\\nDan C. Cire\\x18 san, Ueli Meier, Jonathan Masci,\\nLuca M. Gambardella and J\\x7f urgen Schmidhuber\\nJanuary 2011\\nAbstract\\nWe present a fast, fully parameterizable GPU implementation of Convolutional Neural\\nNetwork variants. Our feature extractors are neither carefully designed nor pre-wired, but',\n",
       " 'id': '1102.0183',\n",
       " 'title': 'High-Performance Neural Networks for Visual Object Classification',\n",
       " 'summary': 'We present a fast, fully parameterizable GPU implementation of Convolutional\\nNeural Network variants. Our feature extractors are neither carefully designed\\nnor pre-wired, but rather learned in a supervised way. Our deep hierarchical\\narchitectures achieve the best published results on benchmarks for object\\nclassification (NORB, CIFAR10) and handwritten digit recognition (MNIST), with\\nerror rates of 2.53%, 19.51%, 0.35%, respectively. Deep nets trained by simple\\nback-propagation perform better than more shallow ones. Learning is\\nsurprisingly rapid. NORB is completely trained within five epochs. Test error\\nrates on MNIST drop to 2.42%, 0.97% and 0.48% after 1, 3 and 17 epochs,\\nrespectively.',\n",
       " 'source': 'http://arxiv.org/pdf/1102.0183',\n",
       " 'authors': ['Dan C. Cireşan',\n",
       "  'Ueli Meier',\n",
       "  'Jonathan Masci',\n",
       "  'Luca M. Gambardella',\n",
       "  'Jürgen Schmidhuber'],\n",
       " 'categories': ['cs.AI', 'cs.NE'],\n",
       " 'comment': '12 pages, 2 figures, 5 tables',\n",
       " 'journal_ref': None,\n",
       " 'primary_category': 'cs.AI',\n",
       " 'published': '20110201',\n",
       " 'updated': '20110201',\n",
       " 'references': []}"
      ]
     },
     "execution_count": 16,
     "metadata": {},
     "output_type": "execute_result"
    }
   ],
   "source": [
    "dataset[0]"
   ]
  },
  {
   "attachments": {},
   "cell_type": "markdown",
   "metadata": {},
   "source": [
    "#### Dataset Overview\n",
    "\n",
    "The dataset we are using is sourced from the Llama 2 ArXiv papers. It is a collection of academic papers from ArXiv, a repository of electronic preprints approved for publication after moderation. Each entry in the dataset represents a \"chunk\" of text from these papers.\n",
    "\n",
    "Because most **L**arge **L**anguage **M**odels (LLMs) only contain knowledge of the world as it was during training, they cannot answer our questions about Llama 2 — at least not without this data."
   ]
  },
  {
   "attachments": {},
   "cell_type": "markdown",
   "metadata": {},
   "source": [
    "### Task 4: Building the Knowledge Base"
   ]
  },
  {
   "attachments": {},
   "cell_type": "markdown",
   "metadata": {},
   "source": [
    "We now have a dataset that can serve as our chatbot knowledge base. Our next task is to transform that dataset into the knowledge base that our chatbot can use. To do this we must use an embedding model and vector database.\n",
    "\n",
    "We begin by initializing our connection to Pinecone, this requires a [free API key](https://app.pinecone.io)."
   ]
  },
  {
   "cell_type": "code",
   "execution_count": 17,
   "metadata": {},
   "outputs": [],
   "source": [
    "from pinecone import Pinecone\n",
    "\n",
    "# initialize connection to pinecone (get API key at app.pinecone.io)\n",
    "api_key = os.getenv(\"PINECONE_API_KEY\") or \"YOUR_API_KEY\"\n",
    "\n",
    "# configure client\n",
    "pc = Pinecone(api_key=api_key)"
   ]
  },
  {
   "cell_type": "markdown",
   "metadata": {},
   "source": [
    "Now we setup our index specification, this allows us to define the cloud provider and region where we want to deploy our index. You can find a list of all [available providers and regions here](https://docs.pinecone.io/docs/projects)."
   ]
  },
  {
   "cell_type": "code",
   "execution_count": 18,
   "metadata": {},
   "outputs": [],
   "source": [
    "from pinecone import ServerlessSpec\n",
    "\n",
    "spec = ServerlessSpec(\n",
    "    cloud=\"aws\", region=\"us-west-2\"\n",
    ")"
   ]
  },
  {
   "attachments": {},
   "cell_type": "markdown",
   "metadata": {},
   "source": [
    "Then we initialize the index. We will be using OpenAI's `text-embedding-ada-002` model for creating the embeddings, so we set the `dimension` to `1536`."
   ]
  },
  {
   "cell_type": "code",
   "execution_count": 19,
   "metadata": {},
   "outputs": [
    {
     "ename": "PineconeApiException",
     "evalue": "(429)\nReason: Too Many Requests\nHTTP response headers: HTTPHeaderDict({'content-type': 'text/plain; charset=utf-8', 'access-control-allow-origin': '*', 'vary': 'origin,access-control-request-method,access-control-request-headers', 'access-control-expose-headers': '*', 'X-Cloud-Trace-Context': '2aca6d072469c97508c089e588a687f3', 'Date': 'Fri, 19 Jan 2024 06:17:29 GMT', 'Server': 'Google Frontend', 'Content-Length': '143', 'Via': '1.1 google', 'Alt-Svc': 'h3=\":443\"; ma=2592000,h3-29=\":443\"; ma=2592000'})\nHTTP response body: {\"error\":{\"code\":\"RESOURCE_EXHAUSTED\",\"message\":\"Capacity Reached. Increase your index quota or upgrade to create more indexes.\"},\"status\":429}\n",
     "output_type": "error",
     "traceback": [
      "\u001b[0;31m---------------------------------------------------------------------------\u001b[0m",
      "\u001b[0;31mPineconeApiException\u001b[0m                      Traceback (most recent call last)",
      "Cell \u001b[0;32mIn[19], line 11\u001b[0m\n\u001b[1;32m      8\u001b[0m \u001b[38;5;66;03m# check if index already exists (it shouldn't if this is first time)\u001b[39;00m\n\u001b[1;32m      9\u001b[0m \u001b[38;5;28;01mif\u001b[39;00m index_name \u001b[38;5;129;01mnot\u001b[39;00m \u001b[38;5;129;01min\u001b[39;00m existing_indexes:\n\u001b[1;32m     10\u001b[0m     \u001b[38;5;66;03m# if does not exist, create index\u001b[39;00m\n\u001b[0;32m---> 11\u001b[0m     \u001b[43mpc\u001b[49m\u001b[38;5;241;43m.\u001b[39;49m\u001b[43mcreate_index\u001b[49m\u001b[43m(\u001b[49m\n\u001b[1;32m     12\u001b[0m \u001b[43m        \u001b[49m\u001b[43mindex_name\u001b[49m\u001b[43m,\u001b[49m\n\u001b[1;32m     13\u001b[0m \u001b[43m        \u001b[49m\u001b[43mdimension\u001b[49m\u001b[38;5;241;43m=\u001b[39;49m\u001b[38;5;241;43m1536\u001b[39;49m\u001b[43m,\u001b[49m\u001b[43m  \u001b[49m\u001b[38;5;66;43;03m# dimensionality of ada 002\u001b[39;49;00m\n\u001b[1;32m     14\u001b[0m \u001b[43m        \u001b[49m\u001b[43mmetric\u001b[49m\u001b[38;5;241;43m=\u001b[39;49m\u001b[38;5;124;43m'\u001b[39;49m\u001b[38;5;124;43mdotproduct\u001b[39;49m\u001b[38;5;124;43m'\u001b[39;49m\u001b[43m,\u001b[49m\n\u001b[1;32m     15\u001b[0m \u001b[43m        \u001b[49m\u001b[43mspec\u001b[49m\u001b[38;5;241;43m=\u001b[39;49m\u001b[43mspec\u001b[49m\n\u001b[1;32m     16\u001b[0m \u001b[43m    \u001b[49m\u001b[43m)\u001b[49m\n\u001b[1;32m     17\u001b[0m     \u001b[38;5;66;03m# wait for index to be initialized\u001b[39;00m\n\u001b[1;32m     18\u001b[0m     \u001b[38;5;28;01mwhile\u001b[39;00m \u001b[38;5;129;01mnot\u001b[39;00m pc\u001b[38;5;241m.\u001b[39mdescribe_index(index_name)\u001b[38;5;241m.\u001b[39mstatus[\u001b[38;5;124m'\u001b[39m\u001b[38;5;124mready\u001b[39m\u001b[38;5;124m'\u001b[39m]:\n",
      "File \u001b[0;32m~/miniconda3/envs/wk6/lib/python3.11/site-packages/pinecone/control/pinecone.py:180\u001b[0m, in \u001b[0;36mPinecone.create_index\u001b[0;34m(self, name, dimension, spec, metric, timeout)\u001b[0m\n\u001b[1;32m    178\u001b[0m     api_instance\u001b[38;5;241m.\u001b[39mcreate_index(create_index_request\u001b[38;5;241m=\u001b[39mCreateIndexRequest(name\u001b[38;5;241m=\u001b[39mname, dimension\u001b[38;5;241m=\u001b[39mdimension, metric\u001b[38;5;241m=\u001b[39mmetric, spec\u001b[38;5;241m=\u001b[39mspec))\n\u001b[1;32m    179\u001b[0m \u001b[38;5;28;01melif\u001b[39;00m \u001b[38;5;28misinstance\u001b[39m(spec, ServerlessSpec):\n\u001b[0;32m--> 180\u001b[0m     \u001b[43mapi_instance\u001b[49m\u001b[38;5;241;43m.\u001b[39;49m\u001b[43mcreate_index\u001b[49m\u001b[43m(\u001b[49m\u001b[43mcreate_index_request\u001b[49m\u001b[38;5;241;43m=\u001b[39;49m\u001b[43mCreateIndexRequest\u001b[49m\u001b[43m(\u001b[49m\u001b[43mname\u001b[49m\u001b[38;5;241;43m=\u001b[39;49m\u001b[43mname\u001b[49m\u001b[43m,\u001b[49m\u001b[43m \u001b[49m\u001b[43mdimension\u001b[49m\u001b[38;5;241;43m=\u001b[39;49m\u001b[43mdimension\u001b[49m\u001b[43m,\u001b[49m\u001b[43m \u001b[49m\u001b[43mmetric\u001b[49m\u001b[38;5;241;43m=\u001b[39;49m\u001b[43mmetric\u001b[49m\u001b[43m,\u001b[49m\u001b[43m \u001b[49m\u001b[43mspec\u001b[49m\u001b[38;5;241;43m=\u001b[39;49m\u001b[43mspec\u001b[49m\u001b[38;5;241;43m.\u001b[39;49m\u001b[43masdict\u001b[49m\u001b[43m(\u001b[49m\u001b[43m)\u001b[49m\u001b[43m)\u001b[49m\u001b[43m)\u001b[49m\n\u001b[1;32m    181\u001b[0m \u001b[38;5;28;01melif\u001b[39;00m \u001b[38;5;28misinstance\u001b[39m(spec, PodSpec):\n\u001b[1;32m    182\u001b[0m     api_instance\u001b[38;5;241m.\u001b[39mcreate_index(create_index_request\u001b[38;5;241m=\u001b[39mCreateIndexRequest(name\u001b[38;5;241m=\u001b[39mname, dimension\u001b[38;5;241m=\u001b[39mdimension, metric\u001b[38;5;241m=\u001b[39mmetric, spec\u001b[38;5;241m=\u001b[39mspec\u001b[38;5;241m.\u001b[39masdict()))\n",
      "File \u001b[0;32m~/miniconda3/envs/wk6/lib/python3.11/site-packages/pinecone/core/client/api_client.py:771\u001b[0m, in \u001b[0;36mEndpoint.__call__\u001b[0;34m(self, *args, **kwargs)\u001b[0m\n\u001b[1;32m    760\u001b[0m \u001b[38;5;28;01mdef\u001b[39;00m \u001b[38;5;21m__call__\u001b[39m(\u001b[38;5;28mself\u001b[39m, \u001b[38;5;241m*\u001b[39margs, \u001b[38;5;241m*\u001b[39m\u001b[38;5;241m*\u001b[39mkwargs):\n\u001b[1;32m    761\u001b[0m \u001b[38;5;250m    \u001b[39m\u001b[38;5;124;03m\"\"\" This method is invoked when endpoints are called\u001b[39;00m\n\u001b[1;32m    762\u001b[0m \u001b[38;5;124;03m    Example:\u001b[39;00m\n\u001b[1;32m    763\u001b[0m \n\u001b[0;32m   (...)\u001b[0m\n\u001b[1;32m    769\u001b[0m \n\u001b[1;32m    770\u001b[0m \u001b[38;5;124;03m    \"\"\"\u001b[39;00m\n\u001b[0;32m--> 771\u001b[0m     \u001b[38;5;28;01mreturn\u001b[39;00m \u001b[38;5;28;43mself\u001b[39;49m\u001b[38;5;241;43m.\u001b[39;49m\u001b[43mcallable\u001b[49m\u001b[43m(\u001b[49m\u001b[38;5;28;43mself\u001b[39;49m\u001b[43m,\u001b[49m\u001b[43m \u001b[49m\u001b[38;5;241;43m*\u001b[39;49m\u001b[43margs\u001b[49m\u001b[43m,\u001b[49m\u001b[43m \u001b[49m\u001b[38;5;241;43m*\u001b[39;49m\u001b[38;5;241;43m*\u001b[39;49m\u001b[43mkwargs\u001b[49m\u001b[43m)\u001b[49m\n",
      "File \u001b[0;32m~/miniconda3/envs/wk6/lib/python3.11/site-packages/pinecone/core/client/api/manage_indexes_api.py:370\u001b[0m, in \u001b[0;36mManageIndexesApi.__init__.<locals>.__create_index\u001b[0;34m(self, create_index_request, **kwargs)\u001b[0m\n\u001b[1;32m    367\u001b[0m kwargs[\u001b[38;5;124m'\u001b[39m\u001b[38;5;124m_host_index\u001b[39m\u001b[38;5;124m'\u001b[39m] \u001b[38;5;241m=\u001b[39m kwargs\u001b[38;5;241m.\u001b[39mget(\u001b[38;5;124m'\u001b[39m\u001b[38;5;124m_host_index\u001b[39m\u001b[38;5;124m'\u001b[39m)\n\u001b[1;32m    368\u001b[0m kwargs[\u001b[38;5;124m'\u001b[39m\u001b[38;5;124mcreate_index_request\u001b[39m\u001b[38;5;124m'\u001b[39m] \u001b[38;5;241m=\u001b[39m \\\n\u001b[1;32m    369\u001b[0m     create_index_request\n\u001b[0;32m--> 370\u001b[0m \u001b[38;5;28;01mreturn\u001b[39;00m \u001b[38;5;28;43mself\u001b[39;49m\u001b[38;5;241;43m.\u001b[39;49m\u001b[43mcall_with_http_info\u001b[49m\u001b[43m(\u001b[49m\u001b[38;5;241;43m*\u001b[39;49m\u001b[38;5;241;43m*\u001b[39;49m\u001b[43mkwargs\u001b[49m\u001b[43m)\u001b[49m\n",
      "File \u001b[0;32m~/miniconda3/envs/wk6/lib/python3.11/site-packages/pinecone/core/client/api_client.py:833\u001b[0m, in \u001b[0;36mEndpoint.call_with_http_info\u001b[0;34m(self, **kwargs)\u001b[0m\n\u001b[1;32m    829\u001b[0m     header_list \u001b[38;5;241m=\u001b[39m \u001b[38;5;28mself\u001b[39m\u001b[38;5;241m.\u001b[39mapi_client\u001b[38;5;241m.\u001b[39mselect_header_content_type(\n\u001b[1;32m    830\u001b[0m         content_type_headers_list)\n\u001b[1;32m    831\u001b[0m     params[\u001b[38;5;124m'\u001b[39m\u001b[38;5;124mheader\u001b[39m\u001b[38;5;124m'\u001b[39m][\u001b[38;5;124m'\u001b[39m\u001b[38;5;124mContent-Type\u001b[39m\u001b[38;5;124m'\u001b[39m] \u001b[38;5;241m=\u001b[39m header_list\n\u001b[0;32m--> 833\u001b[0m \u001b[38;5;28;01mreturn\u001b[39;00m \u001b[38;5;28;43mself\u001b[39;49m\u001b[38;5;241;43m.\u001b[39;49m\u001b[43mapi_client\u001b[49m\u001b[38;5;241;43m.\u001b[39;49m\u001b[43mcall_api\u001b[49m\u001b[43m(\u001b[49m\n\u001b[1;32m    834\u001b[0m \u001b[43m    \u001b[49m\u001b[38;5;28;43mself\u001b[39;49m\u001b[38;5;241;43m.\u001b[39;49m\u001b[43msettings\u001b[49m\u001b[43m[\u001b[49m\u001b[38;5;124;43m'\u001b[39;49m\u001b[38;5;124;43mendpoint_path\u001b[39;49m\u001b[38;5;124;43m'\u001b[39;49m\u001b[43m]\u001b[49m\u001b[43m,\u001b[49m\u001b[43m \u001b[49m\u001b[38;5;28;43mself\u001b[39;49m\u001b[38;5;241;43m.\u001b[39;49m\u001b[43msettings\u001b[49m\u001b[43m[\u001b[49m\u001b[38;5;124;43m'\u001b[39;49m\u001b[38;5;124;43mhttp_method\u001b[39;49m\u001b[38;5;124;43m'\u001b[39;49m\u001b[43m]\u001b[49m\u001b[43m,\u001b[49m\n\u001b[1;32m    835\u001b[0m \u001b[43m    \u001b[49m\u001b[43mparams\u001b[49m\u001b[43m[\u001b[49m\u001b[38;5;124;43m'\u001b[39;49m\u001b[38;5;124;43mpath\u001b[39;49m\u001b[38;5;124;43m'\u001b[39;49m\u001b[43m]\u001b[49m\u001b[43m,\u001b[49m\n\u001b[1;32m    836\u001b[0m \u001b[43m    \u001b[49m\u001b[43mparams\u001b[49m\u001b[43m[\u001b[49m\u001b[38;5;124;43m'\u001b[39;49m\u001b[38;5;124;43mquery\u001b[39;49m\u001b[38;5;124;43m'\u001b[39;49m\u001b[43m]\u001b[49m\u001b[43m,\u001b[49m\n\u001b[1;32m    837\u001b[0m \u001b[43m    \u001b[49m\u001b[43mparams\u001b[49m\u001b[43m[\u001b[49m\u001b[38;5;124;43m'\u001b[39;49m\u001b[38;5;124;43mheader\u001b[39;49m\u001b[38;5;124;43m'\u001b[39;49m\u001b[43m]\u001b[49m\u001b[43m,\u001b[49m\n\u001b[1;32m    838\u001b[0m \u001b[43m    \u001b[49m\u001b[43mbody\u001b[49m\u001b[38;5;241;43m=\u001b[39;49m\u001b[43mparams\u001b[49m\u001b[43m[\u001b[49m\u001b[38;5;124;43m'\u001b[39;49m\u001b[38;5;124;43mbody\u001b[39;49m\u001b[38;5;124;43m'\u001b[39;49m\u001b[43m]\u001b[49m\u001b[43m,\u001b[49m\n\u001b[1;32m    839\u001b[0m \u001b[43m    \u001b[49m\u001b[43mpost_params\u001b[49m\u001b[38;5;241;43m=\u001b[39;49m\u001b[43mparams\u001b[49m\u001b[43m[\u001b[49m\u001b[38;5;124;43m'\u001b[39;49m\u001b[38;5;124;43mform\u001b[39;49m\u001b[38;5;124;43m'\u001b[39;49m\u001b[43m]\u001b[49m\u001b[43m,\u001b[49m\n\u001b[1;32m    840\u001b[0m \u001b[43m    \u001b[49m\u001b[43mfiles\u001b[49m\u001b[38;5;241;43m=\u001b[39;49m\u001b[43mparams\u001b[49m\u001b[43m[\u001b[49m\u001b[38;5;124;43m'\u001b[39;49m\u001b[38;5;124;43mfile\u001b[39;49m\u001b[38;5;124;43m'\u001b[39;49m\u001b[43m]\u001b[49m\u001b[43m,\u001b[49m\n\u001b[1;32m    841\u001b[0m \u001b[43m    \u001b[49m\u001b[43mresponse_type\u001b[49m\u001b[38;5;241;43m=\u001b[39;49m\u001b[38;5;28;43mself\u001b[39;49m\u001b[38;5;241;43m.\u001b[39;49m\u001b[43msettings\u001b[49m\u001b[43m[\u001b[49m\u001b[38;5;124;43m'\u001b[39;49m\u001b[38;5;124;43mresponse_type\u001b[39;49m\u001b[38;5;124;43m'\u001b[39;49m\u001b[43m]\u001b[49m\u001b[43m,\u001b[49m\n\u001b[1;32m    842\u001b[0m \u001b[43m    \u001b[49m\u001b[43mauth_settings\u001b[49m\u001b[38;5;241;43m=\u001b[39;49m\u001b[38;5;28;43mself\u001b[39;49m\u001b[38;5;241;43m.\u001b[39;49m\u001b[43msettings\u001b[49m\u001b[43m[\u001b[49m\u001b[38;5;124;43m'\u001b[39;49m\u001b[38;5;124;43mauth\u001b[39;49m\u001b[38;5;124;43m'\u001b[39;49m\u001b[43m]\u001b[49m\u001b[43m,\u001b[49m\n\u001b[1;32m    843\u001b[0m \u001b[43m    \u001b[49m\u001b[43masync_req\u001b[49m\u001b[38;5;241;43m=\u001b[39;49m\u001b[43mkwargs\u001b[49m\u001b[43m[\u001b[49m\u001b[38;5;124;43m'\u001b[39;49m\u001b[38;5;124;43masync_req\u001b[39;49m\u001b[38;5;124;43m'\u001b[39;49m\u001b[43m]\u001b[49m\u001b[43m,\u001b[49m\n\u001b[1;32m    844\u001b[0m \u001b[43m    \u001b[49m\u001b[43m_check_type\u001b[49m\u001b[38;5;241;43m=\u001b[39;49m\u001b[43mkwargs\u001b[49m\u001b[43m[\u001b[49m\u001b[38;5;124;43m'\u001b[39;49m\u001b[38;5;124;43m_check_return_type\u001b[39;49m\u001b[38;5;124;43m'\u001b[39;49m\u001b[43m]\u001b[49m\u001b[43m,\u001b[49m\n\u001b[1;32m    845\u001b[0m \u001b[43m    \u001b[49m\u001b[43m_return_http_data_only\u001b[49m\u001b[38;5;241;43m=\u001b[39;49m\u001b[43mkwargs\u001b[49m\u001b[43m[\u001b[49m\u001b[38;5;124;43m'\u001b[39;49m\u001b[38;5;124;43m_return_http_data_only\u001b[39;49m\u001b[38;5;124;43m'\u001b[39;49m\u001b[43m]\u001b[49m\u001b[43m,\u001b[49m\n\u001b[1;32m    846\u001b[0m \u001b[43m    \u001b[49m\u001b[43m_preload_content\u001b[49m\u001b[38;5;241;43m=\u001b[39;49m\u001b[43mkwargs\u001b[49m\u001b[43m[\u001b[49m\u001b[38;5;124;43m'\u001b[39;49m\u001b[38;5;124;43m_preload_content\u001b[39;49m\u001b[38;5;124;43m'\u001b[39;49m\u001b[43m]\u001b[49m\u001b[43m,\u001b[49m\n\u001b[1;32m    847\u001b[0m \u001b[43m    \u001b[49m\u001b[43m_request_timeout\u001b[49m\u001b[38;5;241;43m=\u001b[39;49m\u001b[43mkwargs\u001b[49m\u001b[43m[\u001b[49m\u001b[38;5;124;43m'\u001b[39;49m\u001b[38;5;124;43m_request_timeout\u001b[39;49m\u001b[38;5;124;43m'\u001b[39;49m\u001b[43m]\u001b[49m\u001b[43m,\u001b[49m\n\u001b[1;32m    848\u001b[0m \u001b[43m    \u001b[49m\u001b[43m_host\u001b[49m\u001b[38;5;241;43m=\u001b[39;49m\u001b[43m_host\u001b[49m\u001b[43m,\u001b[49m\n\u001b[1;32m    849\u001b[0m \u001b[43m    \u001b[49m\u001b[43mcollection_formats\u001b[49m\u001b[38;5;241;43m=\u001b[39;49m\u001b[43mparams\u001b[49m\u001b[43m[\u001b[49m\u001b[38;5;124;43m'\u001b[39;49m\u001b[38;5;124;43mcollection_format\u001b[39;49m\u001b[38;5;124;43m'\u001b[39;49m\u001b[43m]\u001b[49m\u001b[43m)\u001b[49m\n",
      "File \u001b[0;32m~/miniconda3/envs/wk6/lib/python3.11/site-packages/pinecone/core/client/api_client.py:408\u001b[0m, in \u001b[0;36mApiClient.call_api\u001b[0;34m(self, resource_path, method, path_params, query_params, header_params, body, post_params, files, response_type, auth_settings, async_req, _return_http_data_only, collection_formats, _preload_content, _request_timeout, _host, _check_type)\u001b[0m\n\u001b[1;32m    354\u001b[0m \u001b[38;5;250m\u001b[39m\u001b[38;5;124;03m\"\"\"Makes the HTTP request (synchronous) and returns deserialized data.\u001b[39;00m\n\u001b[1;32m    355\u001b[0m \n\u001b[1;32m    356\u001b[0m \u001b[38;5;124;03mTo make an async_req request, set the async_req parameter.\u001b[39;00m\n\u001b[0;32m   (...)\u001b[0m\n\u001b[1;32m    405\u001b[0m \u001b[38;5;124;03m    then the method will return the response directly.\u001b[39;00m\n\u001b[1;32m    406\u001b[0m \u001b[38;5;124;03m\"\"\"\u001b[39;00m\n\u001b[1;32m    407\u001b[0m \u001b[38;5;28;01mif\u001b[39;00m \u001b[38;5;129;01mnot\u001b[39;00m async_req:\n\u001b[0;32m--> 408\u001b[0m     \u001b[38;5;28;01mreturn\u001b[39;00m \u001b[38;5;28;43mself\u001b[39;49m\u001b[38;5;241;43m.\u001b[39;49m\u001b[43m__call_api\u001b[49m\u001b[43m(\u001b[49m\u001b[43mresource_path\u001b[49m\u001b[43m,\u001b[49m\u001b[43m \u001b[49m\u001b[43mmethod\u001b[49m\u001b[43m,\u001b[49m\n\u001b[1;32m    409\u001b[0m \u001b[43m                           \u001b[49m\u001b[43mpath_params\u001b[49m\u001b[43m,\u001b[49m\u001b[43m \u001b[49m\u001b[43mquery_params\u001b[49m\u001b[43m,\u001b[49m\u001b[43m \u001b[49m\u001b[43mheader_params\u001b[49m\u001b[43m,\u001b[49m\n\u001b[1;32m    410\u001b[0m \u001b[43m                           \u001b[49m\u001b[43mbody\u001b[49m\u001b[43m,\u001b[49m\u001b[43m \u001b[49m\u001b[43mpost_params\u001b[49m\u001b[43m,\u001b[49m\u001b[43m \u001b[49m\u001b[43mfiles\u001b[49m\u001b[43m,\u001b[49m\n\u001b[1;32m    411\u001b[0m \u001b[43m                           \u001b[49m\u001b[43mresponse_type\u001b[49m\u001b[43m,\u001b[49m\u001b[43m \u001b[49m\u001b[43mauth_settings\u001b[49m\u001b[43m,\u001b[49m\n\u001b[1;32m    412\u001b[0m \u001b[43m                           \u001b[49m\u001b[43m_return_http_data_only\u001b[49m\u001b[43m,\u001b[49m\u001b[43m \u001b[49m\u001b[43mcollection_formats\u001b[49m\u001b[43m,\u001b[49m\n\u001b[1;32m    413\u001b[0m \u001b[43m                           \u001b[49m\u001b[43m_preload_content\u001b[49m\u001b[43m,\u001b[49m\u001b[43m \u001b[49m\u001b[43m_request_timeout\u001b[49m\u001b[43m,\u001b[49m\u001b[43m \u001b[49m\u001b[43m_host\u001b[49m\u001b[43m,\u001b[49m\n\u001b[1;32m    414\u001b[0m \u001b[43m                           \u001b[49m\u001b[43m_check_type\u001b[49m\u001b[43m)\u001b[49m\n\u001b[1;32m    416\u001b[0m \u001b[38;5;28;01mreturn\u001b[39;00m \u001b[38;5;28mself\u001b[39m\u001b[38;5;241m.\u001b[39mpool\u001b[38;5;241m.\u001b[39mapply_async(\u001b[38;5;28mself\u001b[39m\u001b[38;5;241m.\u001b[39m__call_api, (resource_path,\n\u001b[1;32m    417\u001b[0m                                                method, path_params,\n\u001b[1;32m    418\u001b[0m                                                query_params,\n\u001b[0;32m   (...)\u001b[0m\n\u001b[1;32m    426\u001b[0m                                                _request_timeout,\n\u001b[1;32m    427\u001b[0m                                                _host, _check_type))\n",
      "File \u001b[0;32m~/miniconda3/envs/wk6/lib/python3.11/site-packages/pinecone/core/client/api_client.py:202\u001b[0m, in \u001b[0;36mApiClient.__call_api\u001b[0;34m(self, resource_path, method, path_params, query_params, header_params, body, post_params, files, response_type, auth_settings, _return_http_data_only, collection_formats, _preload_content, _request_timeout, _host, _check_type)\u001b[0m\n\u001b[1;32m    200\u001b[0m \u001b[38;5;28;01mexcept\u001b[39;00m PineconeApiException \u001b[38;5;28;01mas\u001b[39;00m e:\n\u001b[1;32m    201\u001b[0m     e\u001b[38;5;241m.\u001b[39mbody \u001b[38;5;241m=\u001b[39m e\u001b[38;5;241m.\u001b[39mbody\u001b[38;5;241m.\u001b[39mdecode(\u001b[38;5;124m'\u001b[39m\u001b[38;5;124mutf-8\u001b[39m\u001b[38;5;124m'\u001b[39m)\n\u001b[0;32m--> 202\u001b[0m     \u001b[38;5;28;01mraise\u001b[39;00m e\n\u001b[1;32m    204\u001b[0m \u001b[38;5;28mself\u001b[39m\u001b[38;5;241m.\u001b[39mlast_response \u001b[38;5;241m=\u001b[39m response_data\n\u001b[1;32m    206\u001b[0m return_data \u001b[38;5;241m=\u001b[39m response_data\n",
      "File \u001b[0;32m~/miniconda3/envs/wk6/lib/python3.11/site-packages/pinecone/core/client/api_client.py:195\u001b[0m, in \u001b[0;36mApiClient.__call_api\u001b[0;34m(self, resource_path, method, path_params, query_params, header_params, body, post_params, files, response_type, auth_settings, _return_http_data_only, collection_formats, _preload_content, _request_timeout, _host, _check_type)\u001b[0m\n\u001b[1;32m    191\u001b[0m     url \u001b[38;5;241m=\u001b[39m _host \u001b[38;5;241m+\u001b[39m resource_path\n\u001b[1;32m    193\u001b[0m \u001b[38;5;28;01mtry\u001b[39;00m:\n\u001b[1;32m    194\u001b[0m     \u001b[38;5;66;03m# perform request and return response\u001b[39;00m\n\u001b[0;32m--> 195\u001b[0m     response_data \u001b[38;5;241m=\u001b[39m \u001b[38;5;28;43mself\u001b[39;49m\u001b[38;5;241;43m.\u001b[39;49m\u001b[43mrequest\u001b[49m\u001b[43m(\u001b[49m\n\u001b[1;32m    196\u001b[0m \u001b[43m        \u001b[49m\u001b[43mmethod\u001b[49m\u001b[43m,\u001b[49m\u001b[43m \u001b[49m\u001b[43murl\u001b[49m\u001b[43m,\u001b[49m\u001b[43m \u001b[49m\u001b[43mquery_params\u001b[49m\u001b[38;5;241;43m=\u001b[39;49m\u001b[43mquery_params\u001b[49m\u001b[43m,\u001b[49m\u001b[43m \u001b[49m\u001b[43mheaders\u001b[49m\u001b[38;5;241;43m=\u001b[39;49m\u001b[43mheader_params\u001b[49m\u001b[43m,\u001b[49m\n\u001b[1;32m    197\u001b[0m \u001b[43m        \u001b[49m\u001b[43mpost_params\u001b[49m\u001b[38;5;241;43m=\u001b[39;49m\u001b[43mpost_params\u001b[49m\u001b[43m,\u001b[49m\u001b[43m \u001b[49m\u001b[43mbody\u001b[49m\u001b[38;5;241;43m=\u001b[39;49m\u001b[43mbody\u001b[49m\u001b[43m,\u001b[49m\n\u001b[1;32m    198\u001b[0m \u001b[43m        \u001b[49m\u001b[43m_preload_content\u001b[49m\u001b[38;5;241;43m=\u001b[39;49m\u001b[43m_preload_content\u001b[49m\u001b[43m,\u001b[49m\n\u001b[1;32m    199\u001b[0m \u001b[43m        \u001b[49m\u001b[43m_request_timeout\u001b[49m\u001b[38;5;241;43m=\u001b[39;49m\u001b[43m_request_timeout\u001b[49m\u001b[43m)\u001b[49m\n\u001b[1;32m    200\u001b[0m \u001b[38;5;28;01mexcept\u001b[39;00m PineconeApiException \u001b[38;5;28;01mas\u001b[39;00m e:\n\u001b[1;32m    201\u001b[0m     e\u001b[38;5;241m.\u001b[39mbody \u001b[38;5;241m=\u001b[39m e\u001b[38;5;241m.\u001b[39mbody\u001b[38;5;241m.\u001b[39mdecode(\u001b[38;5;124m'\u001b[39m\u001b[38;5;124mutf-8\u001b[39m\u001b[38;5;124m'\u001b[39m)\n",
      "File \u001b[0;32m~/miniconda3/envs/wk6/lib/python3.11/site-packages/pinecone/core/client/api_client.py:454\u001b[0m, in \u001b[0;36mApiClient.request\u001b[0;34m(self, method, url, query_params, headers, post_params, body, _preload_content, _request_timeout)\u001b[0m\n\u001b[1;32m    446\u001b[0m     \u001b[38;5;28;01mreturn\u001b[39;00m \u001b[38;5;28mself\u001b[39m\u001b[38;5;241m.\u001b[39mrest_client\u001b[38;5;241m.\u001b[39mOPTIONS(url,\n\u001b[1;32m    447\u001b[0m                                     query_params\u001b[38;5;241m=\u001b[39mquery_params,\n\u001b[1;32m    448\u001b[0m                                     headers\u001b[38;5;241m=\u001b[39mheaders,\n\u001b[0;32m   (...)\u001b[0m\n\u001b[1;32m    451\u001b[0m                                     _request_timeout\u001b[38;5;241m=\u001b[39m_request_timeout,\n\u001b[1;32m    452\u001b[0m                                     body\u001b[38;5;241m=\u001b[39mbody)\n\u001b[1;32m    453\u001b[0m \u001b[38;5;28;01melif\u001b[39;00m method \u001b[38;5;241m==\u001b[39m \u001b[38;5;124m\"\u001b[39m\u001b[38;5;124mPOST\u001b[39m\u001b[38;5;124m\"\u001b[39m:\n\u001b[0;32m--> 454\u001b[0m     \u001b[38;5;28;01mreturn\u001b[39;00m \u001b[38;5;28;43mself\u001b[39;49m\u001b[38;5;241;43m.\u001b[39;49m\u001b[43mrest_client\u001b[49m\u001b[38;5;241;43m.\u001b[39;49m\u001b[43mPOST\u001b[49m\u001b[43m(\u001b[49m\u001b[43murl\u001b[49m\u001b[43m,\u001b[49m\n\u001b[1;32m    455\u001b[0m \u001b[43m                                 \u001b[49m\u001b[43mquery_params\u001b[49m\u001b[38;5;241;43m=\u001b[39;49m\u001b[43mquery_params\u001b[49m\u001b[43m,\u001b[49m\n\u001b[1;32m    456\u001b[0m \u001b[43m                                 \u001b[49m\u001b[43mheaders\u001b[49m\u001b[38;5;241;43m=\u001b[39;49m\u001b[43mheaders\u001b[49m\u001b[43m,\u001b[49m\n\u001b[1;32m    457\u001b[0m \u001b[43m                                 \u001b[49m\u001b[43mpost_params\u001b[49m\u001b[38;5;241;43m=\u001b[39;49m\u001b[43mpost_params\u001b[49m\u001b[43m,\u001b[49m\n\u001b[1;32m    458\u001b[0m \u001b[43m                                 \u001b[49m\u001b[43m_preload_content\u001b[49m\u001b[38;5;241;43m=\u001b[39;49m\u001b[43m_preload_content\u001b[49m\u001b[43m,\u001b[49m\n\u001b[1;32m    459\u001b[0m \u001b[43m                                 \u001b[49m\u001b[43m_request_timeout\u001b[49m\u001b[38;5;241;43m=\u001b[39;49m\u001b[43m_request_timeout\u001b[49m\u001b[43m,\u001b[49m\n\u001b[1;32m    460\u001b[0m \u001b[43m                                 \u001b[49m\u001b[43mbody\u001b[49m\u001b[38;5;241;43m=\u001b[39;49m\u001b[43mbody\u001b[49m\u001b[43m)\u001b[49m\n\u001b[1;32m    461\u001b[0m \u001b[38;5;28;01melif\u001b[39;00m method \u001b[38;5;241m==\u001b[39m \u001b[38;5;124m\"\u001b[39m\u001b[38;5;124mPUT\u001b[39m\u001b[38;5;124m\"\u001b[39m:\n\u001b[1;32m    462\u001b[0m     \u001b[38;5;28;01mreturn\u001b[39;00m \u001b[38;5;28mself\u001b[39m\u001b[38;5;241m.\u001b[39mrest_client\u001b[38;5;241m.\u001b[39mPUT(url,\n\u001b[1;32m    463\u001b[0m                                 query_params\u001b[38;5;241m=\u001b[39mquery_params,\n\u001b[1;32m    464\u001b[0m                                 headers\u001b[38;5;241m=\u001b[39mheaders,\n\u001b[0;32m   (...)\u001b[0m\n\u001b[1;32m    467\u001b[0m                                 _request_timeout\u001b[38;5;241m=\u001b[39m_request_timeout,\n\u001b[1;32m    468\u001b[0m                                 body\u001b[38;5;241m=\u001b[39mbody)\n",
      "File \u001b[0;32m~/miniconda3/envs/wk6/lib/python3.11/site-packages/pinecone/core/client/rest.py:301\u001b[0m, in \u001b[0;36mRESTClientObject.POST\u001b[0;34m(self, url, headers, query_params, post_params, body, _preload_content, _request_timeout)\u001b[0m\n\u001b[1;32m    299\u001b[0m \u001b[38;5;28;01mdef\u001b[39;00m \u001b[38;5;21mPOST\u001b[39m(\u001b[38;5;28mself\u001b[39m, url, headers\u001b[38;5;241m=\u001b[39m\u001b[38;5;28;01mNone\u001b[39;00m, query_params\u001b[38;5;241m=\u001b[39m\u001b[38;5;28;01mNone\u001b[39;00m, post_params\u001b[38;5;241m=\u001b[39m\u001b[38;5;28;01mNone\u001b[39;00m,\n\u001b[1;32m    300\u001b[0m          body\u001b[38;5;241m=\u001b[39m\u001b[38;5;28;01mNone\u001b[39;00m, _preload_content\u001b[38;5;241m=\u001b[39m\u001b[38;5;28;01mTrue\u001b[39;00m, _request_timeout\u001b[38;5;241m=\u001b[39m\u001b[38;5;28;01mNone\u001b[39;00m):\n\u001b[0;32m--> 301\u001b[0m     \u001b[38;5;28;01mreturn\u001b[39;00m \u001b[38;5;28;43mself\u001b[39;49m\u001b[38;5;241;43m.\u001b[39;49m\u001b[43mrequest\u001b[49m\u001b[43m(\u001b[49m\u001b[38;5;124;43m\"\u001b[39;49m\u001b[38;5;124;43mPOST\u001b[39;49m\u001b[38;5;124;43m\"\u001b[39;49m\u001b[43m,\u001b[49m\u001b[43m \u001b[49m\u001b[43murl\u001b[49m\u001b[43m,\u001b[49m\n\u001b[1;32m    302\u001b[0m \u001b[43m                        \u001b[49m\u001b[43mheaders\u001b[49m\u001b[38;5;241;43m=\u001b[39;49m\u001b[43mheaders\u001b[49m\u001b[43m,\u001b[49m\n\u001b[1;32m    303\u001b[0m \u001b[43m                        \u001b[49m\u001b[43mquery_params\u001b[49m\u001b[38;5;241;43m=\u001b[39;49m\u001b[43mquery_params\u001b[49m\u001b[43m,\u001b[49m\n\u001b[1;32m    304\u001b[0m \u001b[43m                        \u001b[49m\u001b[43mpost_params\u001b[49m\u001b[38;5;241;43m=\u001b[39;49m\u001b[43mpost_params\u001b[49m\u001b[43m,\u001b[49m\n\u001b[1;32m    305\u001b[0m \u001b[43m                        \u001b[49m\u001b[43m_preload_content\u001b[49m\u001b[38;5;241;43m=\u001b[39;49m\u001b[43m_preload_content\u001b[49m\u001b[43m,\u001b[49m\n\u001b[1;32m    306\u001b[0m \u001b[43m                        \u001b[49m\u001b[43m_request_timeout\u001b[49m\u001b[38;5;241;43m=\u001b[39;49m\u001b[43m_request_timeout\u001b[49m\u001b[43m,\u001b[49m\n\u001b[1;32m    307\u001b[0m \u001b[43m                        \u001b[49m\u001b[43mbody\u001b[49m\u001b[38;5;241;43m=\u001b[39;49m\u001b[43mbody\u001b[49m\u001b[43m)\u001b[49m\n",
      "File \u001b[0;32m~/miniconda3/envs/wk6/lib/python3.11/site-packages/pinecone/core/client/rest.py:260\u001b[0m, in \u001b[0;36mRESTClientObject.request\u001b[0;34m(self, method, url, query_params, headers, body, post_params, _preload_content, _request_timeout)\u001b[0m\n\u001b[1;32m    257\u001b[0m     \u001b[38;5;28;01mif\u001b[39;00m \u001b[38;5;241m500\u001b[39m \u001b[38;5;241m<\u001b[39m\u001b[38;5;241m=\u001b[39m r\u001b[38;5;241m.\u001b[39mstatus \u001b[38;5;241m<\u001b[39m\u001b[38;5;241m=\u001b[39m \u001b[38;5;241m599\u001b[39m:\n\u001b[1;32m    258\u001b[0m         \u001b[38;5;28;01mraise\u001b[39;00m ServiceException(http_resp\u001b[38;5;241m=\u001b[39mr)\n\u001b[0;32m--> 260\u001b[0m     \u001b[38;5;28;01mraise\u001b[39;00m PineconeApiException(http_resp\u001b[38;5;241m=\u001b[39mr)\n\u001b[1;32m    262\u001b[0m \u001b[38;5;28;01mreturn\u001b[39;00m r\n",
      "\u001b[0;31mPineconeApiException\u001b[0m: (429)\nReason: Too Many Requests\nHTTP response headers: HTTPHeaderDict({'content-type': 'text/plain; charset=utf-8', 'access-control-allow-origin': '*', 'vary': 'origin,access-control-request-method,access-control-request-headers', 'access-control-expose-headers': '*', 'X-Cloud-Trace-Context': '2aca6d072469c97508c089e588a687f3', 'Date': 'Fri, 19 Jan 2024 06:17:29 GMT', 'Server': 'Google Frontend', 'Content-Length': '143', 'Via': '1.1 google', 'Alt-Svc': 'h3=\":443\"; ma=2592000,h3-29=\":443\"; ma=2592000'})\nHTTP response body: {\"error\":{\"code\":\"RESOURCE_EXHAUSTED\",\"message\":\"Capacity Reached. Increase your index quota or upgrade to create more indexes.\"},\"status\":429}\n"
     ]
    }
   ],
   "source": [
    "import time\n",
    "\n",
    "index_name = 'llama-2-rag'\n",
    "existing_indexes = [\n",
    "    index_info[\"name\"] for index_info in pc.list_indexes()\n",
    "]\n",
    "\n",
    "# check if index already exists (it shouldn't if this is first time)\n",
    "if index_name not in existing_indexes:\n",
    "    # if does not exist, create index\n",
    "    pc.create_index(\n",
    "        index_name,\n",
    "        dimension=1536,  # dimensionality of ada 002\n",
    "        metric='dotproduct',\n",
    "        spec=spec\n",
    "    )\n",
    "    # wait for index to be initialized\n",
    "    while not pc.describe_index(index_name).status['ready']:\n",
    "        time.sleep(1)\n",
    "\n",
    "# connect to index\n",
    "index = pc.Index(index_name)\n",
    "time.sleep(1)\n",
    "# view index stats\n",
    "index.describe_index_stats()"
   ]
  },
  {
   "attachments": {},
   "cell_type": "markdown",
   "metadata": {},
   "source": [
    "Our index is now ready but it's empty. It is a vector index, so it needs vectors. As mentioned, to create these vector embeddings we will OpenAI's `text-embedding-ada-002` model — we can access it via LangChain like so:"
   ]
  },
  {
   "cell_type": "code",
   "execution_count": null,
   "metadata": {},
   "outputs": [],
   "source": [
    "from langchain.embeddings.openai import OpenAIEmbeddings\n",
    "\n",
    "embed_model = OpenAIEmbeddings(model=\"text-embedding-ada-002\")"
   ]
  },
  {
   "attachments": {},
   "cell_type": "markdown",
   "metadata": {},
   "source": [
    "Using this model we can create embeddings like so:"
   ]
  },
  {
   "cell_type": "code",
   "execution_count": 20,
   "metadata": {},
   "outputs": [
    {
     "ename": "NameError",
     "evalue": "name 'embed_model' is not defined",
     "output_type": "error",
     "traceback": [
      "\u001b[0;31m---------------------------------------------------------------------------\u001b[0m",
      "\u001b[0;31mNameError\u001b[0m                                 Traceback (most recent call last)",
      "Cell \u001b[0;32mIn[20], line 6\u001b[0m\n\u001b[1;32m      1\u001b[0m texts \u001b[38;5;241m=\u001b[39m [\n\u001b[1;32m      2\u001b[0m     \u001b[38;5;124m'\u001b[39m\u001b[38;5;124mthis is the first chunk of text\u001b[39m\u001b[38;5;124m'\u001b[39m,\n\u001b[1;32m      3\u001b[0m     \u001b[38;5;124m'\u001b[39m\u001b[38;5;124mthen another second chunk of text is here\u001b[39m\u001b[38;5;124m'\u001b[39m\n\u001b[1;32m      4\u001b[0m ]\n\u001b[0;32m----> 6\u001b[0m res \u001b[38;5;241m=\u001b[39m \u001b[43membed_model\u001b[49m\u001b[38;5;241m.\u001b[39membed_documents(texts)\n\u001b[1;32m      7\u001b[0m \u001b[38;5;28mlen\u001b[39m(res), \u001b[38;5;28mlen\u001b[39m(res[\u001b[38;5;241m0\u001b[39m])\n",
      "\u001b[0;31mNameError\u001b[0m: name 'embed_model' is not defined"
     ]
    }
   ],
   "source": [
    "texts = [\n",
    "    'this is the first chunk of text',\n",
    "    'then another second chunk of text is here'\n",
    "]\n",
    "\n",
    "res = embed_model.embed_documents(texts)\n",
    "len(res), len(res[0])"
   ]
  },
  {
   "attachments": {},
   "cell_type": "markdown",
   "metadata": {},
   "source": [
    "From this we get two (aligning to our two chunks of text) 1536-dimensional embeddings.\n",
    "\n",
    "We're now ready to embed and index all our our data! We do this by looping through our dataset and embedding and inserting everything in batches."
   ]
  },
  {
   "cell_type": "code",
   "execution_count": 21,
   "metadata": {},
   "outputs": [
    {
     "data": {
      "application/vnd.jupyter.widget-view+json": {
       "model_id": "629ab2ddc4db4d97b8074b6d0280db9e",
       "version_major": 2,
       "version_minor": 0
      },
      "text/plain": [
       "  0%|          | 0/49 [00:00<?, ?it/s]"
      ]
     },
     "metadata": {},
     "output_type": "display_data"
    },
    {
     "ename": "NameError",
     "evalue": "name 'embed_model' is not defined",
     "output_type": "error",
     "traceback": [
      "\u001b[0;31m---------------------------------------------------------------------------\u001b[0m",
      "\u001b[0;31mNameError\u001b[0m                                 Traceback (most recent call last)",
      "Cell \u001b[0;32mIn[21], line 16\u001b[0m\n\u001b[1;32m     14\u001b[0m texts \u001b[38;5;241m=\u001b[39m [x[\u001b[38;5;124m'\u001b[39m\u001b[38;5;124mchunk\u001b[39m\u001b[38;5;124m'\u001b[39m] \u001b[38;5;28;01mfor\u001b[39;00m _, x \u001b[38;5;129;01min\u001b[39;00m batch\u001b[38;5;241m.\u001b[39miterrows()]\n\u001b[1;32m     15\u001b[0m \u001b[38;5;66;03m# embed text\u001b[39;00m\n\u001b[0;32m---> 16\u001b[0m embeds \u001b[38;5;241m=\u001b[39m \u001b[43membed_model\u001b[49m\u001b[38;5;241m.\u001b[39membed_documents(texts)\n\u001b[1;32m     17\u001b[0m \u001b[38;5;66;03m# get metadata to store in Pinecone\u001b[39;00m\n\u001b[1;32m     18\u001b[0m metadata \u001b[38;5;241m=\u001b[39m [\n\u001b[1;32m     19\u001b[0m     {\u001b[38;5;124m'\u001b[39m\u001b[38;5;124mtext\u001b[39m\u001b[38;5;124m'\u001b[39m: x[\u001b[38;5;124m'\u001b[39m\u001b[38;5;124mchunk\u001b[39m\u001b[38;5;124m'\u001b[39m],\n\u001b[1;32m     20\u001b[0m      \u001b[38;5;124m'\u001b[39m\u001b[38;5;124msource\u001b[39m\u001b[38;5;124m'\u001b[39m: x[\u001b[38;5;124m'\u001b[39m\u001b[38;5;124msource\u001b[39m\u001b[38;5;124m'\u001b[39m],\n\u001b[1;32m     21\u001b[0m      \u001b[38;5;124m'\u001b[39m\u001b[38;5;124mtitle\u001b[39m\u001b[38;5;124m'\u001b[39m: x[\u001b[38;5;124m'\u001b[39m\u001b[38;5;124mtitle\u001b[39m\u001b[38;5;124m'\u001b[39m]} \u001b[38;5;28;01mfor\u001b[39;00m i, x \u001b[38;5;129;01min\u001b[39;00m batch\u001b[38;5;241m.\u001b[39miterrows()\n\u001b[1;32m     22\u001b[0m ]\n",
      "\u001b[0;31mNameError\u001b[0m: name 'embed_model' is not defined"
     ]
    }
   ],
   "source": [
    "from tqdm.auto import tqdm  # for progress bar\n",
    "\n",
    "data = dataset.to_pandas()  # this makes it easier to iterate over the dataset\n",
    "\n",
    "batch_size = 100\n",
    "\n",
    "for i in tqdm(range(0, len(data), batch_size)):\n",
    "    i_end = min(len(data), i+batch_size)\n",
    "    # get batch of data\n",
    "    batch = data.iloc[i:i_end]\n",
    "    # generate unique ids for each chunk\n",
    "    ids = [f\"{x['doi']}-{x['chunk-id']}\" for i, x in batch.iterrows()]\n",
    "    # get text to embed\n",
    "    texts = [x['chunk'] for _, x in batch.iterrows()]\n",
    "    # embed text\n",
    "    embeds = embed_model.embed_documents(texts)\n",
    "    # get metadata to store in Pinecone\n",
    "    metadata = [\n",
    "        {'text': x['chunk'],\n",
    "         'source': x['source'],\n",
    "         'title': x['title']} for i, x in batch.iterrows()\n",
    "    ]\n",
    "    # add to Pinecone\n",
    "    index.upsert(vectors=zip(ids, embeds, metadata))"
   ]
  },
  {
   "attachments": {},
   "cell_type": "markdown",
   "metadata": {},
   "source": [
    "We can check that the vector index has been populated using `describe_index_stats` like before:"
   ]
  },
  {
   "cell_type": "code",
   "execution_count": 22,
   "metadata": {},
   "outputs": [
    {
     "ename": "NameError",
     "evalue": "name 'index' is not defined",
     "output_type": "error",
     "traceback": [
      "\u001b[0;31m---------------------------------------------------------------------------\u001b[0m",
      "\u001b[0;31mNameError\u001b[0m                                 Traceback (most recent call last)",
      "Cell \u001b[0;32mIn[22], line 1\u001b[0m\n\u001b[0;32m----> 1\u001b[0m \u001b[43mindex\u001b[49m\u001b[38;5;241m.\u001b[39mdescribe_index_stats()\n",
      "\u001b[0;31mNameError\u001b[0m: name 'index' is not defined"
     ]
    }
   ],
   "source": [
    "index.describe_index_stats()"
   ]
  },
  {
   "attachments": {},
   "cell_type": "markdown",
   "metadata": {},
   "source": [
    "#### Retrieval Augmented Generation"
   ]
  },
  {
   "attachments": {},
   "cell_type": "markdown",
   "metadata": {},
   "source": [
    "We've built a fully-fledged knowledge base. Now it's time to connect that knowledge base to our chatbot. To do that we'll be diving back into LangChain and reusing our template prompt from earlier."
   ]
  },
  {
   "attachments": {},
   "cell_type": "markdown",
   "metadata": {},
   "source": [
    "To use LangChain here we need to load the LangChain abstraction for a vector index, called a `vectorstore`. We pass in our vector `index` to initialize the object."
   ]
  },
  {
   "cell_type": "code",
   "execution_count": 23,
   "metadata": {},
   "outputs": [
    {
     "ename": "NameError",
     "evalue": "name 'index' is not defined",
     "output_type": "error",
     "traceback": [
      "\u001b[0;31m---------------------------------------------------------------------------\u001b[0m",
      "\u001b[0;31mNameError\u001b[0m                                 Traceback (most recent call last)",
      "Cell \u001b[0;32mIn[23], line 7\u001b[0m\n\u001b[1;32m      3\u001b[0m text_field \u001b[38;5;241m=\u001b[39m \u001b[38;5;124m\"\u001b[39m\u001b[38;5;124mtext\u001b[39m\u001b[38;5;124m\"\u001b[39m  \u001b[38;5;66;03m# the metadata field that contains our text\u001b[39;00m\n\u001b[1;32m      5\u001b[0m \u001b[38;5;66;03m# initialize the vector store object\u001b[39;00m\n\u001b[1;32m      6\u001b[0m vectorstore \u001b[38;5;241m=\u001b[39m Pinecone(\n\u001b[0;32m----> 7\u001b[0m     \u001b[43mindex\u001b[49m, embed_model\u001b[38;5;241m.\u001b[39membed_query, text_field\n\u001b[1;32m      8\u001b[0m )\n",
      "\u001b[0;31mNameError\u001b[0m: name 'index' is not defined"
     ]
    }
   ],
   "source": [
    "from langchain.vectorstores import Pinecone\n",
    "\n",
    "text_field = \"text\"  # the metadata field that contains our text\n",
    "\n",
    "# initialize the vector store object\n",
    "vectorstore = Pinecone(\n",
    "    index, embed_model.embed_query, text_field\n",
    ")"
   ]
  },
  {
   "attachments": {},
   "cell_type": "markdown",
   "metadata": {},
   "source": [
    "Using this `vectorstore` we can already query the index and see if we have any relevant information given our question about Llama 2."
   ]
  },
  {
   "cell_type": "code",
   "execution_count": 24,
   "metadata": {},
   "outputs": [
    {
     "ename": "NameError",
     "evalue": "name 'vectorstore' is not defined",
     "output_type": "error",
     "traceback": [
      "\u001b[0;31m---------------------------------------------------------------------------\u001b[0m",
      "\u001b[0;31mNameError\u001b[0m                                 Traceback (most recent call last)",
      "Cell \u001b[0;32mIn[24], line 3\u001b[0m\n\u001b[1;32m      1\u001b[0m query \u001b[38;5;241m=\u001b[39m \u001b[38;5;124m\"\u001b[39m\u001b[38;5;124mWhat is so special about Llama 2?\u001b[39m\u001b[38;5;124m\"\u001b[39m\n\u001b[0;32m----> 3\u001b[0m \u001b[43mvectorstore\u001b[49m\u001b[38;5;241m.\u001b[39msimilarity_search(query, k\u001b[38;5;241m=\u001b[39m\u001b[38;5;241m3\u001b[39m)\n",
      "\u001b[0;31mNameError\u001b[0m: name 'vectorstore' is not defined"
     ]
    }
   ],
   "source": [
    "query = \"What is so special about Llama 2?\"\n",
    "\n",
    "vectorstore.similarity_search(query, k=3)"
   ]
  },
  {
   "attachments": {},
   "cell_type": "markdown",
   "metadata": {},
   "source": [
    "We return a lot of text here and it's not that clear what we need or what is relevant. Fortunately, our LLM will be able to parse this information much faster than us. All we need is to connect the output from our `vectorstore` to our `chat` chatbot. To do that we can use the same logic as we used earlier."
   ]
  },
  {
   "cell_type": "code",
   "execution_count": 25,
   "metadata": {},
   "outputs": [],
   "source": [
    "def augment_prompt(query: str):\n",
    "    # get top 3 results from knowledge base\n",
    "    results = vectorstore.similarity_search(query, k=3)\n",
    "    # get the text from the results\n",
    "    source_knowledge = \"\\n\".join([x.page_content for x in results])\n",
    "    # feed into an augmented prompt\n",
    "    augmented_prompt = f\"\"\"Using the contexts below, answer the query.\n",
    "\n",
    "    Contexts:\n",
    "    {source_knowledge}\n",
    "\n",
    "    Query: {query}\"\"\"\n",
    "    return augmented_prompt"
   ]
  },
  {
   "attachments": {},
   "cell_type": "markdown",
   "metadata": {},
   "source": [
    "Using this we produce an augmented prompt:"
   ]
  },
  {
   "cell_type": "code",
   "execution_count": 26,
   "metadata": {},
   "outputs": [
    {
     "ename": "NameError",
     "evalue": "name 'vectorstore' is not defined",
     "output_type": "error",
     "traceback": [
      "\u001b[0;31m---------------------------------------------------------------------------\u001b[0m",
      "\u001b[0;31mNameError\u001b[0m                                 Traceback (most recent call last)",
      "Cell \u001b[0;32mIn[26], line 1\u001b[0m\n\u001b[0;32m----> 1\u001b[0m \u001b[38;5;28mprint\u001b[39m(\u001b[43maugment_prompt\u001b[49m\u001b[43m(\u001b[49m\u001b[43mquery\u001b[49m\u001b[43m)\u001b[49m)\n",
      "Cell \u001b[0;32mIn[25], line 3\u001b[0m, in \u001b[0;36maugment_prompt\u001b[0;34m(query)\u001b[0m\n\u001b[1;32m      1\u001b[0m \u001b[38;5;28;01mdef\u001b[39;00m \u001b[38;5;21maugment_prompt\u001b[39m(query: \u001b[38;5;28mstr\u001b[39m):\n\u001b[1;32m      2\u001b[0m     \u001b[38;5;66;03m# get top 3 results from knowledge base\u001b[39;00m\n\u001b[0;32m----> 3\u001b[0m     results \u001b[38;5;241m=\u001b[39m \u001b[43mvectorstore\u001b[49m\u001b[38;5;241m.\u001b[39msimilarity_search(query, k\u001b[38;5;241m=\u001b[39m\u001b[38;5;241m3\u001b[39m)\n\u001b[1;32m      4\u001b[0m     \u001b[38;5;66;03m# get the text from the results\u001b[39;00m\n\u001b[1;32m      5\u001b[0m     source_knowledge \u001b[38;5;241m=\u001b[39m \u001b[38;5;124m\"\u001b[39m\u001b[38;5;130;01m\\n\u001b[39;00m\u001b[38;5;124m\"\u001b[39m\u001b[38;5;241m.\u001b[39mjoin([x\u001b[38;5;241m.\u001b[39mpage_content \u001b[38;5;28;01mfor\u001b[39;00m x \u001b[38;5;129;01min\u001b[39;00m results])\n",
      "\u001b[0;31mNameError\u001b[0m: name 'vectorstore' is not defined"
     ]
    }
   ],
   "source": [
    "print(augment_prompt(query))"
   ]
  },
  {
   "attachments": {},
   "cell_type": "markdown",
   "metadata": {},
   "source": [
    "There is still a lot of text here, so let's pass it onto our chat model to see how it performs."
   ]
  },
  {
   "cell_type": "code",
   "execution_count": 27,
   "metadata": {},
   "outputs": [
    {
     "ename": "NameError",
     "evalue": "name 'vectorstore' is not defined",
     "output_type": "error",
     "traceback": [
      "\u001b[0;31m---------------------------------------------------------------------------\u001b[0m",
      "\u001b[0;31mNameError\u001b[0m                                 Traceback (most recent call last)",
      "Cell \u001b[0;32mIn[27], line 3\u001b[0m\n\u001b[1;32m      1\u001b[0m \u001b[38;5;66;03m# create a new user prompt\u001b[39;00m\n\u001b[1;32m      2\u001b[0m prompt \u001b[38;5;241m=\u001b[39m HumanMessage(\n\u001b[0;32m----> 3\u001b[0m     content\u001b[38;5;241m=\u001b[39m\u001b[43maugment_prompt\u001b[49m\u001b[43m(\u001b[49m\u001b[43mquery\u001b[49m\u001b[43m)\u001b[49m\n\u001b[1;32m      4\u001b[0m )\n\u001b[1;32m      5\u001b[0m \u001b[38;5;66;03m# add to messages\u001b[39;00m\n\u001b[1;32m      6\u001b[0m messages\u001b[38;5;241m.\u001b[39mappend(prompt)\n",
      "Cell \u001b[0;32mIn[25], line 3\u001b[0m, in \u001b[0;36maugment_prompt\u001b[0;34m(query)\u001b[0m\n\u001b[1;32m      1\u001b[0m \u001b[38;5;28;01mdef\u001b[39;00m \u001b[38;5;21maugment_prompt\u001b[39m(query: \u001b[38;5;28mstr\u001b[39m):\n\u001b[1;32m      2\u001b[0m     \u001b[38;5;66;03m# get top 3 results from knowledge base\u001b[39;00m\n\u001b[0;32m----> 3\u001b[0m     results \u001b[38;5;241m=\u001b[39m \u001b[43mvectorstore\u001b[49m\u001b[38;5;241m.\u001b[39msimilarity_search(query, k\u001b[38;5;241m=\u001b[39m\u001b[38;5;241m3\u001b[39m)\n\u001b[1;32m      4\u001b[0m     \u001b[38;5;66;03m# get the text from the results\u001b[39;00m\n\u001b[1;32m      5\u001b[0m     source_knowledge \u001b[38;5;241m=\u001b[39m \u001b[38;5;124m\"\u001b[39m\u001b[38;5;130;01m\\n\u001b[39;00m\u001b[38;5;124m\"\u001b[39m\u001b[38;5;241m.\u001b[39mjoin([x\u001b[38;5;241m.\u001b[39mpage_content \u001b[38;5;28;01mfor\u001b[39;00m x \u001b[38;5;129;01min\u001b[39;00m results])\n",
      "\u001b[0;31mNameError\u001b[0m: name 'vectorstore' is not defined"
     ]
    }
   ],
   "source": [
    "# create a new user prompt\n",
    "prompt = HumanMessage(\n",
    "    content=augment_prompt(query)\n",
    ")\n",
    "# add to messages\n",
    "messages.append(prompt)\n",
    "\n",
    "res = chat(messages)\n",
    "\n",
    "print(res.content)"
   ]
  },
  {
   "attachments": {},
   "cell_type": "markdown",
   "metadata": {},
   "source": [
    "We can continue with more Llama 2 questions. Let's try _without_ RAG first:"
   ]
  },
  {
   "cell_type": "code",
   "execution_count": 28,
   "metadata": {},
   "outputs": [
    {
     "name": "stdout",
     "output_type": "stream",
     "text": [
      "I apologize for the confusion, but based on the given contexts, there is no specific information available regarding the safety measures used in the development of \"LLama 2\" or any direct relation to safety measures. It's possible that \"LLama 2\" is not a widely known or referenced concept in the provided contexts. If you have any other questions or need assistance with a different topic, please let me know, and I'll be happy to help.\n"
     ]
    }
   ],
   "source": [
    "prompt = HumanMessage(\n",
    "    content=\"what safety measures were used in the development of llama 2?\"\n",
    ")\n",
    "\n",
    "res = chat(messages + [prompt])\n",
    "print(res.content)"
   ]
  },
  {
   "attachments": {},
   "cell_type": "markdown",
   "metadata": {},
   "source": [
    "The chatbot is able to respond about Llama 2 thanks to it's conversational history stored in `messages`. However, it doesn't know anything about the safety measures themselves as we have not provided it with that information via the RAG pipeline. Let's try again but with RAG."
   ]
  },
  {
   "cell_type": "code",
   "execution_count": 29,
   "metadata": {},
   "outputs": [
    {
     "ename": "NameError",
     "evalue": "name 'vectorstore' is not defined",
     "output_type": "error",
     "traceback": [
      "\u001b[0;31m---------------------------------------------------------------------------\u001b[0m",
      "\u001b[0;31mNameError\u001b[0m                                 Traceback (most recent call last)",
      "Cell \u001b[0;32mIn[29], line 2\u001b[0m\n\u001b[1;32m      1\u001b[0m prompt \u001b[38;5;241m=\u001b[39m HumanMessage(\n\u001b[0;32m----> 2\u001b[0m     content\u001b[38;5;241m=\u001b[39m\u001b[43maugment_prompt\u001b[49m\u001b[43m(\u001b[49m\n\u001b[1;32m      3\u001b[0m \u001b[43m        \u001b[49m\u001b[38;5;124;43m\"\u001b[39;49m\u001b[38;5;124;43mwhat safety measures were used in the development of llama 2?\u001b[39;49m\u001b[38;5;124;43m\"\u001b[39;49m\n\u001b[1;32m      4\u001b[0m \u001b[43m    \u001b[49m\u001b[43m)\u001b[49m\n\u001b[1;32m      5\u001b[0m )\n\u001b[1;32m      7\u001b[0m res \u001b[38;5;241m=\u001b[39m chat(messages \u001b[38;5;241m+\u001b[39m [prompt])\n\u001b[1;32m      8\u001b[0m \u001b[38;5;28mprint\u001b[39m(res\u001b[38;5;241m.\u001b[39mcontent)\n",
      "Cell \u001b[0;32mIn[25], line 3\u001b[0m, in \u001b[0;36maugment_prompt\u001b[0;34m(query)\u001b[0m\n\u001b[1;32m      1\u001b[0m \u001b[38;5;28;01mdef\u001b[39;00m \u001b[38;5;21maugment_prompt\u001b[39m(query: \u001b[38;5;28mstr\u001b[39m):\n\u001b[1;32m      2\u001b[0m     \u001b[38;5;66;03m# get top 3 results from knowledge base\u001b[39;00m\n\u001b[0;32m----> 3\u001b[0m     results \u001b[38;5;241m=\u001b[39m \u001b[43mvectorstore\u001b[49m\u001b[38;5;241m.\u001b[39msimilarity_search(query, k\u001b[38;5;241m=\u001b[39m\u001b[38;5;241m3\u001b[39m)\n\u001b[1;32m      4\u001b[0m     \u001b[38;5;66;03m# get the text from the results\u001b[39;00m\n\u001b[1;32m      5\u001b[0m     source_knowledge \u001b[38;5;241m=\u001b[39m \u001b[38;5;124m\"\u001b[39m\u001b[38;5;130;01m\\n\u001b[39;00m\u001b[38;5;124m\"\u001b[39m\u001b[38;5;241m.\u001b[39mjoin([x\u001b[38;5;241m.\u001b[39mpage_content \u001b[38;5;28;01mfor\u001b[39;00m x \u001b[38;5;129;01min\u001b[39;00m results])\n",
      "\u001b[0;31mNameError\u001b[0m: name 'vectorstore' is not defined"
     ]
    }
   ],
   "source": [
    "prompt = HumanMessage(\n",
    "    content=augment_prompt(\n",
    "        \"what safety measures were used in the development of llama 2?\"\n",
    "    )\n",
    ")\n",
    "\n",
    "res = chat(messages + [prompt])\n",
    "print(res.content)"
   ]
  },
  {
   "attachments": {},
   "cell_type": "markdown",
   "metadata": {},
   "source": [
    "We get a much more informed response that includes several items missing in the previous non-RAG response, such as \"red-teaming\", \"iterative evaluations\", and the intention of the researchers to share this research to help \"improve their safety, promoting responsible development in the field\"."
   ]
  },
  {
   "cell_type": "markdown",
   "metadata": {},
   "source": [
    "Delete the index to save resources:"
   ]
  },
  {
   "cell_type": "code",
   "execution_count": 30,
   "metadata": {},
   "outputs": [
    {
     "ename": "NotFoundException",
     "evalue": "(404)\nReason: Not Found\nHTTP response headers: HTTPHeaderDict({'content-type': 'text/plain; charset=utf-8', 'access-control-allow-origin': '*', 'vary': 'origin,access-control-request-method,access-control-request-headers', 'access-control-expose-headers': '*', 'X-Cloud-Trace-Context': 'd198b486b663a1396bb0f625d2dac8cc', 'Date': 'Fri, 19 Jan 2024 06:21:19 GMT', 'Server': 'Google Frontend', 'Content-Length': '86', 'Via': '1.1 google', 'Alt-Svc': 'h3=\":443\"; ma=2592000,h3-29=\":443\"; ma=2592000'})\nHTTP response body: {\"error\":{\"code\":\"NOT_FOUND\",\"message\":\"Resource llama-2-rag not found\"},\"status\":404}\n",
     "output_type": "error",
     "traceback": [
      "\u001b[0;31m---------------------------------------------------------------------------\u001b[0m",
      "\u001b[0;31mNotFoundException\u001b[0m                         Traceback (most recent call last)",
      "Cell \u001b[0;32mIn[30], line 1\u001b[0m\n\u001b[0;32m----> 1\u001b[0m \u001b[43mpc\u001b[49m\u001b[38;5;241;43m.\u001b[39;49m\u001b[43mdelete_index\u001b[49m\u001b[43m(\u001b[49m\u001b[43mindex_name\u001b[49m\u001b[43m)\u001b[49m\n",
      "File \u001b[0;32m~/miniconda3/envs/wk6/lib/python3.11/site-packages/pinecone/control/pinecone.py:229\u001b[0m, in \u001b[0;36mPinecone.delete_index\u001b[0;34m(self, name, timeout)\u001b[0m\n\u001b[1;32m    210\u001b[0m \u001b[38;5;250m\u001b[39m\u001b[38;5;124;03m\"\"\"Deletes a Pinecone index.\u001b[39;00m\n\u001b[1;32m    211\u001b[0m \n\u001b[1;32m    212\u001b[0m \u001b[38;5;124;03mDeleting an index is an irreversible operation. All data in the index will be lost.\u001b[39;00m\n\u001b[0;32m   (...)\u001b[0m\n\u001b[1;32m    226\u001b[0m \u001b[38;5;124;03m:type timeout: int, optional\u001b[39;00m\n\u001b[1;32m    227\u001b[0m \u001b[38;5;124;03m\"\"\"\u001b[39;00m\n\u001b[1;32m    228\u001b[0m api_instance \u001b[38;5;241m=\u001b[39m \u001b[38;5;28mself\u001b[39m\u001b[38;5;241m.\u001b[39mindex_api\n\u001b[0;32m--> 229\u001b[0m \u001b[43mapi_instance\u001b[49m\u001b[38;5;241;43m.\u001b[39;49m\u001b[43mdelete_index\u001b[49m\u001b[43m(\u001b[49m\u001b[43mname\u001b[49m\u001b[43m)\u001b[49m\n\u001b[1;32m    230\u001b[0m \u001b[38;5;28mself\u001b[39m\u001b[38;5;241m.\u001b[39mindex_host_store\u001b[38;5;241m.\u001b[39mdelete_host(\u001b[38;5;28mself\u001b[39m\u001b[38;5;241m.\u001b[39mconfig, name)\n\u001b[1;32m    232\u001b[0m \u001b[38;5;28;01mdef\u001b[39;00m \u001b[38;5;21mget_remaining\u001b[39m():\n",
      "File \u001b[0;32m~/miniconda3/envs/wk6/lib/python3.11/site-packages/pinecone/core/client/api_client.py:771\u001b[0m, in \u001b[0;36mEndpoint.__call__\u001b[0;34m(self, *args, **kwargs)\u001b[0m\n\u001b[1;32m    760\u001b[0m \u001b[38;5;28;01mdef\u001b[39;00m \u001b[38;5;21m__call__\u001b[39m(\u001b[38;5;28mself\u001b[39m, \u001b[38;5;241m*\u001b[39margs, \u001b[38;5;241m*\u001b[39m\u001b[38;5;241m*\u001b[39mkwargs):\n\u001b[1;32m    761\u001b[0m \u001b[38;5;250m    \u001b[39m\u001b[38;5;124;03m\"\"\" This method is invoked when endpoints are called\u001b[39;00m\n\u001b[1;32m    762\u001b[0m \u001b[38;5;124;03m    Example:\u001b[39;00m\n\u001b[1;32m    763\u001b[0m \n\u001b[0;32m   (...)\u001b[0m\n\u001b[1;32m    769\u001b[0m \n\u001b[1;32m    770\u001b[0m \u001b[38;5;124;03m    \"\"\"\u001b[39;00m\n\u001b[0;32m--> 771\u001b[0m     \u001b[38;5;28;01mreturn\u001b[39;00m \u001b[38;5;28;43mself\u001b[39;49m\u001b[38;5;241;43m.\u001b[39;49m\u001b[43mcallable\u001b[49m\u001b[43m(\u001b[49m\u001b[38;5;28;43mself\u001b[39;49m\u001b[43m,\u001b[49m\u001b[43m \u001b[49m\u001b[38;5;241;43m*\u001b[39;49m\u001b[43margs\u001b[49m\u001b[43m,\u001b[49m\u001b[43m \u001b[49m\u001b[38;5;241;43m*\u001b[39;49m\u001b[38;5;241;43m*\u001b[39;49m\u001b[43mkwargs\u001b[49m\u001b[43m)\u001b[49m\n",
      "File \u001b[0;32m~/miniconda3/envs/wk6/lib/python3.11/site-packages/pinecone/core/client/api/manage_indexes_api.py:620\u001b[0m, in \u001b[0;36mManageIndexesApi.__init__.<locals>.__delete_index\u001b[0;34m(self, index_name, **kwargs)\u001b[0m\n\u001b[1;32m    617\u001b[0m kwargs[\u001b[38;5;124m'\u001b[39m\u001b[38;5;124m_host_index\u001b[39m\u001b[38;5;124m'\u001b[39m] \u001b[38;5;241m=\u001b[39m kwargs\u001b[38;5;241m.\u001b[39mget(\u001b[38;5;124m'\u001b[39m\u001b[38;5;124m_host_index\u001b[39m\u001b[38;5;124m'\u001b[39m)\n\u001b[1;32m    618\u001b[0m kwargs[\u001b[38;5;124m'\u001b[39m\u001b[38;5;124mindex_name\u001b[39m\u001b[38;5;124m'\u001b[39m] \u001b[38;5;241m=\u001b[39m \\\n\u001b[1;32m    619\u001b[0m     index_name\n\u001b[0;32m--> 620\u001b[0m \u001b[38;5;28;01mreturn\u001b[39;00m \u001b[38;5;28;43mself\u001b[39;49m\u001b[38;5;241;43m.\u001b[39;49m\u001b[43mcall_with_http_info\u001b[49m\u001b[43m(\u001b[49m\u001b[38;5;241;43m*\u001b[39;49m\u001b[38;5;241;43m*\u001b[39;49m\u001b[43mkwargs\u001b[49m\u001b[43m)\u001b[49m\n",
      "File \u001b[0;32m~/miniconda3/envs/wk6/lib/python3.11/site-packages/pinecone/core/client/api_client.py:833\u001b[0m, in \u001b[0;36mEndpoint.call_with_http_info\u001b[0;34m(self, **kwargs)\u001b[0m\n\u001b[1;32m    829\u001b[0m     header_list \u001b[38;5;241m=\u001b[39m \u001b[38;5;28mself\u001b[39m\u001b[38;5;241m.\u001b[39mapi_client\u001b[38;5;241m.\u001b[39mselect_header_content_type(\n\u001b[1;32m    830\u001b[0m         content_type_headers_list)\n\u001b[1;32m    831\u001b[0m     params[\u001b[38;5;124m'\u001b[39m\u001b[38;5;124mheader\u001b[39m\u001b[38;5;124m'\u001b[39m][\u001b[38;5;124m'\u001b[39m\u001b[38;5;124mContent-Type\u001b[39m\u001b[38;5;124m'\u001b[39m] \u001b[38;5;241m=\u001b[39m header_list\n\u001b[0;32m--> 833\u001b[0m \u001b[38;5;28;01mreturn\u001b[39;00m \u001b[38;5;28;43mself\u001b[39;49m\u001b[38;5;241;43m.\u001b[39;49m\u001b[43mapi_client\u001b[49m\u001b[38;5;241;43m.\u001b[39;49m\u001b[43mcall_api\u001b[49m\u001b[43m(\u001b[49m\n\u001b[1;32m    834\u001b[0m \u001b[43m    \u001b[49m\u001b[38;5;28;43mself\u001b[39;49m\u001b[38;5;241;43m.\u001b[39;49m\u001b[43msettings\u001b[49m\u001b[43m[\u001b[49m\u001b[38;5;124;43m'\u001b[39;49m\u001b[38;5;124;43mendpoint_path\u001b[39;49m\u001b[38;5;124;43m'\u001b[39;49m\u001b[43m]\u001b[49m\u001b[43m,\u001b[49m\u001b[43m \u001b[49m\u001b[38;5;28;43mself\u001b[39;49m\u001b[38;5;241;43m.\u001b[39;49m\u001b[43msettings\u001b[49m\u001b[43m[\u001b[49m\u001b[38;5;124;43m'\u001b[39;49m\u001b[38;5;124;43mhttp_method\u001b[39;49m\u001b[38;5;124;43m'\u001b[39;49m\u001b[43m]\u001b[49m\u001b[43m,\u001b[49m\n\u001b[1;32m    835\u001b[0m \u001b[43m    \u001b[49m\u001b[43mparams\u001b[49m\u001b[43m[\u001b[49m\u001b[38;5;124;43m'\u001b[39;49m\u001b[38;5;124;43mpath\u001b[39;49m\u001b[38;5;124;43m'\u001b[39;49m\u001b[43m]\u001b[49m\u001b[43m,\u001b[49m\n\u001b[1;32m    836\u001b[0m \u001b[43m    \u001b[49m\u001b[43mparams\u001b[49m\u001b[43m[\u001b[49m\u001b[38;5;124;43m'\u001b[39;49m\u001b[38;5;124;43mquery\u001b[39;49m\u001b[38;5;124;43m'\u001b[39;49m\u001b[43m]\u001b[49m\u001b[43m,\u001b[49m\n\u001b[1;32m    837\u001b[0m \u001b[43m    \u001b[49m\u001b[43mparams\u001b[49m\u001b[43m[\u001b[49m\u001b[38;5;124;43m'\u001b[39;49m\u001b[38;5;124;43mheader\u001b[39;49m\u001b[38;5;124;43m'\u001b[39;49m\u001b[43m]\u001b[49m\u001b[43m,\u001b[49m\n\u001b[1;32m    838\u001b[0m \u001b[43m    \u001b[49m\u001b[43mbody\u001b[49m\u001b[38;5;241;43m=\u001b[39;49m\u001b[43mparams\u001b[49m\u001b[43m[\u001b[49m\u001b[38;5;124;43m'\u001b[39;49m\u001b[38;5;124;43mbody\u001b[39;49m\u001b[38;5;124;43m'\u001b[39;49m\u001b[43m]\u001b[49m\u001b[43m,\u001b[49m\n\u001b[1;32m    839\u001b[0m \u001b[43m    \u001b[49m\u001b[43mpost_params\u001b[49m\u001b[38;5;241;43m=\u001b[39;49m\u001b[43mparams\u001b[49m\u001b[43m[\u001b[49m\u001b[38;5;124;43m'\u001b[39;49m\u001b[38;5;124;43mform\u001b[39;49m\u001b[38;5;124;43m'\u001b[39;49m\u001b[43m]\u001b[49m\u001b[43m,\u001b[49m\n\u001b[1;32m    840\u001b[0m \u001b[43m    \u001b[49m\u001b[43mfiles\u001b[49m\u001b[38;5;241;43m=\u001b[39;49m\u001b[43mparams\u001b[49m\u001b[43m[\u001b[49m\u001b[38;5;124;43m'\u001b[39;49m\u001b[38;5;124;43mfile\u001b[39;49m\u001b[38;5;124;43m'\u001b[39;49m\u001b[43m]\u001b[49m\u001b[43m,\u001b[49m\n\u001b[1;32m    841\u001b[0m \u001b[43m    \u001b[49m\u001b[43mresponse_type\u001b[49m\u001b[38;5;241;43m=\u001b[39;49m\u001b[38;5;28;43mself\u001b[39;49m\u001b[38;5;241;43m.\u001b[39;49m\u001b[43msettings\u001b[49m\u001b[43m[\u001b[49m\u001b[38;5;124;43m'\u001b[39;49m\u001b[38;5;124;43mresponse_type\u001b[39;49m\u001b[38;5;124;43m'\u001b[39;49m\u001b[43m]\u001b[49m\u001b[43m,\u001b[49m\n\u001b[1;32m    842\u001b[0m \u001b[43m    \u001b[49m\u001b[43mauth_settings\u001b[49m\u001b[38;5;241;43m=\u001b[39;49m\u001b[38;5;28;43mself\u001b[39;49m\u001b[38;5;241;43m.\u001b[39;49m\u001b[43msettings\u001b[49m\u001b[43m[\u001b[49m\u001b[38;5;124;43m'\u001b[39;49m\u001b[38;5;124;43mauth\u001b[39;49m\u001b[38;5;124;43m'\u001b[39;49m\u001b[43m]\u001b[49m\u001b[43m,\u001b[49m\n\u001b[1;32m    843\u001b[0m \u001b[43m    \u001b[49m\u001b[43masync_req\u001b[49m\u001b[38;5;241;43m=\u001b[39;49m\u001b[43mkwargs\u001b[49m\u001b[43m[\u001b[49m\u001b[38;5;124;43m'\u001b[39;49m\u001b[38;5;124;43masync_req\u001b[39;49m\u001b[38;5;124;43m'\u001b[39;49m\u001b[43m]\u001b[49m\u001b[43m,\u001b[49m\n\u001b[1;32m    844\u001b[0m \u001b[43m    \u001b[49m\u001b[43m_check_type\u001b[49m\u001b[38;5;241;43m=\u001b[39;49m\u001b[43mkwargs\u001b[49m\u001b[43m[\u001b[49m\u001b[38;5;124;43m'\u001b[39;49m\u001b[38;5;124;43m_check_return_type\u001b[39;49m\u001b[38;5;124;43m'\u001b[39;49m\u001b[43m]\u001b[49m\u001b[43m,\u001b[49m\n\u001b[1;32m    845\u001b[0m \u001b[43m    \u001b[49m\u001b[43m_return_http_data_only\u001b[49m\u001b[38;5;241;43m=\u001b[39;49m\u001b[43mkwargs\u001b[49m\u001b[43m[\u001b[49m\u001b[38;5;124;43m'\u001b[39;49m\u001b[38;5;124;43m_return_http_data_only\u001b[39;49m\u001b[38;5;124;43m'\u001b[39;49m\u001b[43m]\u001b[49m\u001b[43m,\u001b[49m\n\u001b[1;32m    846\u001b[0m \u001b[43m    \u001b[49m\u001b[43m_preload_content\u001b[49m\u001b[38;5;241;43m=\u001b[39;49m\u001b[43mkwargs\u001b[49m\u001b[43m[\u001b[49m\u001b[38;5;124;43m'\u001b[39;49m\u001b[38;5;124;43m_preload_content\u001b[39;49m\u001b[38;5;124;43m'\u001b[39;49m\u001b[43m]\u001b[49m\u001b[43m,\u001b[49m\n\u001b[1;32m    847\u001b[0m \u001b[43m    \u001b[49m\u001b[43m_request_timeout\u001b[49m\u001b[38;5;241;43m=\u001b[39;49m\u001b[43mkwargs\u001b[49m\u001b[43m[\u001b[49m\u001b[38;5;124;43m'\u001b[39;49m\u001b[38;5;124;43m_request_timeout\u001b[39;49m\u001b[38;5;124;43m'\u001b[39;49m\u001b[43m]\u001b[49m\u001b[43m,\u001b[49m\n\u001b[1;32m    848\u001b[0m \u001b[43m    \u001b[49m\u001b[43m_host\u001b[49m\u001b[38;5;241;43m=\u001b[39;49m\u001b[43m_host\u001b[49m\u001b[43m,\u001b[49m\n\u001b[1;32m    849\u001b[0m \u001b[43m    \u001b[49m\u001b[43mcollection_formats\u001b[49m\u001b[38;5;241;43m=\u001b[39;49m\u001b[43mparams\u001b[49m\u001b[43m[\u001b[49m\u001b[38;5;124;43m'\u001b[39;49m\u001b[38;5;124;43mcollection_format\u001b[39;49m\u001b[38;5;124;43m'\u001b[39;49m\u001b[43m]\u001b[49m\u001b[43m)\u001b[49m\n",
      "File \u001b[0;32m~/miniconda3/envs/wk6/lib/python3.11/site-packages/pinecone/core/client/api_client.py:408\u001b[0m, in \u001b[0;36mApiClient.call_api\u001b[0;34m(self, resource_path, method, path_params, query_params, header_params, body, post_params, files, response_type, auth_settings, async_req, _return_http_data_only, collection_formats, _preload_content, _request_timeout, _host, _check_type)\u001b[0m\n\u001b[1;32m    354\u001b[0m \u001b[38;5;250m\u001b[39m\u001b[38;5;124;03m\"\"\"Makes the HTTP request (synchronous) and returns deserialized data.\u001b[39;00m\n\u001b[1;32m    355\u001b[0m \n\u001b[1;32m    356\u001b[0m \u001b[38;5;124;03mTo make an async_req request, set the async_req parameter.\u001b[39;00m\n\u001b[0;32m   (...)\u001b[0m\n\u001b[1;32m    405\u001b[0m \u001b[38;5;124;03m    then the method will return the response directly.\u001b[39;00m\n\u001b[1;32m    406\u001b[0m \u001b[38;5;124;03m\"\"\"\u001b[39;00m\n\u001b[1;32m    407\u001b[0m \u001b[38;5;28;01mif\u001b[39;00m \u001b[38;5;129;01mnot\u001b[39;00m async_req:\n\u001b[0;32m--> 408\u001b[0m     \u001b[38;5;28;01mreturn\u001b[39;00m \u001b[38;5;28;43mself\u001b[39;49m\u001b[38;5;241;43m.\u001b[39;49m\u001b[43m__call_api\u001b[49m\u001b[43m(\u001b[49m\u001b[43mresource_path\u001b[49m\u001b[43m,\u001b[49m\u001b[43m \u001b[49m\u001b[43mmethod\u001b[49m\u001b[43m,\u001b[49m\n\u001b[1;32m    409\u001b[0m \u001b[43m                           \u001b[49m\u001b[43mpath_params\u001b[49m\u001b[43m,\u001b[49m\u001b[43m \u001b[49m\u001b[43mquery_params\u001b[49m\u001b[43m,\u001b[49m\u001b[43m \u001b[49m\u001b[43mheader_params\u001b[49m\u001b[43m,\u001b[49m\n\u001b[1;32m    410\u001b[0m \u001b[43m                           \u001b[49m\u001b[43mbody\u001b[49m\u001b[43m,\u001b[49m\u001b[43m \u001b[49m\u001b[43mpost_params\u001b[49m\u001b[43m,\u001b[49m\u001b[43m \u001b[49m\u001b[43mfiles\u001b[49m\u001b[43m,\u001b[49m\n\u001b[1;32m    411\u001b[0m \u001b[43m                           \u001b[49m\u001b[43mresponse_type\u001b[49m\u001b[43m,\u001b[49m\u001b[43m \u001b[49m\u001b[43mauth_settings\u001b[49m\u001b[43m,\u001b[49m\n\u001b[1;32m    412\u001b[0m \u001b[43m                           \u001b[49m\u001b[43m_return_http_data_only\u001b[49m\u001b[43m,\u001b[49m\u001b[43m \u001b[49m\u001b[43mcollection_formats\u001b[49m\u001b[43m,\u001b[49m\n\u001b[1;32m    413\u001b[0m \u001b[43m                           \u001b[49m\u001b[43m_preload_content\u001b[49m\u001b[43m,\u001b[49m\u001b[43m \u001b[49m\u001b[43m_request_timeout\u001b[49m\u001b[43m,\u001b[49m\u001b[43m \u001b[49m\u001b[43m_host\u001b[49m\u001b[43m,\u001b[49m\n\u001b[1;32m    414\u001b[0m \u001b[43m                           \u001b[49m\u001b[43m_check_type\u001b[49m\u001b[43m)\u001b[49m\n\u001b[1;32m    416\u001b[0m \u001b[38;5;28;01mreturn\u001b[39;00m \u001b[38;5;28mself\u001b[39m\u001b[38;5;241m.\u001b[39mpool\u001b[38;5;241m.\u001b[39mapply_async(\u001b[38;5;28mself\u001b[39m\u001b[38;5;241m.\u001b[39m__call_api, (resource_path,\n\u001b[1;32m    417\u001b[0m                                                method, path_params,\n\u001b[1;32m    418\u001b[0m                                                query_params,\n\u001b[0;32m   (...)\u001b[0m\n\u001b[1;32m    426\u001b[0m                                                _request_timeout,\n\u001b[1;32m    427\u001b[0m                                                _host, _check_type))\n",
      "File \u001b[0;32m~/miniconda3/envs/wk6/lib/python3.11/site-packages/pinecone/core/client/api_client.py:202\u001b[0m, in \u001b[0;36mApiClient.__call_api\u001b[0;34m(self, resource_path, method, path_params, query_params, header_params, body, post_params, files, response_type, auth_settings, _return_http_data_only, collection_formats, _preload_content, _request_timeout, _host, _check_type)\u001b[0m\n\u001b[1;32m    200\u001b[0m \u001b[38;5;28;01mexcept\u001b[39;00m PineconeApiException \u001b[38;5;28;01mas\u001b[39;00m e:\n\u001b[1;32m    201\u001b[0m     e\u001b[38;5;241m.\u001b[39mbody \u001b[38;5;241m=\u001b[39m e\u001b[38;5;241m.\u001b[39mbody\u001b[38;5;241m.\u001b[39mdecode(\u001b[38;5;124m'\u001b[39m\u001b[38;5;124mutf-8\u001b[39m\u001b[38;5;124m'\u001b[39m)\n\u001b[0;32m--> 202\u001b[0m     \u001b[38;5;28;01mraise\u001b[39;00m e\n\u001b[1;32m    204\u001b[0m \u001b[38;5;28mself\u001b[39m\u001b[38;5;241m.\u001b[39mlast_response \u001b[38;5;241m=\u001b[39m response_data\n\u001b[1;32m    206\u001b[0m return_data \u001b[38;5;241m=\u001b[39m response_data\n",
      "File \u001b[0;32m~/miniconda3/envs/wk6/lib/python3.11/site-packages/pinecone/core/client/api_client.py:195\u001b[0m, in \u001b[0;36mApiClient.__call_api\u001b[0;34m(self, resource_path, method, path_params, query_params, header_params, body, post_params, files, response_type, auth_settings, _return_http_data_only, collection_formats, _preload_content, _request_timeout, _host, _check_type)\u001b[0m\n\u001b[1;32m    191\u001b[0m     url \u001b[38;5;241m=\u001b[39m _host \u001b[38;5;241m+\u001b[39m resource_path\n\u001b[1;32m    193\u001b[0m \u001b[38;5;28;01mtry\u001b[39;00m:\n\u001b[1;32m    194\u001b[0m     \u001b[38;5;66;03m# perform request and return response\u001b[39;00m\n\u001b[0;32m--> 195\u001b[0m     response_data \u001b[38;5;241m=\u001b[39m \u001b[38;5;28;43mself\u001b[39;49m\u001b[38;5;241;43m.\u001b[39;49m\u001b[43mrequest\u001b[49m\u001b[43m(\u001b[49m\n\u001b[1;32m    196\u001b[0m \u001b[43m        \u001b[49m\u001b[43mmethod\u001b[49m\u001b[43m,\u001b[49m\u001b[43m \u001b[49m\u001b[43murl\u001b[49m\u001b[43m,\u001b[49m\u001b[43m \u001b[49m\u001b[43mquery_params\u001b[49m\u001b[38;5;241;43m=\u001b[39;49m\u001b[43mquery_params\u001b[49m\u001b[43m,\u001b[49m\u001b[43m \u001b[49m\u001b[43mheaders\u001b[49m\u001b[38;5;241;43m=\u001b[39;49m\u001b[43mheader_params\u001b[49m\u001b[43m,\u001b[49m\n\u001b[1;32m    197\u001b[0m \u001b[43m        \u001b[49m\u001b[43mpost_params\u001b[49m\u001b[38;5;241;43m=\u001b[39;49m\u001b[43mpost_params\u001b[49m\u001b[43m,\u001b[49m\u001b[43m \u001b[49m\u001b[43mbody\u001b[49m\u001b[38;5;241;43m=\u001b[39;49m\u001b[43mbody\u001b[49m\u001b[43m,\u001b[49m\n\u001b[1;32m    198\u001b[0m \u001b[43m        \u001b[49m\u001b[43m_preload_content\u001b[49m\u001b[38;5;241;43m=\u001b[39;49m\u001b[43m_preload_content\u001b[49m\u001b[43m,\u001b[49m\n\u001b[1;32m    199\u001b[0m \u001b[43m        \u001b[49m\u001b[43m_request_timeout\u001b[49m\u001b[38;5;241;43m=\u001b[39;49m\u001b[43m_request_timeout\u001b[49m\u001b[43m)\u001b[49m\n\u001b[1;32m    200\u001b[0m \u001b[38;5;28;01mexcept\u001b[39;00m PineconeApiException \u001b[38;5;28;01mas\u001b[39;00m e:\n\u001b[1;32m    201\u001b[0m     e\u001b[38;5;241m.\u001b[39mbody \u001b[38;5;241m=\u001b[39m e\u001b[38;5;241m.\u001b[39mbody\u001b[38;5;241m.\u001b[39mdecode(\u001b[38;5;124m'\u001b[39m\u001b[38;5;124mutf-8\u001b[39m\u001b[38;5;124m'\u001b[39m)\n",
      "File \u001b[0;32m~/miniconda3/envs/wk6/lib/python3.11/site-packages/pinecone/core/client/api_client.py:478\u001b[0m, in \u001b[0;36mApiClient.request\u001b[0;34m(self, method, url, query_params, headers, post_params, body, _preload_content, _request_timeout)\u001b[0m\n\u001b[1;32m    470\u001b[0m     \u001b[38;5;28;01mreturn\u001b[39;00m \u001b[38;5;28mself\u001b[39m\u001b[38;5;241m.\u001b[39mrest_client\u001b[38;5;241m.\u001b[39mPATCH(url,\n\u001b[1;32m    471\u001b[0m                                   query_params\u001b[38;5;241m=\u001b[39mquery_params,\n\u001b[1;32m    472\u001b[0m                                   headers\u001b[38;5;241m=\u001b[39mheaders,\n\u001b[0;32m   (...)\u001b[0m\n\u001b[1;32m    475\u001b[0m                                   _request_timeout\u001b[38;5;241m=\u001b[39m_request_timeout,\n\u001b[1;32m    476\u001b[0m                                   body\u001b[38;5;241m=\u001b[39mbody)\n\u001b[1;32m    477\u001b[0m \u001b[38;5;28;01melif\u001b[39;00m method \u001b[38;5;241m==\u001b[39m \u001b[38;5;124m\"\u001b[39m\u001b[38;5;124mDELETE\u001b[39m\u001b[38;5;124m\"\u001b[39m:\n\u001b[0;32m--> 478\u001b[0m     \u001b[38;5;28;01mreturn\u001b[39;00m \u001b[38;5;28;43mself\u001b[39;49m\u001b[38;5;241;43m.\u001b[39;49m\u001b[43mrest_client\u001b[49m\u001b[38;5;241;43m.\u001b[39;49m\u001b[43mDELETE\u001b[49m\u001b[43m(\u001b[49m\u001b[43murl\u001b[49m\u001b[43m,\u001b[49m\n\u001b[1;32m    479\u001b[0m \u001b[43m                                   \u001b[49m\u001b[43mquery_params\u001b[49m\u001b[38;5;241;43m=\u001b[39;49m\u001b[43mquery_params\u001b[49m\u001b[43m,\u001b[49m\n\u001b[1;32m    480\u001b[0m \u001b[43m                                   \u001b[49m\u001b[43mheaders\u001b[49m\u001b[38;5;241;43m=\u001b[39;49m\u001b[43mheaders\u001b[49m\u001b[43m,\u001b[49m\n\u001b[1;32m    481\u001b[0m \u001b[43m                                   \u001b[49m\u001b[43m_preload_content\u001b[49m\u001b[38;5;241;43m=\u001b[39;49m\u001b[43m_preload_content\u001b[49m\u001b[43m,\u001b[49m\n\u001b[1;32m    482\u001b[0m \u001b[43m                                   \u001b[49m\u001b[43m_request_timeout\u001b[49m\u001b[38;5;241;43m=\u001b[39;49m\u001b[43m_request_timeout\u001b[49m\u001b[43m,\u001b[49m\n\u001b[1;32m    483\u001b[0m \u001b[43m                                   \u001b[49m\u001b[43mbody\u001b[49m\u001b[38;5;241;43m=\u001b[39;49m\u001b[43mbody\u001b[49m\u001b[43m)\u001b[49m\n\u001b[1;32m    484\u001b[0m \u001b[38;5;28;01melse\u001b[39;00m:\n\u001b[1;32m    485\u001b[0m     \u001b[38;5;28;01mraise\u001b[39;00m PineconeApiValueError(\n\u001b[1;32m    486\u001b[0m         \u001b[38;5;124m\"\u001b[39m\u001b[38;5;124mhttp method must be `GET`, `HEAD`, `OPTIONS`,\u001b[39m\u001b[38;5;124m\"\u001b[39m\n\u001b[1;32m    487\u001b[0m         \u001b[38;5;124m\"\u001b[39m\u001b[38;5;124m `POST`, `PATCH`, `PUT` or `DELETE`.\u001b[39m\u001b[38;5;124m\"\u001b[39m\n\u001b[1;32m    488\u001b[0m     )\n",
      "File \u001b[0;32m~/miniconda3/envs/wk6/lib/python3.11/site-packages/pinecone/core/client/rest.py:292\u001b[0m, in \u001b[0;36mRESTClientObject.DELETE\u001b[0;34m(self, url, headers, query_params, body, _preload_content, _request_timeout)\u001b[0m\n\u001b[1;32m    290\u001b[0m \u001b[38;5;28;01mdef\u001b[39;00m \u001b[38;5;21mDELETE\u001b[39m(\u001b[38;5;28mself\u001b[39m, url, headers\u001b[38;5;241m=\u001b[39m\u001b[38;5;28;01mNone\u001b[39;00m, query_params\u001b[38;5;241m=\u001b[39m\u001b[38;5;28;01mNone\u001b[39;00m, body\u001b[38;5;241m=\u001b[39m\u001b[38;5;28;01mNone\u001b[39;00m,\n\u001b[1;32m    291\u001b[0m            _preload_content\u001b[38;5;241m=\u001b[39m\u001b[38;5;28;01mTrue\u001b[39;00m, _request_timeout\u001b[38;5;241m=\u001b[39m\u001b[38;5;28;01mNone\u001b[39;00m):\n\u001b[0;32m--> 292\u001b[0m     \u001b[38;5;28;01mreturn\u001b[39;00m \u001b[38;5;28;43mself\u001b[39;49m\u001b[38;5;241;43m.\u001b[39;49m\u001b[43mrequest\u001b[49m\u001b[43m(\u001b[49m\u001b[38;5;124;43m\"\u001b[39;49m\u001b[38;5;124;43mDELETE\u001b[39;49m\u001b[38;5;124;43m\"\u001b[39;49m\u001b[43m,\u001b[49m\u001b[43m \u001b[49m\u001b[43murl\u001b[49m\u001b[43m,\u001b[49m\n\u001b[1;32m    293\u001b[0m \u001b[43m                        \u001b[49m\u001b[43mheaders\u001b[49m\u001b[38;5;241;43m=\u001b[39;49m\u001b[43mheaders\u001b[49m\u001b[43m,\u001b[49m\n\u001b[1;32m    294\u001b[0m \u001b[43m                        \u001b[49m\u001b[43mquery_params\u001b[49m\u001b[38;5;241;43m=\u001b[39;49m\u001b[43mquery_params\u001b[49m\u001b[43m,\u001b[49m\n\u001b[1;32m    295\u001b[0m \u001b[43m                        \u001b[49m\u001b[43m_preload_content\u001b[49m\u001b[38;5;241;43m=\u001b[39;49m\u001b[43m_preload_content\u001b[49m\u001b[43m,\u001b[49m\n\u001b[1;32m    296\u001b[0m \u001b[43m                        \u001b[49m\u001b[43m_request_timeout\u001b[49m\u001b[38;5;241;43m=\u001b[39;49m\u001b[43m_request_timeout\u001b[49m\u001b[43m,\u001b[49m\n\u001b[1;32m    297\u001b[0m \u001b[43m                        \u001b[49m\u001b[43mbody\u001b[49m\u001b[38;5;241;43m=\u001b[39;49m\u001b[43mbody\u001b[49m\u001b[43m)\u001b[49m\n",
      "File \u001b[0;32m~/miniconda3/envs/wk6/lib/python3.11/site-packages/pinecone/core/client/rest.py:255\u001b[0m, in \u001b[0;36mRESTClientObject.request\u001b[0;34m(self, method, url, query_params, headers, body, post_params, _preload_content, _request_timeout)\u001b[0m\n\u001b[1;32m    252\u001b[0m     \u001b[38;5;28;01mraise\u001b[39;00m ForbiddenException(http_resp\u001b[38;5;241m=\u001b[39mr)\n\u001b[1;32m    254\u001b[0m \u001b[38;5;28;01mif\u001b[39;00m r\u001b[38;5;241m.\u001b[39mstatus \u001b[38;5;241m==\u001b[39m \u001b[38;5;241m404\u001b[39m:\n\u001b[0;32m--> 255\u001b[0m     \u001b[38;5;28;01mraise\u001b[39;00m NotFoundException(http_resp\u001b[38;5;241m=\u001b[39mr)\n\u001b[1;32m    257\u001b[0m \u001b[38;5;28;01mif\u001b[39;00m \u001b[38;5;241m500\u001b[39m \u001b[38;5;241m<\u001b[39m\u001b[38;5;241m=\u001b[39m r\u001b[38;5;241m.\u001b[39mstatus \u001b[38;5;241m<\u001b[39m\u001b[38;5;241m=\u001b[39m \u001b[38;5;241m599\u001b[39m:\n\u001b[1;32m    258\u001b[0m     \u001b[38;5;28;01mraise\u001b[39;00m ServiceException(http_resp\u001b[38;5;241m=\u001b[39mr)\n",
      "\u001b[0;31mNotFoundException\u001b[0m: (404)\nReason: Not Found\nHTTP response headers: HTTPHeaderDict({'content-type': 'text/plain; charset=utf-8', 'access-control-allow-origin': '*', 'vary': 'origin,access-control-request-method,access-control-request-headers', 'access-control-expose-headers': '*', 'X-Cloud-Trace-Context': 'd198b486b663a1396bb0f625d2dac8cc', 'Date': 'Fri, 19 Jan 2024 06:21:19 GMT', 'Server': 'Google Frontend', 'Content-Length': '86', 'Via': '1.1 google', 'Alt-Svc': 'h3=\":443\"; ma=2592000,h3-29=\":443\"; ma=2592000'})\nHTTP response body: {\"error\":{\"code\":\"NOT_FOUND\",\"message\":\"Resource llama-2-rag not found\"},\"status\":404}\n"
     ]
    }
   ],
   "source": [
    "pc.delete_index(index_name)"
   ]
  },
  {
   "cell_type": "markdown",
   "metadata": {},
   "source": [
    "### Weaviate"
   ]
  },
  {
   "cell_type": "markdown",
   "metadata": {},
   "source": [
    "---"
   ]
  },
  {
   "cell_type": "code",
   "execution_count": 32,
   "metadata": {},
   "outputs": [],
   "source": [
    "import weaviate\n",
    "import weaviate.classes as wvc\n",
    "import os\n",
    "\n",
    "client = weaviate.connect_to_local(\n",
    "    port=8080,\n",
    "    grpc_port=50051,\n",
    "    headers={\n",
    "        \"X-OpenAI-Api-Key\": os.environ[\"OPENAI_API_KEY\"]  # Replace with your inference API key\n",
    "    }\n",
    ")"
   ]
  },
  {
   "cell_type": "code",
   "execution_count": 33,
   "metadata": {},
   "outputs": [
    {
     "ename": "UnexpectedStatusCodeException",
     "evalue": "Create class! Unexpected status code: 422, with response body: {'error': [{'message': 'class name \"Question\" already exists'}]}.",
     "output_type": "error",
     "traceback": [
      "\u001b[0;31m---------------------------------------------------------------------------\u001b[0m",
      "\u001b[0;31mUnexpectedStatusCodeException\u001b[0m             Traceback (most recent call last)",
      "Cell \u001b[0;32mIn[33], line 1\u001b[0m\n\u001b[0;32m----> 1\u001b[0m questions \u001b[38;5;241m=\u001b[39m \u001b[43mclient\u001b[49m\u001b[38;5;241;43m.\u001b[39;49m\u001b[43mcollections\u001b[49m\u001b[38;5;241;43m.\u001b[39;49m\u001b[43mcreate\u001b[49m\u001b[43m(\u001b[49m\n\u001b[1;32m      2\u001b[0m \u001b[43m    \u001b[49m\u001b[43mname\u001b[49m\u001b[38;5;241;43m=\u001b[39;49m\u001b[38;5;124;43m\"\u001b[39;49m\u001b[38;5;124;43mQuestion\u001b[39;49m\u001b[38;5;124;43m\"\u001b[39;49m\u001b[43m,\u001b[49m\n\u001b[1;32m      3\u001b[0m \u001b[43m    \u001b[49m\u001b[43mvectorizer_config\u001b[49m\u001b[38;5;241;43m=\u001b[39;49m\u001b[43mwvc\u001b[49m\u001b[38;5;241;43m.\u001b[39;49m\u001b[43mConfigure\u001b[49m\u001b[38;5;241;43m.\u001b[39;49m\u001b[43mVectorizer\u001b[49m\u001b[38;5;241;43m.\u001b[39;49m\u001b[43mtext2vec_openai\u001b[49m\u001b[43m(\u001b[49m\u001b[43m)\u001b[49m\u001b[43m,\u001b[49m\u001b[43m  \u001b[49m\u001b[38;5;66;43;03m# If set to \"none\" you must always provide vectors yourself. Could be any other \"text2vec-*\" also.\u001b[39;49;00m\n\u001b[1;32m      4\u001b[0m \u001b[43m    \u001b[49m\u001b[43mgenerative_config\u001b[49m\u001b[38;5;241;43m=\u001b[39;49m\u001b[43mwvc\u001b[49m\u001b[38;5;241;43m.\u001b[39;49m\u001b[43mConfigure\u001b[49m\u001b[38;5;241;43m.\u001b[39;49m\u001b[43mGenerative\u001b[49m\u001b[38;5;241;43m.\u001b[39;49m\u001b[43mopenai\u001b[49m\u001b[43m(\u001b[49m\u001b[43m)\u001b[49m\u001b[43m  \u001b[49m\u001b[38;5;66;43;03m# Ensure the `generative-openai` module is used for generative queries\u001b[39;49;00m\n\u001b[1;32m      5\u001b[0m \u001b[43m)\u001b[49m\n",
      "File \u001b[0;32m~/miniconda3/envs/wk6/lib/python3.11/site-packages/weaviate/collections/collections.py:101\u001b[0m, in \u001b[0;36m_Collections.create\u001b[0;34m(self, name, description, generative_config, inverted_index_config, multi_tenancy_config, properties, references, replication_config, sharding_config, vector_index_config, vectorizer_config, data_model_properties, data_model_references)\u001b[0m\n\u001b[1;32m     43\u001b[0m \u001b[38;5;250m\u001b[39m\u001b[38;5;124;03m\"\"\"Use this method to create a collection in Weaviate and immediately return a collection object.\u001b[39;00m\n\u001b[1;32m     44\u001b[0m \n\u001b[1;32m     45\u001b[0m \u001b[38;5;124;03mThis method takes several arguments that allow you to configure the collection to your liking. Each argument\u001b[39;00m\n\u001b[0;32m   (...)\u001b[0m\n\u001b[1;32m     86\u001b[0m \u001b[38;5;124;03m        If the configuration object is invalid.\u001b[39;00m\n\u001b[1;32m     87\u001b[0m \u001b[38;5;124;03m\"\"\"\u001b[39;00m\n\u001b[1;32m     88\u001b[0m config \u001b[38;5;241m=\u001b[39m _CollectionConfigCreate(\n\u001b[1;32m     89\u001b[0m     description\u001b[38;5;241m=\u001b[39mdescription,\n\u001b[1;32m     90\u001b[0m     generative_config\u001b[38;5;241m=\u001b[39mgenerative_config,\n\u001b[0;32m   (...)\u001b[0m\n\u001b[1;32m     99\u001b[0m     vector_index_config\u001b[38;5;241m=\u001b[39mvector_index_config,\n\u001b[1;32m    100\u001b[0m )\n\u001b[0;32m--> 101\u001b[0m name \u001b[38;5;241m=\u001b[39m \u001b[38;5;28;43msuper\u001b[39;49m\u001b[43m(\u001b[49m\u001b[43m)\u001b[49m\u001b[38;5;241;43m.\u001b[39;49m\u001b[43m_create\u001b[49m\u001b[43m(\u001b[49m\u001b[43mconfig\u001b[49m\u001b[38;5;241;43m.\u001b[39;49m\u001b[43m_to_dict\u001b[49m\u001b[43m(\u001b[49m\u001b[43m)\u001b[49m\u001b[43m)\u001b[49m\n\u001b[1;32m    102\u001b[0m \u001b[38;5;28;01mif\u001b[39;00m config\u001b[38;5;241m.\u001b[39mname \u001b[38;5;241m!=\u001b[39m name:\n\u001b[1;32m    103\u001b[0m     \u001b[38;5;28;01mraise\u001b[39;00m \u001b[38;5;167;01mValueError\u001b[39;00m(\n\u001b[1;32m    104\u001b[0m         \u001b[38;5;124mf\u001b[39m\u001b[38;5;124m\"\u001b[39m\u001b[38;5;124mName of created collection (\u001b[39m\u001b[38;5;132;01m{\u001b[39;00mname\u001b[38;5;132;01m}\u001b[39;00m\u001b[38;5;124m) does not match given name (\u001b[39m\u001b[38;5;132;01m{\u001b[39;00mconfig\u001b[38;5;241m.\u001b[39mname\u001b[38;5;132;01m}\u001b[39;00m\u001b[38;5;124m)\u001b[39m\u001b[38;5;124m\"\u001b[39m\n\u001b[1;32m    105\u001b[0m     )\n",
      "File \u001b[0;32m~/miniconda3/envs/wk6/lib/python3.11/site-packages/weaviate/collections/base.py:41\u001b[0m, in \u001b[0;36m_CollectionsBase._create\u001b[0;34m(self, config)\u001b[0m\n\u001b[1;32m     39\u001b[0m     \u001b[38;5;28;01mraise\u001b[39;00m RequestsConnectionError(\u001b[38;5;124m\"\u001b[39m\u001b[38;5;124mClass may not have been created properly.\u001b[39m\u001b[38;5;124m\"\u001b[39m) \u001b[38;5;28;01mfrom\u001b[39;00m \u001b[38;5;21;01mconn_err\u001b[39;00m\n\u001b[1;32m     40\u001b[0m \u001b[38;5;28;01mif\u001b[39;00m response\u001b[38;5;241m.\u001b[39mstatus_code \u001b[38;5;241m!=\u001b[39m \u001b[38;5;241m200\u001b[39m:\n\u001b[0;32m---> 41\u001b[0m     \u001b[38;5;28;01mraise\u001b[39;00m UnexpectedStatusCodeException(\u001b[38;5;124m\"\u001b[39m\u001b[38;5;124mCreate class\u001b[39m\u001b[38;5;124m\"\u001b[39m, response)\n\u001b[1;32m     43\u001b[0m collection_name \u001b[38;5;241m=\u001b[39m response\u001b[38;5;241m.\u001b[39mjson()[\u001b[38;5;124m\"\u001b[39m\u001b[38;5;124mclass\u001b[39m\u001b[38;5;124m\"\u001b[39m]\n\u001b[1;32m     44\u001b[0m \u001b[38;5;28;01massert\u001b[39;00m \u001b[38;5;28misinstance\u001b[39m(collection_name, \u001b[38;5;28mstr\u001b[39m)\n",
      "\u001b[0;31mUnexpectedStatusCodeException\u001b[0m: Create class! Unexpected status code: 422, with response body: {'error': [{'message': 'class name \"Question\" already exists'}]}."
     ]
    }
   ],
   "source": [
    "questions = client.collections.create(\n",
    "    name=\"Question\",\n",
    "    vectorizer_config=wvc.Configure.Vectorizer.text2vec_openai(),  # If set to \"none\" you must always provide vectors yourself. Could be any other \"text2vec-*\" also.\n",
    "    generative_config=wvc.Configure.Generative.openai()  # Ensure the `generative-openai` module is used for generative queries\n",
    ")"
   ]
  },
  {
   "cell_type": "code",
   "execution_count": 34,
   "metadata": {},
   "outputs": [
    {
     "data": {
      "text/plain": [
       "BatchObjectReturn(all_responses=[UUID('7d434b23-c082-4c6f-b289-a55830dd8113'), UUID('17794abf-d48f-41be-b852-58b7b277a188'), UUID('1d6152cd-db90-40b4-b063-da39c1d863ee'), UUID('93e665b8-6d09-47f8-917a-99b9f282cecd'), UUID('1637b11f-e5e7-4ed3-8aa0-5f99e4a61ed4'), UUID('f51e0763-ada4-43f3-9a56-576883ec4680'), UUID('04b903ce-7f60-444f-970c-4b86031f2c6d'), UUID('9ed8825b-a9a7-40dc-8221-b6e40c35a3df'), UUID('2330959d-7613-4532-a79e-9dd3f8eb9b8b'), UUID('3976fc59-ca22-435e-ac4c-a6ee6aa994ff')], elapsed_seconds=1.8372163772583008, errors={}, uuids={0: UUID('7d434b23-c082-4c6f-b289-a55830dd8113'), 1: UUID('17794abf-d48f-41be-b852-58b7b277a188'), 2: UUID('1d6152cd-db90-40b4-b063-da39c1d863ee'), 3: UUID('93e665b8-6d09-47f8-917a-99b9f282cecd'), 4: UUID('1637b11f-e5e7-4ed3-8aa0-5f99e4a61ed4'), 5: UUID('f51e0763-ada4-43f3-9a56-576883ec4680'), 6: UUID('04b903ce-7f60-444f-970c-4b86031f2c6d'), 7: UUID('9ed8825b-a9a7-40dc-8221-b6e40c35a3df'), 8: UUID('2330959d-7613-4532-a79e-9dd3f8eb9b8b'), 9: UUID('3976fc59-ca22-435e-ac4c-a6ee6aa994ff')}, has_errors=False)"
      ]
     },
     "execution_count": 34,
     "metadata": {},
     "output_type": "execute_result"
    }
   ],
   "source": [
    "import requests\n",
    "import json\n",
    "import os\n",
    "\n",
    "resp = requests.get('https://raw.githubusercontent.com/weaviate-tutorials/quickstart/main/data/jeopardy_tiny.json')\n",
    "data = json.loads(resp.text)  # Load data\n",
    "\n",
    "question_objs = list()\n",
    "for i, d in enumerate(data):\n",
    "    question_objs.append({\n",
    "        \"answer\": d[\"Answer\"],\n",
    "        \"question\": d[\"Question\"],\n",
    "        \"category\": d[\"Category\"],\n",
    "    })\n",
    "\n",
    "questions = client.collections.get(\"Question\")\n",
    "questions.data.insert_many(question_objs)  # This uses batching under the hood"
   ]
  },
  {
   "cell_type": "code",
   "execution_count": 35,
   "metadata": {},
   "outputs": [
    {
     "data": {
      "text/plain": [
       "{'answer': 'DNA',\n",
       " 'question': 'In 1953 Watson & Crick built a model of the molecular structure of this, the gene-carrying substance',\n",
       " 'category': 'SCIENCE'}"
      ]
     },
     "execution_count": 35,
     "metadata": {},
     "output_type": "execute_result"
    }
   ],
   "source": [
    "import weaviate\n",
    "import weaviate.classes as wvc\n",
    "\n",
    "# As of November 2023, we are working towards making all WCS instances compatible with the new API introduced in the v4 Python client.\n",
    "# Accordingly, we show you how to connect to a local instance of Weaviate.\n",
    "# Here, authentication is switched off, which is why you do not need to provide the Weaviate API key.\n",
    "client = weaviate.connect_to_local(\n",
    "    port=8080,\n",
    "    grpc_port=50051,\n",
    "    headers={\n",
    "        \"X-OpenAI-Api-Key\": os.environ[\"OPENAI_API_KEY\"]  # Replace with your inference API key\n",
    "    }\n",
    ")\n",
    "\n",
    "questions = client.collections.get(\"Question\")\n",
    "\n",
    "response = questions.query.near_text(\n",
    "    query=\"biology\",\n",
    "    limit=2\n",
    ")\n",
    "\n",
    "response.objects[0].properties # Inspect the first object"
   ]
  },
  {
   "cell_type": "code",
   "execution_count": 36,
   "metadata": {},
   "outputs": [
    {
     "name": "stdout",
     "output_type": "stream",
     "text": [
      "{'answer': 'the nose or snout', 'question': 'The gavial looks very much like a crocodile except for this bodily feature', 'category': 'ANIMALS'}\n"
     ]
    }
   ],
   "source": [
    "questions = client.collections.get(\"Question\")\n",
    "\n",
    "response = questions.query.near_text(\n",
    "    query=\"biology\",\n",
    "    limit=2,\n",
    "    filters=wvc.Filter(path=\"category\").equal(\"ANIMALS\")\n",
    ")\n",
    "\n",
    "print(response.objects[0].properties)  # Inspect the first object"
   ]
  },
  {
   "cell_type": "code",
   "execution_count": null,
   "metadata": {},
   "outputs": [
    {
     "name": "stdout",
     "output_type": "stream",
     "text": [
      "DNA is like a special code that tells our bodies how to grow and work. It's like a recipe book that has all the instructions for making you who you are. Just like a recipe book tells you how to make yummy cookies, DNA tells your body how to make your eyes, hair, and even how tall you will be. It's really amazing because it's what makes you unique and different from everyone else!\n"
     ]
    }
   ],
   "source": [
    "questions = client.collections.get(\"Question\")\n",
    "\n",
    "response = questions.generate.near_text(\n",
    "    query=\"biology\",\n",
    "    limit=2,\n",
    "    single_prompt=\"Explain {answer} as you might to a five-year-old.\"\n",
    ")\n",
    "\n",
    "print(response.objects[0].generated)  # Inspect the generated text"
   ]
  },
  {
   "cell_type": "code",
   "execution_count": null,
   "metadata": {},
   "outputs": [],
   "source": []
  },
  {
   "cell_type": "markdown",
   "metadata": {},
   "source": [
    "### Weviate for chatbot"
   ]
  },
  {
   "cell_type": "code",
   "execution_count": 2,
   "metadata": {},
   "outputs": [
    {
     "name": "stderr",
     "output_type": "stream",
     "text": [
      "/home/misge/miniconda3/envs/wk6/lib/python3.11/site-packages/langchain_core/_api/deprecation.py:117: LangChainDeprecationWarning: The class `langchain_community.embeddings.openai.OpenAIEmbeddings` was deprecated in langchain-community 0.1.0 and will be removed in 0.2.0. An updated version of the class exists in the langchain-openai package and should be used instead. To use it run `pip install -U langchain-openai` and import as `from langchain_openai import OpenAIEmbeddings`.\n",
      "  warn_deprecated(\n"
     ]
    }
   ],
   "source": [
    "from langchain.embeddings.openai import OpenAIEmbeddings\n",
    "\n",
    "embed_model = OpenAIEmbeddings(model=\"text-embedding-ada-002\")"
   ]
  },
  {
   "cell_type": "code",
   "execution_count": 47,
   "metadata": {},
   "outputs": [
    {
     "data": {
      "text/plain": [
       "[\"page_content='10\\\\nAcademy\\\\nCohort\\\\nA\\\\nWeekly\\\\nChallenge:\\\\nWeek\\\\n6\\\\nPrecision\\\\nRAG:\\\\nPrompt\\\\nTuning\\\\nFor\\\\nBuilding\\\\nEnterprise' metadata={'source': '10 Academy Cohort A - Weekly Challenge: Week - 6.pdf', 'page': 0}\",\n",
       " \"page_content='RAG:\\\\nPrompt\\\\nTuning\\\\nFor\\\\nBuilding\\\\nEnterprise\\\\nGrade\\\\nRAG\\\\nSystems\\\\nBusiness\\\\nobjective\\\\nPromptlyTech\\\\nis\\\\nan' metadata={'source': '10 Academy Cohort A - Weekly Challenge: Week - 6.pdf', 'page': 0}\",\n",
       " \"page_content='RAG\\\\nSystems\\\\nBusiness\\\\nobjective\\\\nPromptlyTech\\\\nis\\\\nan\\\\ninnovative\\\\ne-business\\\\nspecializing\\\\nin\\\\nproviding' metadata={'source': '10 Academy Cohort A - Weekly Challenge: Week - 6.pdf', 'page': 0}\",\n",
       " \"page_content='innovative\\\\ne-business\\\\nspecializing\\\\nin\\\\nproviding\\\\nAI-driven\\\\nsolutions\\\\nfor\\\\noptimizing\\\\nthe\\\\nuse\\\\nof' metadata={'source': '10 Academy Cohort A - Weekly Challenge: Week - 6.pdf', 'page': 0}\",\n",
       " \"page_content='AI-driven\\\\nsolutions\\\\nfor\\\\noptimizing\\\\nthe\\\\nuse\\\\nof\\\\nLanguage\\\\nModels\\\\n(LLMs)\\\\nin\\\\nvarious\\\\nindustries.\\\\nThe' metadata={'source': '10 Academy Cohort A - Weekly Challenge: Week - 6.pdf', 'page': 0}\",\n",
       " \"page_content='Language\\\\nModels\\\\n(LLMs)\\\\nin\\\\nvarious\\\\nindustries.\\\\nThe\\\\ncompany\\\\naims\\\\nto\\\\nrevolutionize\\\\nhow\\\\nbusinesses' metadata={'source': '10 Academy Cohort A - Weekly Challenge: Week - 6.pdf', 'page': 0}\",\n",
       " \"page_content='The\\\\ncompany\\\\naims\\\\nto\\\\nrevolutionize\\\\nhow\\\\nbusinesses\\\\ninteract\\\\nwith\\\\nLLMs,\\\\nmaking\\\\nthe\\\\ntechnology\\\\nmore' metadata={'source': '10 Academy Cohort A - Weekly Challenge: Week - 6.pdf', 'page': 0}\",\n",
       " \"page_content='interact\\\\nwith\\\\nLLMs,\\\\nmaking\\\\nthe\\\\ntechnology\\\\nmore\\\\naccessible,\\\\neﬃcient,\\\\nand\\\\neﬀective.\\\\nBy\\\\naddressing\\\\nthe' metadata={'source': '10 Academy Cohort A - Weekly Challenge: Week - 6.pdf', 'page': 0}\",\n",
       " \"page_content='eﬃcient,\\\\nand\\\\neﬀective.\\\\nBy\\\\naddressing\\\\nthe\\\\nchallenges\\\\nof\\\\nprompt\\\\nengineering,\\\\nthe\\\\ncompany\\\\nplays\\\\na' metadata={'source': '10 Academy Cohort A - Weekly Challenge: Week - 6.pdf', 'page': 0}\",\n",
       " \"page_content='of\\\\nprompt\\\\nengineering,\\\\nthe\\\\ncompany\\\\nplays\\\\na\\\\npivotal\\\\nrole\\\\nin\\\\nenhancing\\\\ndecision-making,\\\\noperational' metadata={'source': '10 Academy Cohort A - Weekly Challenge: Week - 6.pdf', 'page': 0}\",\n",
       " \"page_content='role\\\\nin\\\\nenhancing\\\\ndecision-making,\\\\noperational\\\\neﬃciency,\\\\nand\\\\ncustomer\\\\nexperience\\\\nacross\\\\nvarious' metadata={'source': '10 Academy Cohort A - Weekly Challenge: Week - 6.pdf', 'page': 0}\",\n",
       " 'page_content=\"eﬃciency,\\\\nand\\\\ncustomer\\\\nexperience\\\\nacross\\\\nvarious\\\\nindustries.\\\\nPromptlyTech\\'s\\\\nsolutions\\\\nare\\\\ndesigned\" metadata={\\'source\\': \\'10 Academy Cohort A - Weekly Challenge: Week - 6.pdf\\', \\'page\\': 0}',\n",
       " 'page_content=\"industries.\\\\nPromptlyTech\\'s\\\\nsolutions\\\\nare\\\\ndesigned\\\\nto\\\\ncater\\\\nto\\\\nthe\\\\nevolving\\\\nneeds\\\\nof\\\\na\" metadata={\\'source\\': \\'10 Academy Cohort A - Weekly Challenge: Week - 6.pdf\\', \\'page\\': 0}',\n",
       " \"page_content='are\\\\ndesigned\\\\nto\\\\ncater\\\\nto\\\\nthe\\\\nevolving\\\\nneeds\\\\nof\\\\na\\\\ndigitally-driven\\\\nbusiness\\\\nlandscape,\\\\nwhere\\\\nspeed' metadata={'source': '10 Academy Cohort A - Weekly Challenge: Week - 6.pdf', 'page': 0}\",\n",
       " \"page_content='digitally-driven\\\\nbusiness\\\\nlandscape,\\\\nwhere\\\\nspeed\\\\nand\\\\naccuracy\\\\nare\\\\nkey\\\\nto\\\\nstaying\\\\ncompetitive.\\\\nThe' metadata={'source': '10 Academy Cohort A - Weekly Challenge: Week - 6.pdf', 'page': 0}\",\n",
       " \"page_content='and\\\\naccuracy\\\\nare\\\\nkey\\\\nto\\\\nstaying\\\\ncompetitive.\\\\nThe\\\\ncompany\\\\nfocuses\\\\non\\\\nkey\\\\nservices:\\\\nAutomatic\\\\nPrompt' metadata={'source': '10 Academy Cohort A - Weekly Challenge: Week - 6.pdf', 'page': 0}\",\n",
       " \"page_content='company\\\\nfocuses\\\\non\\\\nkey\\\\nservices:\\\\nAutomatic\\\\nPrompt\\\\nGeneration,\\\\nAutomatic\\\\nEvaluation\\\\nData\\\\nGeneration,' metadata={'source': '10 Academy Cohort A - Weekly Challenge: Week - 6.pdf', 'page': 0}\",\n",
       " \"page_content='Generation,\\\\nAutomatic\\\\nEvaluation\\\\nData\\\\nGeneration,\\\\nand\\\\nPrompt\\\\nTesting\\\\nand\\\\nRanking.\\\\n1.\\\\nAutomatic' metadata={'source': '10 Academy Cohort A - Weekly Challenge: Week - 6.pdf', 'page': 0}\",\n",
       " \"page_content='and\\\\nPrompt\\\\nTesting\\\\nand\\\\nRanking.\\\\n1.\\\\nAutomatic\\\\nPrompt\\\\nGeneration\\\\nService:\\\\n●\\\\nThis\\\\nservice\\\\nstreamlines' metadata={'source': '10 Academy Cohort A - Weekly Challenge: Week - 6.pdf', 'page': 0}\",\n",
       " \"page_content='Generation\\\\nService:\\\\n●\\\\nThis\\\\nservice\\\\nstreamlines\\\\nthe\\\\nprocess\\\\nof\\\\ncreating\\\\neﬀective\\\\nprompts,\\\\nenabling' metadata={'source': '10 Academy Cohort A - Weekly Challenge: Week - 6.pdf', 'page': 0}\",\n",
       " \"page_content='process\\\\nof\\\\ncreating\\\\neﬀective\\\\nprompts,\\\\nenabling\\\\nbusinesses\\\\nto\\\\neﬃciently\\\\nutilize\\\\nLLMs\\\\nfor\\\\ngenerating' metadata={'source': '10 Academy Cohort A - Weekly Challenge: Week - 6.pdf', 'page': 0}\",\n",
       " \"page_content='to\\\\neﬃciently\\\\nutilize\\\\nLLMs\\\\nfor\\\\ngenerating\\\\nhigh-quality,\\\\nrelevant\\\\ncontent.\\\\nIt\\\\nsigniﬁcantly\\\\nreduces' metadata={'source': '10 Academy Cohort A - Weekly Challenge: Week - 6.pdf', 'page': 0}\",\n",
       " \"page_content='relevant\\\\ncontent.\\\\nIt\\\\nsigniﬁcantly\\\\nreduces\\\\nthe\\\\ntime\\\\nand\\\\nexpertise\\\\nrequired\\\\nin\\\\ncrafting\\\\nprompts' metadata={'source': '10 Academy Cohort A - Weekly Challenge: Week - 6.pdf', 'page': 0}\",\n",
       " \"page_content='time\\\\nand\\\\nexpertise\\\\nrequired\\\\nin\\\\ncrafting\\\\nprompts\\\\nmanually.\\\\n2.\\\\nAutomatic\\\\nEvaluation\\\\nData\\\\nGeneration' metadata={'source': '10 Academy Cohort A - Weekly Challenge: Week - 6.pdf', 'page': 0}\",\n",
       " \"page_content='manually.\\\\n2.\\\\nAutomatic\\\\nEvaluation\\\\nData\\\\nGeneration\\\\nService:' metadata={'source': '10 Academy Cohort A - Weekly Challenge: Week - 6.pdf', 'page': 0}\",\n",
       " \"page_content='●\\\\nPromptlyTech’s\\\\nservice\\\\nautomates\\\\nthe\\\\ngeneration\\\\nof\\\\ndiverse\\\\ntest\\\\ncases,\\\\nensuring\\\\ncomprehensive' metadata={'source': '10 Academy Cohort A - Weekly Challenge: Week - 6.pdf', 'page': 1}\",\n",
       " \"page_content='of\\\\ndiverse\\\\ntest\\\\ncases,\\\\nensuring\\\\ncomprehensive\\\\ncoverage\\\\nand\\\\nidentifying\\\\npotential\\\\nissues.\\\\nThis' metadata={'source': '10 Academy Cohort A - Weekly Challenge: Week - 6.pdf', 'page': 1}\",\n",
       " \"page_content='coverage\\\\nand\\\\nidentifying\\\\npotential\\\\nissues.\\\\nThis\\\\nenhances\\\\nthe\\\\nreliability\\\\nand\\\\nperformance\\\\nof\\\\nLLM' metadata={'source': '10 Academy Cohort A - Weekly Challenge: Week - 6.pdf', 'page': 1}\",\n",
       " \"page_content='enhances\\\\nthe\\\\nreliability\\\\nand\\\\nperformance\\\\nof\\\\nLLM\\\\napplications,\\\\nsaving\\\\nsigniﬁcant\\\\ntime\\\\nin\\\\nthe' metadata={'source': '10 Academy Cohort A - Weekly Challenge: Week - 6.pdf', 'page': 1}\",\n",
       " \"page_content='LLM\\\\napplications,\\\\nsaving\\\\nsigniﬁcant\\\\ntime\\\\nin\\\\nthe\\\\nQA(Quality\\\\nAssurance)\\\\nprocess.\\\\n3.\\\\nPrompt\\\\nTesting' metadata={'source': '10 Academy Cohort A - Weekly Challenge: Week - 6.pdf', 'page': 1}\",\n",
       " \"page_content='QA(Quality\\\\nAssurance)\\\\nprocess.\\\\n3.\\\\nPrompt\\\\nTesting\\\\nand\\\\nRanking\\\\nService:\\\\n●\\\\nPromptlyTech’s\\\\nservice' metadata={'source': '10 Academy Cohort A - Weekly Challenge: Week - 6.pdf', 'page': 1}\",\n",
       " \"page_content='and\\\\nRanking\\\\nService:\\\\n●\\\\nPromptlyTech’s\\\\nservice\\\\nevaluates\\\\nand\\\\nranks\\\\ndiﬀerent\\\\nprompts\\\\nbased\\\\non' metadata={'source': '10 Academy Cohort A - Weekly Challenge: Week - 6.pdf', 'page': 1}\",\n",
       " \"page_content='evaluates\\\\nand\\\\nranks\\\\ndiﬀerent\\\\nprompts\\\\nbased\\\\non\\\\neﬀectiveness,\\\\nhelping\\\\nUsers\\\\nto\\\\nget\\\\nthe\\\\ndesired' metadata={'source': '10 Academy Cohort A - Weekly Challenge: Week - 6.pdf', 'page': 1}\",\n",
       " \"page_content='on\\\\neﬀectiveness,\\\\nhelping\\\\nUsers\\\\nto\\\\nget\\\\nthe\\\\ndesired\\\\noutcome\\\\nfrom\\\\nLLM.\\\\nIt\\\\nensures\\\\nthat\\\\nchatbots\\\\nand' metadata={'source': '10 Academy Cohort A - Weekly Challenge: Week - 6.pdf', 'page': 1}\",\n",
       " \"page_content='outcome\\\\nfrom\\\\nLLM.\\\\nIt\\\\nensures\\\\nthat\\\\nchatbots\\\\nand\\\\nvirtual\\\\nassistants\\\\nprovide\\\\naccurate,\\\\ncontextually' metadata={'source': '10 Academy Cohort A - Weekly Challenge: Week - 6.pdf', 'page': 1}\",\n",
       " \"page_content='virtual\\\\nassistants\\\\nprovide\\\\naccurate,\\\\ncontextually\\\\nrelevant\\\\nresponses,\\\\nthereby\\\\nimproving\\\\nuser' metadata={'source': '10 Academy Cohort A - Weekly Challenge: Week - 6.pdf', 'page': 1}\",\n",
       " \"page_content='relevant\\\\nresponses,\\\\nthereby\\\\nimproving\\\\nuser\\\\nengagement\\\\nand\\\\nsatisfaction.\\\\nBackground\\\\nContext\\\\nIn\\\\nthe' metadata={'source': '10 Academy Cohort A - Weekly Challenge: Week - 6.pdf', 'page': 1}\",\n",
       " \"page_content='and\\\\nsatisfaction.\\\\nBackground\\\\nContext\\\\nIn\\\\nthe\\\\nevolving\\\\nﬁeld\\\\nof\\\\nartiﬁcial\\\\nintelligence,\\\\nLanguage' metadata={'source': '10 Academy Cohort A - Weekly Challenge: Week - 6.pdf', 'page': 1}\",\n",
       " \"page_content='evolving\\\\nﬁeld\\\\nof\\\\nartiﬁcial\\\\nintelligence,\\\\nLanguage\\\\nModels\\\\n(LLMs)\\\\nlike\\\\nGPT-3.5\\\\nand\\\\nGPT-4\\\\nhave\\\\nbecome' metadata={'source': '10 Academy Cohort A - Weekly Challenge: Week - 6.pdf', 'page': 1}\",\n",
       " \"page_content='Models\\\\n(LLMs)\\\\nlike\\\\nGPT-3.5\\\\nand\\\\nGPT-4\\\\nhave\\\\nbecome\\\\ncrucial\\\\nfor\\\\nvarious\\\\napplications.\\\\nTheir' metadata={'source': '10 Academy Cohort A - Weekly Challenge: Week - 6.pdf', 'page': 1}\",\n",
       " \"page_content='become\\\\ncrucial\\\\nfor\\\\nvarious\\\\napplications.\\\\nTheir\\\\neﬀectiveness,\\\\nhowever,\\\\nheavily\\\\ndepends\\\\non\\\\nthe' metadata={'source': '10 Academy Cohort A - Weekly Challenge: Week - 6.pdf', 'page': 1}\",\n",
       " \"page_content='eﬀectiveness,\\\\nhowever,\\\\nheavily\\\\ndepends\\\\non\\\\nthe\\\\nquality\\\\nof\\\\nthe\\\\nprompts\\\\nthey\\\\nreceive,\\\\nleading\\\\nto\\\\nthe' metadata={'source': '10 Academy Cohort A - Weekly Challenge: Week - 6.pdf', 'page': 1}\",\n",
       " 'page_content=\\'of\\\\nthe\\\\nprompts\\\\nthey\\\\nreceive,\\\\nleading\\\\nto\\\\nthe\\\\nemergence\\\\nof\\\\n\"prompt\\\\nengineering\"\\\\nas\\\\na\\\\nkey\\\\nskill.\\' metadata={\\'source\\': \\'10 Academy Cohort A - Weekly Challenge: Week - 6.pdf\\', \\'page\\': 1}',\n",
       " 'page_content=\\'emergence\\\\nof\\\\n\"prompt\\\\nengineering\"\\\\nas\\\\na\\\\nkey\\\\nskill.\\\\nPrompt\\\\nengineering\\\\nis\\\\nthe\\\\ncraft\\\\nof\\\\ndesigning\\' metadata={\\'source\\': \\'10 Academy Cohort A - Weekly Challenge: Week - 6.pdf\\', \\'page\\': 1}',\n",
       " \"page_content='Prompt\\\\nengineering\\\\nis\\\\nthe\\\\ncraft\\\\nof\\\\ndesigning\\\\nqueries\\\\nor\\\\nstatements\\\\nto\\\\nguide\\\\nLLMs\\\\nto\\\\nproduce\\\\ndesired' metadata={'source': '10 Academy Cohort A - Weekly Challenge: Week - 6.pdf', 'page': 1}\",\n",
       " \"page_content='or\\\\nstatements\\\\nto\\\\nguide\\\\nLLMs\\\\nto\\\\nproduce\\\\ndesired\\\\noutcomes.\\\\nThe\\\\nchallenge\\\\nlies\\\\nin\\\\nthe\\\\nsensitivity\\\\nof' metadata={'source': '10 Academy Cohort A - Weekly Challenge: Week - 6.pdf', 'page': 1}\",\n",
       " \"page_content='The\\\\nchallenge\\\\nlies\\\\nin\\\\nthe\\\\nsensitivity\\\\nof\\\\nthese\\\\nmodels\\\\nto\\\\nprompt\\\\nnuances,\\\\nwhere\\\\nslight\\\\nvariations' metadata={'source': '10 Academy Cohort A - Weekly Challenge: Week - 6.pdf', 'page': 1}\",\n",
       " \"page_content='models\\\\nto\\\\nprompt\\\\nnuances,\\\\nwhere\\\\nslight\\\\nvariations\\\\ncan\\\\nyield\\\\nvastly\\\\ndiﬀerent\\\\nresults.\\\\nThis\\\\nposes\\\\na' metadata={'source': '10 Academy Cohort A - Weekly Challenge: Week - 6.pdf', 'page': 1}\",\n",
       " \"page_content='can\\\\nyield\\\\nvastly\\\\ndiﬀerent\\\\nresults.\\\\nThis\\\\nposes\\\\na\\\\nsigniﬁcant\\\\nhurdle\\\\nfor\\\\nusers,\\\\nespecially\\\\nin\\\\nbusiness' metadata={'source': '10 Academy Cohort A - Weekly Challenge: Week - 6.pdf', 'page': 1}\",\n",
       " \"page_content='hurdle\\\\nfor\\\\nusers,\\\\nespecially\\\\nin\\\\nbusiness\\\\ncontexts\\\\nwhere\\\\naccuracy\\\\nand\\\\nrelevance\\\\nare\\\\nparamount.\\\\nThe' metadata={'source': '10 Academy Cohort A - Weekly Challenge: Week - 6.pdf', 'page': 1}\",\n",
       " \"page_content='where\\\\naccuracy\\\\nand\\\\nrelevance\\\\nare\\\\nparamount.\\\\nThe\\\\nneed\\\\nfor\\\\nsimpliﬁed,\\\\neﬃcient\\\\nprompt\\\\nengineering\\\\nis' metadata={'source': '10 Academy Cohort A - Weekly Challenge: Week - 6.pdf', 'page': 1}\",\n",
       " \"page_content='need\\\\nfor\\\\nsimpliﬁed,\\\\neﬃcient\\\\nprompt\\\\nengineering\\\\nis\\\\nclear.\\\\nAutomating\\\\nand\\\\noptimizing\\\\nthis\\\\nprocess\\\\ncan' metadata={'source': '10 Academy Cohort A - Weekly Challenge: Week - 6.pdf', 'page': 1}\",\n",
       " \"page_content='clear.\\\\nAutomating\\\\nand\\\\noptimizing\\\\nthis\\\\nprocess\\\\ncan\\\\nsave\\\\ntime,\\\\nenhance\\\\nLLM\\\\nproductivity,\\\\nand\\\\nmake' metadata={'source': '10 Academy Cohort A - Weekly Challenge: Week - 6.pdf', 'page': 1}\",\n",
       " \"page_content='can\\\\nsave\\\\ntime,\\\\nenhance\\\\nLLM\\\\nproductivity,\\\\nand\\\\nmake\\\\nadvanced\\\\nAI\\\\ncapabilities\\\\nmore\\\\naccessible\\\\nto\\\\na' metadata={'source': '10 Academy Cohort A - Weekly Challenge: Week - 6.pdf', 'page': 1}\",\n",
       " \"page_content='advanced\\\\nAI\\\\ncapabilities\\\\nmore\\\\naccessible\\\\nto\\\\na\\\\nbroader\\\\nrange\\\\nof\\\\nusers.\\\\nThe\\\\ntasks\\\\nof\\\\nAutomatic\\\\nPrompt' metadata={'source': '10 Academy Cohort A - Weekly Challenge: Week - 6.pdf', 'page': 1}\",\n",
       " \"page_content='range\\\\nof\\\\nusers.\\\\nThe\\\\ntasks\\\\nof\\\\nAutomatic\\\\nPrompt\\\\nGeneration,\\\\nEvaluation\\\\nData\\\\nGeneration,\\\\nand\\\\nPrompt' metadata={'source': '10 Academy Cohort A - Weekly Challenge: Week - 6.pdf', 'page': 1}\",\n",
       " \"page_content='Evaluation\\\\nData\\\\nGeneration,\\\\nand\\\\nPrompt\\\\nTesting\\\\nand\\\\nRanking\\\\nare\\\\naimed\\\\nat\\\\naddressing\\\\nthese' metadata={'source': '10 Academy Cohort A - Weekly Challenge: Week - 6.pdf', 'page': 1}\",\n",
       " \"page_content='Testing\\\\nand\\\\nRanking\\\\nare\\\\naimed\\\\nat\\\\naddressing\\\\nthese\\\\nchallenges,\\\\nstreamlining\\\\nthe\\\\nprompt\\\\nengineering' metadata={'source': '10 Academy Cohort A - Weekly Challenge: Week - 6.pdf', 'page': 1}\",\n",
       " \"page_content='challenges,\\\\nstreamlining\\\\nthe\\\\nprompt\\\\nengineering\\\\nprocess\\\\nfor\\\\nmore\\\\neﬀective\\\\nuse\\\\nof\\\\nLLMs.\\\\nLearning' metadata={'source': '10 Academy Cohort A - Weekly Challenge: Week - 6.pdf', 'page': 1}\",\n",
       " \"page_content='process\\\\nfor\\\\nmore\\\\neﬀective\\\\nuse\\\\nof\\\\nLLMs.\\\\nLearning\\\\nOutcomes\\\\nSkills\\\\nDevelopment\\\\n●\\\\nPrompt\\\\nEngineering' metadata={'source': '10 Academy Cohort A - Weekly Challenge: Week - 6.pdf', 'page': 1}\",\n",
       " \"page_content='Outcomes\\\\nSkills\\\\nDevelopment\\\\n●\\\\nPrompt\\\\nEngineering\\\\nProﬁciency:\\\\nGain\\\\nexpertise\\\\nin\\\\ncrafting\\\\neﬀective' metadata={'source': '10 Academy Cohort A - Weekly Challenge: Week - 6.pdf', 'page': 1}\",\n",
       " \"page_content='Proﬁciency:\\\\nGain\\\\nexpertise\\\\nin\\\\ncrafting\\\\neﬀective\\\\nprompts\\\\nthat\\\\nguide\\\\nLLMs\\\\nto\\\\ndesired\\\\noutputs,' metadata={'source': '10 Academy Cohort A - Weekly Challenge: Week - 6.pdf', 'page': 1}\",\n",
       " \"page_content='prompts\\\\nthat\\\\nguide\\\\nLLMs\\\\nto\\\\ndesired\\\\noutputs,\\\\nunderstanding\\\\nnuances\\\\nand\\\\nvariations\\\\nin\\\\nlanguage\\\\nthat' metadata={'source': '10 Academy Cohort A - Weekly Challenge: Week - 6.pdf', 'page': 1}\",\n",
       " \"page_content='nuances\\\\nand\\\\nvariations\\\\nin\\\\nlanguage\\\\nthat\\\\nimpact\\\\nmodel\\\\nresponses.\\\\n●\\\\nCritical\\\\nAnalysis:\\\\nDevelop\\\\nthe' metadata={'source': '10 Academy Cohort A - Weekly Challenge: Week - 6.pdf', 'page': 1}\",\n",
       " \"page_content='model\\\\nresponses.\\\\n●\\\\nCritical\\\\nAnalysis:\\\\nDevelop\\\\nthe\\\\nability\\\\nto\\\\ncritically\\\\nanalyze\\\\nand\\\\nevaluate\\\\nthe' metadata={'source': '10 Academy Cohort A - Weekly Challenge: Week - 6.pdf', 'page': 1}\",\n",
       " \"page_content='ability\\\\nto\\\\ncritically\\\\nanalyze\\\\nand\\\\nevaluate\\\\nthe\\\\neﬀectiveness\\\\nof\\\\ndiﬀerent\\\\nprompts\\\\nbased\\\\non\\\\ntheir' metadata={'source': '10 Academy Cohort A - Weekly Challenge: Week - 6.pdf', 'page': 1}\",\n",
       " \"page_content='eﬀectiveness\\\\nof\\\\ndiﬀerent\\\\nprompts\\\\nbased\\\\non\\\\ntheir\\\\nperformance\\\\nin\\\\nvaried\\\\nscenarios.\\\\n●\\\\nTechnical' metadata={'source': '10 Academy Cohort A - Weekly Challenge: Week - 6.pdf', 'page': 1}\",\n",
       " \"page_content='performance\\\\nin\\\\nvaried\\\\nscenarios.\\\\n●\\\\nTechnical\\\\nAptitude\\\\nwith\\\\nLLMs:\\\\nEnhance\\\\ntechnical\\\\nskills\\\\nin\\\\nusing' metadata={'source': '10 Academy Cohort A - Weekly Challenge: Week - 6.pdf', 'page': 1}\",\n",
       " \"page_content='with\\\\nLLMs:\\\\nEnhance\\\\ntechnical\\\\nskills\\\\nin\\\\nusing\\\\nadvanced\\\\nlanguage\\\\nmodels\\\\nlike\\\\nGPT-4\\\\nand\\\\nGPT-3.5-Turbo,' metadata={'source': '10 Academy Cohort A - Weekly Challenge: Week - 6.pdf', 'page': 1}\",\n",
       " \"page_content='language\\\\nmodels\\\\nlike\\\\nGPT-4\\\\nand\\\\nGPT-3.5-Turbo,\\\\nunderstanding\\\\ntheir\\\\nfunctionalities\\\\nand\\\\ncapabilities.' metadata={'source': '10 Academy Cohort A - Weekly Challenge: Week - 6.pdf', 'page': 1}\",\n",
       " \"page_content='their\\\\nfunctionalities\\\\nand\\\\ncapabilities.\\\\n●\\\\nProblem-Solving\\\\nand\\\\nCreativity:\\\\nCultivate\\\\ncreative' metadata={'source': '10 Academy Cohort A - Weekly Challenge: Week - 6.pdf', 'page': 1}\",\n",
       " \"page_content='and\\\\nCreativity:\\\\nCultivate\\\\ncreative\\\\nproblem-solving\\\\nskills\\\\nby\\\\ngenerating\\\\ninnovative\\\\nprompts\\\\nand\\\\ntest' metadata={'source': '10 Academy Cohort A - Weekly Challenge: Week - 6.pdf', 'page': 1}\",\n",
       " \"page_content='skills\\\\nby\\\\ngenerating\\\\ninnovative\\\\nprompts\\\\nand\\\\ntest\\\\ncases,\\\\naddressing\\\\ncomplex\\\\nand\\\\nvaried\\\\nobjectives.' metadata={'source': '10 Academy Cohort A - Weekly Challenge: Week - 6.pdf', 'page': 1}\",\n",
       " \"page_content='●\\\\nData\\\\nInterpretation:\\\\nLearn\\\\nto\\\\ninterpret\\\\nand\\\\nanalyze\\\\ndata\\\\nfrom\\\\ntest\\\\ncases\\\\nand\\\\nprompt\\\\nevaluations,' metadata={'source': '10 Academy Cohort A - Weekly Challenge: Week - 6.pdf', 'page': 2}\",\n",
       " \"page_content='data\\\\nfrom\\\\ntest\\\\ncases\\\\nand\\\\nprompt\\\\nevaluations,\\\\nderiving\\\\nmeaningful\\\\ninsights\\\\nfrom\\\\nperformance\\\\nmetrics.' metadata={'source': '10 Academy Cohort A - Weekly Challenge: Week - 6.pdf', 'page': 2}\",\n",
       " \"page_content='meaningful\\\\ninsights\\\\nfrom\\\\nperformance\\\\nmetrics.\\\\nKnowledge\\\\nAcquisition\\\\n●\\\\nUnderstanding\\\\nof\\\\nLanguage' metadata={'source': '10 Academy Cohort A - Weekly Challenge: Week - 6.pdf', 'page': 2}\",\n",
       " \"page_content='Knowledge\\\\nAcquisition\\\\n●\\\\nUnderstanding\\\\nof\\\\nLanguage\\\\nModels:\\\\nAcquire\\\\na\\\\ndeeper\\\\nunderstanding\\\\nof\\\\nhow' metadata={'source': '10 Academy Cohort A - Weekly Challenge: Week - 6.pdf', 'page': 2}\",\n",
       " \"page_content='Models:\\\\nAcquire\\\\na\\\\ndeeper\\\\nunderstanding\\\\nof\\\\nhow\\\\nLLMs\\\\nfunction,\\\\nincluding\\\\ntheir\\\\nstrengths,' metadata={'source': '10 Academy Cohort A - Weekly Challenge: Week - 6.pdf', 'page': 2}\",\n",
       " \"page_content='of\\\\nhow\\\\nLLMs\\\\nfunction,\\\\nincluding\\\\ntheir\\\\nstrengths,\\\\nlimitations,\\\\nand\\\\nthe\\\\nprinciples\\\\nbehind\\\\ntheir' metadata={'source': '10 Academy Cohort A - Weekly Challenge: Week - 6.pdf', 'page': 2}\",\n",
       " \"page_content='limitations,\\\\nand\\\\nthe\\\\nprinciples\\\\nbehind\\\\ntheir\\\\nresponses.\\\\n●\\\\nInsights\\\\ninto\\\\nAutomated\\\\nEvaluation\\\\nData' metadata={'source': '10 Academy Cohort A - Weekly Challenge: Week - 6.pdf', 'page': 2}\",\n",
       " \"page_content='●\\\\nInsights\\\\ninto\\\\nAutomated\\\\nEvaluation\\\\nData\\\\nGeneration:\\\\nGain\\\\nknowledge\\\\nabout\\\\nthe\\\\nmethodology\\\\nand' metadata={'source': '10 Academy Cohort A - Weekly Challenge: Week - 6.pdf', 'page': 2}\",\n",
       " \"page_content='Gain\\\\nknowledge\\\\nabout\\\\nthe\\\\nmethodology\\\\nand\\\\nimportance\\\\nof\\\\ncreating\\\\ntest\\\\ncases\\\\nfor\\\\nevaluating\\\\nprompt' metadata={'source': '10 Academy Cohort A - Weekly Challenge: Week - 6.pdf', 'page': 2}\",\n",
       " \"page_content='of\\\\ncreating\\\\ntest\\\\ncases\\\\nfor\\\\nevaluating\\\\nprompt\\\\neﬀectiveness.\\\\n●\\\\nELO\\\\nRating\\\\nSystem\\\\nand\\\\nits' metadata={'source': '10 Academy Cohort A - Weekly Challenge: Week - 6.pdf', 'page': 2}\",\n",
       " \"page_content='prompt\\\\neﬀectiveness.\\\\n●\\\\nELO\\\\nRating\\\\nSystem\\\\nand\\\\nits\\\\nApplications:\\\\nLearn\\\\nabout\\\\nthe\\\\nELO\\\\nrating\\\\nsystem' metadata={'source': '10 Academy Cohort A - Weekly Challenge: Week - 6.pdf', 'page': 2}\",\n",
       " \"page_content='Applications:\\\\nLearn\\\\nabout\\\\nthe\\\\nELO\\\\nrating\\\\nsystem\\\\nused\\\\nfor\\\\nranking\\\\nprompts,\\\\nunderstanding\\\\nits' metadata={'source': '10 Academy Cohort A - Weekly Challenge: Week - 6.pdf', 'page': 2}\",\n",
       " \"page_content='used\\\\nfor\\\\nranking\\\\nprompts,\\\\nunderstanding\\\\nits\\\\nmechanics\\\\nand\\\\nrelevance\\\\nin\\\\nperformance\\\\nevaluation.\\\\n●' metadata={'source': '10 Academy Cohort A - Weekly Challenge: Week - 6.pdf', 'page': 2}\",\n",
       " \"page_content='and\\\\nrelevance\\\\nin\\\\nperformance\\\\nevaluation.\\\\n●\\\\nPrompt\\\\nOptimization\\\\nStrategies:\\\\nUnderstand\\\\nvarious' metadata={'source': '10 Academy Cohort A - Weekly Challenge: Week - 6.pdf', 'page': 2}\",\n",
       " \"page_content='Optimization\\\\nStrategies:\\\\nUnderstand\\\\nvarious\\\\nstrategies\\\\nfor\\\\nreﬁning\\\\nand\\\\noptimizing\\\\nprompts\\\\nto' metadata={'source': '10 Academy Cohort A - Weekly Challenge: Week - 6.pdf', 'page': 2}\",\n",
       " \"page_content='strategies\\\\nfor\\\\nreﬁning\\\\nand\\\\noptimizing\\\\nprompts\\\\nto\\\\nachieve\\\\nbetter\\\\nalignment\\\\nwith\\\\nspeciﬁc\\\\ngoals\\\\nand' metadata={'source': '10 Academy Cohort A - Weekly Challenge: Week - 6.pdf', 'page': 2}\",\n",
       " \"page_content='achieve\\\\nbetter\\\\nalignment\\\\nwith\\\\nspeciﬁc\\\\ngoals\\\\nand\\\\ndesired\\\\noutcomes.\\\\n●\\\\nIndustry\\\\nBest\\\\nPractices:' metadata={'source': '10 Academy Cohort A - Weekly Challenge: Week - 6.pdf', 'page': 2}\",\n",
       " \"page_content='and\\\\ndesired\\\\noutcomes.\\\\n●\\\\nIndustry\\\\nBest\\\\nPractices:\\\\nFamiliarize\\\\nwith\\\\nthe\\\\nbest\\\\npractices\\\\nin\\\\nprompt' metadata={'source': '10 Academy Cohort A - Weekly Challenge: Week - 6.pdf', 'page': 2}\",\n",
       " \"page_content='Familiarize\\\\nwith\\\\nthe\\\\nbest\\\\npractices\\\\nin\\\\nprompt\\\\nengineering\\\\nwithin\\\\ndiﬀerent\\\\nindustries,\\\\nlearning' metadata={'source': '10 Academy Cohort A - Weekly Challenge: Week - 6.pdf', 'page': 2}\",\n",
       " \"page_content='engineering\\\\nwithin\\\\ndiﬀerent\\\\nindustries,\\\\nlearning\\\\nabout\\\\nreal-world\\\\napplications\\\\nand\\\\nchallenges.\\\\nTeam' metadata={'source': '10 Academy Cohort A - Weekly Challenge: Week - 6.pdf', 'page': 2}\",\n",
       " \"page_content='real-world\\\\napplications\\\\nand\\\\nchallenges.\\\\nTeam\\\\nTutors:\\\\n-\\\\nYabebal\\\\n-\\\\nEmitinan\\\\n-\\\\nRehmet\\\\nBadges\\\\nEach' metadata={'source': '10 Academy Cohort A - Weekly Challenge: Week - 6.pdf', 'page': 2}\",\n",
       " \"page_content='Tutors:\\\\n-\\\\nYabebal\\\\n-\\\\nEmitinan\\\\n-\\\\nRehmet\\\\nBadges\\\\nEach\\\\nweek,\\\\none\\\\nuser\\\\nwill\\\\nbe\\\\nawarded\\\\none\\\\nof\\\\nthe\\\\nbadges' metadata={'source': '10 Academy Cohort A - Weekly Challenge: Week - 6.pdf', 'page': 2}\",\n",
       " \"page_content='week,\\\\none\\\\nuser\\\\nwill\\\\nbe\\\\nawarded\\\\none\\\\nof\\\\nthe\\\\nbadges\\\\nbelow\\\\nfor\\\\nthe\\\\nbest\\\\nperformance\\\\nin\\\\nthe\\\\ncategory' metadata={'source': '10 Academy Cohort A - Weekly Challenge: Week - 6.pdf', 'page': 2}\",\n",
       " \"page_content='below\\\\nfor\\\\nthe\\\\nbest\\\\nperformance\\\\nin\\\\nthe\\\\ncategory\\\\nbelow.\\\\nIn\\\\naddition\\\\nto\\\\nbeing\\\\nthe\\\\nbadge\\\\nholder\\\\nfor' metadata={'source': '10 Academy Cohort A - Weekly Challenge: Week - 6.pdf', 'page': 2}\",\n",
       " \"page_content='below.\\\\nIn\\\\naddition\\\\nto\\\\nbeing\\\\nthe\\\\nbadge\\\\nholder\\\\nfor\\\\nthat\\\\nbadge,\\\\neach\\\\nbadge\\\\nwinner\\\\nwill\\\\nget\\\\n+20\\\\npoints' metadata={'source': '10 Academy Cohort A - Weekly Challenge: Week - 6.pdf', 'page': 2}\",\n",
       " \"page_content='that\\\\nbadge,\\\\neach\\\\nbadge\\\\nwinner\\\\nwill\\\\nget\\\\n+20\\\\npoints\\\\nto\\\\nthe\\\\noverall\\\\nscore.\\\\nVisualization\\\\n-\\\\nquality\\\\nof' metadata={'source': '10 Academy Cohort A - Weekly Challenge: Week - 6.pdf', 'page': 2}\",\n",
       " \"page_content='to\\\\nthe\\\\noverall\\\\nscore.\\\\nVisualization\\\\n-\\\\nquality\\\\nof\\\\nvisualizations,\\\\nunderstandability,\\\\nskimmability,' metadata={'source': '10 Academy Cohort A - Weekly Challenge: Week - 6.pdf', 'page': 2}\",\n",
       " \"page_content='visualizations,\\\\nunderstandability,\\\\nskimmability,\\\\nchoice\\\\nof\\\\nvisualization\\\\nQuality\\\\nof\\\\ncode\\\\n-' metadata={'source': '10 Academy Cohort A - Weekly Challenge: Week - 6.pdf', 'page': 2}\",\n",
       " \"page_content='choice\\\\nof\\\\nvisualization\\\\nQuality\\\\nof\\\\ncode\\\\n-\\\\nreliability,\\\\nmaintainability,\\\\neﬃciency,\\\\ncommenting\\\\n-\\\\nin' metadata={'source': '10 Academy Cohort A - Weekly Challenge: Week - 6.pdf', 'page': 2}\",\n",
       " \"page_content='maintainability,\\\\neﬃciency,\\\\ncommenting\\\\n-\\\\nin\\\\nfuture\\\\nthis\\\\nwill\\\\nbe\\\\nCICD\\\\n/CML\\\\nInnovative\\\\napproach\\\\nto' metadata={'source': '10 Academy Cohort A - Weekly Challenge: Week - 6.pdf', 'page': 2}\",\n",
       " \"page_content='this\\\\nwill\\\\nbe\\\\nCICD\\\\n/CML\\\\nInnovative\\\\napproach\\\\nto\\\\nanalysis\\\\n-using\\\\nlatest\\\\nalgorithms,\\\\nadding\\\\nin\\\\nresearch' metadata={'source': '10 Academy Cohort A - Weekly Challenge: Week - 6.pdf', 'page': 2}\",\n",
       " \"page_content='-using\\\\nlatest\\\\nalgorithms,\\\\nadding\\\\nin\\\\nresearch\\\\npaper\\\\ncontent\\\\nand\\\\nother\\\\ninnovative\\\\napproaches\\\\nWriting' metadata={'source': '10 Academy Cohort A - Weekly Challenge: Week - 6.pdf', 'page': 2}\",\n",
       " \"page_content='content\\\\nand\\\\nother\\\\ninnovative\\\\napproaches\\\\nWriting\\\\nand\\\\npresentation\\\\n-\\\\nclarity\\\\nof\\\\nwritten\\\\noutputs,' metadata={'source': '10 Academy Cohort A - Weekly Challenge: Week - 6.pdf', 'page': 2}\",\n",
       " \"page_content='and\\\\npresentation\\\\n-\\\\nclarity\\\\nof\\\\nwritten\\\\noutputs,\\\\nclarity\\\\nof\\\\nslides,\\\\noverall\\\\nproduction\\\\nvalue\\\\nMost' metadata={'source': '10 Academy Cohort A - Weekly Challenge: Week - 6.pdf', 'page': 2}\",\n",
       " \"page_content='clarity\\\\nof\\\\nslides,\\\\noverall\\\\nproduction\\\\nvalue\\\\nMost\\\\nsupportive\\\\nin\\\\nthe\\\\ncommunity\\\\n-\\\\nhelping\\\\nothers,' metadata={'source': '10 Academy Cohort A - Weekly Challenge: Week - 6.pdf', 'page': 2}\",\n",
       " \"page_content='supportive\\\\nin\\\\nthe\\\\ncommunity\\\\n-\\\\nhelping\\\\nothers,\\\\nadding\\\\nlinks,\\\\ntutoring\\\\nthose\\\\nstruggling' metadata={'source': '10 Academy Cohort A - Weekly Challenge: Week - 6.pdf', 'page': 2}\",\n",
       " \"page_content='The\\\\ngoal\\\\nof\\\\nthis\\\\napproach\\\\nis\\\\nto\\\\nsupport\\\\nand\\\\nreward\\\\nexpertise\\\\nin\\\\ndiﬀerent\\\\nparts\\\\nof\\\\nthe\\\\nMachine' metadata={'source': '10 Academy Cohort A - Weekly Challenge: Week - 6.pdf', 'page': 3}\",\n",
       " \"page_content='reward\\\\nexpertise\\\\nin\\\\ndiﬀerent\\\\nparts\\\\nof\\\\nthe\\\\nMachine\\\\nlearning\\\\nengineering\\\\ntoolbox.\\\\nGroup\\\\nWork\\\\nPolicy' metadata={'source': '10 Academy Cohort A - Weekly Challenge: Week - 6.pdf', 'page': 3}\",\n",
       " \"page_content='learning\\\\nengineering\\\\ntoolbox.\\\\nGroup\\\\nWork\\\\nPolicy\\\\nEveryone\\\\nhas\\\\nto\\\\nsubmit\\\\nall\\\\ntheir\\\\nwork\\\\nindividually.' metadata={'source': '10 Academy Cohort A - Weekly Challenge: Week - 6.pdf', 'page': 3}\",\n",
       " \"page_content='Instruction:\\\\nAutomatic\\\\nPrompt\\\\nEngineering\\\\nFundamental\\\\nTasks\\\\nThe\\\\ncore\\\\ntasks\\\\nfor\\\\nthis\\\\nweek’s\\\\nchallenge' metadata={'source': '10 Academy Cohort A - Weekly Challenge: Week - 6.pdf', 'page': 4}\",\n",
       " \"page_content='Tasks\\\\nThe\\\\ncore\\\\ntasks\\\\nfor\\\\nthis\\\\nweek’s\\\\nchallenge\\\\nin\\\\nAutomatic\\\\nPrompt\\\\nEngineering\\\\nare\\\\noutlined\\\\nbelow:' metadata={'source': '10 Academy Cohort A - Weekly Challenge: Week - 6.pdf', 'page': 4}\",\n",
       " \"page_content='Automatic\\\\nPrompt\\\\nEngineering\\\\nare\\\\noutlined\\\\nbelow:\\\\n1.\\\\nUnderstand\\\\nPrompt\\\\nEngineering\\\\nTools\\\\nand' metadata={'source': '10 Academy Cohort A - Weekly Challenge: Week - 6.pdf', 'page': 4}\",\n",
       " \"page_content='below:\\\\n1.\\\\nUnderstand\\\\nPrompt\\\\nEngineering\\\\nTools\\\\nand\\\\nConcepts:\\\\nGain\\\\na\\\\nthorough\\\\nunderstanding\\\\nof\\\\nthe' metadata={'source': '10 Academy Cohort A - Weekly Challenge: Week - 6.pdf', 'page': 4}\",\n",
       " \"page_content='Concepts:\\\\nGain\\\\na\\\\nthorough\\\\nunderstanding\\\\nof\\\\nthe\\\\ntools\\\\nand\\\\ntheoretical\\\\nconcepts\\\\ninvolved\\\\nin\\\\nprompt' metadata={'source': '10 Academy Cohort A - Weekly Challenge: Week - 6.pdf', 'page': 4}\",\n",
       " \"page_content='tools\\\\nand\\\\ntheoretical\\\\nconcepts\\\\ninvolved\\\\nin\\\\nprompt\\\\nengineering\\\\nfor\\\\nLanguage\\\\nModels\\\\n(LLMs).\\\\n2.' metadata={'source': '10 Academy Cohort A - Weekly Challenge: Week - 6.pdf', 'page': 4}\",\n",
       " \"page_content='prompt\\\\nengineering\\\\nfor\\\\nLanguage\\\\nModels\\\\n(LLMs).\\\\n2.\\\\nFamiliarize\\\\nwith\\\\nLanguage\\\\nModels:\\\\nLearn\\\\nabout\\\\nthe' metadata={'source': '10 Academy Cohort A - Weekly Challenge: Week - 6.pdf', 'page': 4}\",\n",
       " \"page_content='Familiarize\\\\nwith\\\\nLanguage\\\\nModels:\\\\nLearn\\\\nabout\\\\nthe\\\\ncapabilities\\\\nand\\\\nfunctionalities\\\\nof\\\\nadvanced\\\\nLLMs' metadata={'source': '10 Academy Cohort A - Weekly Challenge: Week - 6.pdf', 'page': 4}\",\n",
       " \"page_content='capabilities\\\\nand\\\\nfunctionalities\\\\nof\\\\nadvanced\\\\nLLMs\\\\nlike\\\\nGPT-4\\\\nand\\\\nGPT-3.5-Turbo.\\\\n3.\\\\nDevelop\\\\na\\\\nPlan' metadata={'source': '10 Academy Cohort A - Weekly Challenge: Week - 6.pdf', 'page': 4}\",\n",
       " \"page_content='like\\\\nGPT-4\\\\nand\\\\nGPT-3.5-Turbo.\\\\n3.\\\\nDevelop\\\\na\\\\nPlan\\\\nfor\\\\nPrompt\\\\nGeneration\\\\nand\\\\nTesting:\\\\nCreate\\\\na' metadata={'source': '10 Academy Cohort A - Weekly Challenge: Week - 6.pdf', 'page': 4}\",\n",
       " \"page_content='Plan\\\\nfor\\\\nPrompt\\\\nGeneration\\\\nand\\\\nTesting:\\\\nCreate\\\\na\\\\ncomprehensive\\\\nplan\\\\nthat\\\\noutlines\\\\nthe\\\\napproach\\\\nfor' metadata={'source': '10 Academy Cohort A - Weekly Challenge: Week - 6.pdf', 'page': 4}\",\n",
       " \"page_content='comprehensive\\\\nplan\\\\nthat\\\\noutlines\\\\nthe\\\\napproach\\\\nfor\\\\nautomated\\\\nprompt\\\\ngeneration,\\\\ntest\\\\ncase\\\\ncreation,' metadata={'source': '10 Academy Cohort A - Weekly Challenge: Week - 6.pdf', 'page': 4}\",\n",
       " \"page_content='automated\\\\nprompt\\\\ngeneration,\\\\ntest\\\\ncase\\\\ncreation,\\\\nand\\\\nprompt\\\\nevaluation.\\\\n4.\\\\nSet\\\\nUp\\\\na\\\\nDevelopment' metadata={'source': '10 Academy Cohort A - Weekly Challenge: Week - 6.pdf', 'page': 4}\",\n",
       " \"page_content='and\\\\nprompt\\\\nevaluation.\\\\n4.\\\\nSet\\\\nUp\\\\na\\\\nDevelopment\\\\nEnvironment:\\\\nPrepare\\\\na\\\\nsuitable\\\\ndevelopment' metadata={'source': '10 Academy Cohort A - Weekly Challenge: Week - 6.pdf', 'page': 4}\",\n",
       " \"page_content='Environment:\\\\nPrepare\\\\na\\\\nsuitable\\\\ndevelopment\\\\nenvironment\\\\nthat\\\\nsupports\\\\nthe\\\\nintegration\\\\nand\\\\ntesting' metadata={'source': '10 Academy Cohort A - Weekly Challenge: Week - 6.pdf', 'page': 4}\",\n",
       " \"page_content='that\\\\nsupports\\\\nthe\\\\nintegration\\\\nand\\\\ntesting\\\\nof\\\\nLLMs\\\\nin\\\\nthe\\\\nprompt\\\\nengineering\\\\nprocess.\\\\n5.\\\\nDesign\\\\nUser' metadata={'source': '10 Academy Cohort A - Weekly Challenge: Week - 6.pdf', 'page': 4}\",\n",
       " \"page_content='in\\\\nthe\\\\nprompt\\\\nengineering\\\\nprocess.\\\\n5.\\\\nDesign\\\\nUser\\\\nInterface\\\\nfor\\\\nPrompt\\\\nSystem:\\\\nPlan\\\\nand\\\\ninitiate' metadata={'source': '10 Academy Cohort A - Weekly Challenge: Week - 6.pdf', 'page': 4}\",\n",
       " \"page_content='Interface\\\\nfor\\\\nPrompt\\\\nSystem:\\\\nPlan\\\\nand\\\\ninitiate\\\\nthe\\\\ndevelopment\\\\nof\\\\na\\\\nuser-friendly\\\\ninterface\\\\nfor' metadata={'source': '10 Academy Cohort A - Weekly Challenge: Week - 6.pdf', 'page': 4}\",\n",
       " \"page_content='the\\\\ndevelopment\\\\nof\\\\na\\\\nuser-friendly\\\\ninterface\\\\nfor\\\\nprompt\\\\ninput,\\\\nreﬁnement,\\\\nand\\\\nperformance\\\\nanalysis.' metadata={'source': '10 Academy Cohort A - Weekly Challenge: Week - 6.pdf', 'page': 4}\",\n",
       " \"page_content='input,\\\\nreﬁnement,\\\\nand\\\\nperformance\\\\nanalysis.\\\\n6.\\\\nPlan\\\\nIntegration\\\\nof\\\\nLLMs:\\\\nStrategize\\\\nthe\\\\nintegration' metadata={'source': '10 Academy Cohort A - Weekly Challenge: Week - 6.pdf', 'page': 4}\",\n",
       " \"page_content='Integration\\\\nof\\\\nLLMs:\\\\nStrategize\\\\nthe\\\\nintegration\\\\nof\\\\nLLMs\\\\ninto\\\\nthe\\\\nprompt\\\\nsystem\\\\nfor\\\\nautomated' metadata={'source': '10 Academy Cohort A - Weekly Challenge: Week - 6.pdf', 'page': 4}\",\n",
       " \"page_content='of\\\\nLLMs\\\\ninto\\\\nthe\\\\nprompt\\\\nsystem\\\\nfor\\\\nautomated\\\\ngeneration\\\\nand\\\\ntesting.\\\\n7.\\\\nBuild\\\\nand\\\\nReﬁne\\\\nPrompt' metadata={'source': '10 Academy Cohort A - Weekly Challenge: Week - 6.pdf', 'page': 4}\",\n",
       " \"page_content='generation\\\\nand\\\\ntesting.\\\\n7.\\\\nBuild\\\\nand\\\\nReﬁne\\\\nPrompt\\\\nGeneration\\\\nSystem:\\\\nDevelop\\\\nthe\\\\nautomated\\\\nprompt' metadata={'source': '10 Academy Cohort A - Weekly Challenge: Week - 6.pdf', 'page': 4}\",\n",
       " \"page_content='Generation\\\\nSystem:\\\\nDevelop\\\\nthe\\\\nautomated\\\\nprompt\\\\ngeneration\\\\nsystem,\\\\nensuring\\\\nit\\\\naligns\\\\nwith\\\\nuser' metadata={'source': '10 Academy Cohort A - Weekly Challenge: Week - 6.pdf', 'page': 4}\",\n",
       " \"page_content='generation\\\\nsystem,\\\\nensuring\\\\nit\\\\naligns\\\\nwith\\\\nuser\\\\ninputs\\\\nand\\\\nobjectives.\\\\n8.\\\\nDevelop\\\\nAutomatic' metadata={'source': '10 Academy Cohort A - Weekly Challenge: Week - 6.pdf', 'page': 4}\",\n",
       " \"page_content='user\\\\ninputs\\\\nand\\\\nobjectives.\\\\n8.\\\\nDevelop\\\\nAutomatic\\\\nEvaluation\\\\nData\\\\nGeneration\\\\nSystem:\\\\nCreate\\\\na\\\\nsystem' metadata={'source': '10 Academy Cohort A - Weekly Challenge: Week - 6.pdf', 'page': 4}\",\n",
       " \"page_content='Data\\\\nGeneration\\\\nSystem:\\\\nCreate\\\\na\\\\nsystem\\\\nfor\\\\ngenerating\\\\ntest\\\\ncases\\\\nthat\\\\nevaluate\\\\nthe\\\\neﬀectiveness\\\\nof' metadata={'source': '10 Academy Cohort A - Weekly Challenge: Week - 6.pdf', 'page': 4}\",\n",
       " \"page_content='test\\\\ncases\\\\nthat\\\\nevaluate\\\\nthe\\\\neﬀectiveness\\\\nof\\\\nprompts\\\\nin\\\\nvarious\\\\nscenarios.\\\\n9.\\\\nImplement\\\\nPrompt' metadata={'source': '10 Academy Cohort A - Weekly Challenge: Week - 6.pdf', 'page': 4}\",\n",
       " \"page_content='prompts\\\\nin\\\\nvarious\\\\nscenarios.\\\\n9.\\\\nImplement\\\\nPrompt\\\\nTesting\\\\nand\\\\nEvaluation\\\\nMechanism:\\\\nSet\\\\nup\\\\ntesting' metadata={'source': '10 Academy Cohort A - Weekly Challenge: Week - 6.pdf', 'page': 4}\",\n",
       " \"page_content='Testing\\\\nand\\\\nEvaluation\\\\nMechanism:\\\\nSet\\\\nup\\\\ntesting\\\\nprocedures\\\\nusing\\\\nMonte\\\\nCarlo\\\\nmatchmaking\\\\nand\\\\nELO' metadata={'source': '10 Academy Cohort A - Weekly Challenge: Week - 6.pdf', 'page': 4}\",\n",
       " \"page_content='procedures\\\\nusing\\\\nMonte\\\\nCarlo\\\\nmatchmaking\\\\nand\\\\nELO\\\\nrating\\\\nsystems\\\\nto\\\\nevaluate\\\\nand\\\\nrank\\\\nprompts.\\\\n10.' metadata={'source': '10 Academy Cohort A - Weekly Challenge: Week - 6.pdf', 'page': 4}\",\n",
       " \"page_content='rating\\\\nsystems\\\\nto\\\\nevaluate\\\\nand\\\\nrank\\\\nprompts.\\\\n10.\\\\nReﬁne\\\\nand\\\\nOptimize\\\\nSystem\\\\nBased\\\\non\\\\nFeedback:' metadata={'source': '10 Academy Cohort A - Weekly Challenge: Week - 6.pdf', 'page': 4}\",\n",
       " \"page_content='10.\\\\nReﬁne\\\\nand\\\\nOptimize\\\\nSystem\\\\nBased\\\\non\\\\nFeedback:\\\\nContinuously\\\\nreﬁne\\\\nthe\\\\nprompt\\\\ngeneration\\\\nand' metadata={'source': '10 Academy Cohort A - Weekly Challenge: Week - 6.pdf', 'page': 4}\",\n",
       " \"page_content='Continuously\\\\nreﬁne\\\\nthe\\\\nprompt\\\\ngeneration\\\\nand\\\\nevaluation\\\\nsystem\\\\nbased\\\\non\\\\nuser\\\\nfeedback\\\\nand' metadata={'source': '10 Academy Cohort A - Weekly Challenge: Week - 6.pdf', 'page': 4}\",\n",
       " \"page_content='and\\\\nevaluation\\\\nsystem\\\\nbased\\\\non\\\\nuser\\\\nfeedback\\\\nand\\\\nperformance\\\\ndata.' metadata={'source': '10 Academy Cohort A - Weekly Challenge: Week - 6.pdf', 'page': 4}\",\n",
       " \"page_content='Task\\\\n1:\\\\nReview\\\\nthe\\\\nEvolution\\\\nof\\\\nAutomatic\\\\nPrompt\\\\nEngineering\\\\nFocus\\\\non\\\\nunderstanding\\\\nthe\\\\nkey' metadata={'source': '10 Academy Cohort A - Weekly Challenge: Week - 6.pdf', 'page': 5}\",\n",
       " \"page_content='Prompt\\\\nEngineering\\\\nFocus\\\\non\\\\nunderstanding\\\\nthe\\\\nkey\\\\ndevelopments\\\\nin\\\\nthe\\\\nﬁeld\\\\nof\\\\nautomatic\\\\nprompt' metadata={'source': '10 Academy Cohort A - Weekly Challenge: Week - 6.pdf', 'page': 5}\",\n",
       " \"page_content='key\\\\ndevelopments\\\\nin\\\\nthe\\\\nﬁeld\\\\nof\\\\nautomatic\\\\nprompt\\\\nengineering\\\\nfor\\\\nLanguage\\\\nModels\\\\n(LLMs).\\\\nStudy\\\\nKey' metadata={'source': '10 Academy Cohort A - Weekly Challenge: Week - 6.pdf', 'page': 5}\",\n",
       " \"page_content='engineering\\\\nfor\\\\nLanguage\\\\nModels\\\\n(LLMs).\\\\nStudy\\\\nKey\\\\nConcepts\\\\nand\\\\nTools:\\\\n●\\\\nUnderstand\\\\nthe\\\\nkey' metadata={'source': '10 Academy Cohort A - Weekly Challenge: Week - 6.pdf', 'page': 5}\",\n",
       " \"page_content='Key\\\\nConcepts\\\\nand\\\\nTools:\\\\n●\\\\nUnderstand\\\\nthe\\\\nkey\\\\ncomponents\\\\nof\\\\nan\\\\nenterprise\\\\ngrade\\\\nRAG\\\\nsystems\\\\n○' metadata={'source': '10 Academy Cohort A - Weekly Challenge: Week - 6.pdf', 'page': 5}\",\n",
       " \"page_content='components\\\\nof\\\\nan\\\\nenterprise\\\\ngrade\\\\nRAG\\\\nsystems\\\\n○\\\\nRetrieval-augmented\\\\ngeneration\\\\n(RAG):\\\\nWhat\\\\nit\\\\nis' metadata={'source': '10 Academy Cohort A - Weekly Challenge: Week - 6.pdf', 'page': 5}\",\n",
       " \"page_content='Retrieval-augmented\\\\ngeneration\\\\n(RAG):\\\\nWhat\\\\nit\\\\nis\\\\nand\\\\nwhy\\\\nit’s\\\\na\\\\nhot\\\\ntopic\\\\nfor\\\\nenterprise\\\\nAI\\\\n○' metadata={'source': '10 Academy Cohort A - Weekly Challenge: Week - 6.pdf', 'page': 5}\",\n",
       " \"page_content='is\\\\nand\\\\nwhy\\\\nit’s\\\\na\\\\nhot\\\\ntopic\\\\nfor\\\\nenterprise\\\\nAI\\\\n○\\\\nAdvanced\\\\nRAG\\\\nfor\\\\nLLMs/SLMs\\\\n○\\\\nRAG\\\\nfor\\\\nText' metadata={'source': '10 Academy Cohort A - Weekly Challenge: Week - 6.pdf', 'page': 5}\",\n",
       " \"page_content='AI\\\\n○\\\\nAdvanced\\\\nRAG\\\\nfor\\\\nLLMs/SLMs\\\\n○\\\\nRAG\\\\nfor\\\\nText\\\\nGeneration\\\\nProcesses\\\\nin\\\\nBusinesses\\\\n(check\\\\npart\\\\n1,\\\\n3,' metadata={'source': '10 Academy Cohort A - Weekly Challenge: Week - 6.pdf', 'page': 5}\",\n",
       " \"page_content='Processes\\\\nin\\\\nBusinesses\\\\n(check\\\\npart\\\\n1,\\\\n3,\\\\n&\\\\n4\\\\nas\\\\nwell)\\\\n○\\\\nLangchain\\\\nReterivers\\\\n●\\\\nUnderstand\\\\nthe\\\\nneed' metadata={'source': '10 Academy Cohort A - Weekly Challenge: Week - 6.pdf', 'page': 5}\",\n",
       " \"page_content='○\\\\nLangchain\\\\nReterivers\\\\n●\\\\nUnderstand\\\\nthe\\\\nneed\\\\nfor\\\\nadvanced\\\\nprompt\\\\nengineering\\\\nin\\\\nbuilding\\\\nenterprise' metadata={'source': '10 Academy Cohort A - Weekly Challenge: Week - 6.pdf', 'page': 5}\",\n",
       " \"page_content='prompt\\\\nengineering\\\\nin\\\\nbuilding\\\\nenterprise\\\\ngrade\\\\nRAG\\\\nsystems\\\\n○\\\\nFull\\\\nFine-Tuning,\\\\nPEFT,\\\\nPrompt' metadata={'source': '10 Academy Cohort A - Weekly Challenge: Week - 6.pdf', 'page': 5}\",\n",
       " \"page_content='RAG\\\\nsystems\\\\n○\\\\nFull\\\\nFine-Tuning,\\\\nPEFT,\\\\nPrompt\\\\nEngineering,\\\\nand\\\\nRAG:\\\\nWhich\\\\nOne\\\\nIs\\\\nRight\\\\nfor\\\\nYou?\\\\n○' metadata={'source': '10 Academy Cohort A - Weekly Challenge: Week - 6.pdf', 'page': 5}\",\n",
       " \"page_content='and\\\\nRAG:\\\\nWhich\\\\nOne\\\\nIs\\\\nRight\\\\nfor\\\\nYou?\\\\n○\\\\nAdvanced\\\\nPrompt\\\\nEngineering\\\\n-\\\\nPractical\\\\nExamples\\\\n○\\\\nPrompt' metadata={'source': '10 Academy Cohort A - Weekly Challenge: Week - 6.pdf', 'page': 5}\",\n",
       " \"page_content='Prompt\\\\nEngineering\\\\n-\\\\nPractical\\\\nExamples\\\\n○\\\\nPrompt\\\\nEngineering\\\\n201:\\\\nAdvanced\\\\nmethods\\\\nand\\\\ntoolkits\\\\n○' metadata={'source': '10 Academy Cohort A - Weekly Challenge: Week - 6.pdf', 'page': 5}\",\n",
       " \"page_content='Engineering\\\\n201:\\\\nAdvanced\\\\nmethods\\\\nand\\\\ntoolkits\\\\n○\\\\nDo\\\\nyou\\\\nagree\\\\nwith\\\\nthis\\\\narticle?\\\\nRAG\\\\nis\\\\nJust' metadata={'source': '10 Academy Cohort A - Weekly Challenge: Week - 6.pdf', 'page': 5}\",\n",
       " \"page_content='○\\\\nDo\\\\nyou\\\\nagree\\\\nwith\\\\nthis\\\\narticle?\\\\nRAG\\\\nis\\\\nJust\\\\nFancier\\\\nPrompt\\\\nEngineering\\\\n●\\\\nUnderstand\\\\nthe\\\\nneed\\\\nfor' metadata={'source': '10 Academy Cohort A - Weekly Challenge: Week - 6.pdf', 'page': 5}\",\n",
       " \"page_content='Prompt\\\\nEngineering\\\\n●\\\\nUnderstand\\\\nthe\\\\nneed\\\\nfor\\\\nevaluating\\\\nRAG\\\\ncomponents\\\\n○\\\\nAn\\\\nOverview\\\\non\\\\nRAG' metadata={'source': '10 Academy Cohort A - Weekly Challenge: Week - 6.pdf', 'page': 5}\",\n",
       " \"page_content='evaluating\\\\nRAG\\\\ncomponents\\\\n○\\\\nAn\\\\nOverview\\\\non\\\\nRAG\\\\nEvaluation\\\\n○\\\\nEvaluating\\\\nRAG:\\\\nUsing\\\\nLLMs\\\\nto\\\\nAutomate' metadata={'source': '10 Academy Cohort A - Weekly Challenge: Week - 6.pdf', 'page': 5}\",\n",
       " \"page_content='○\\\\nEvaluating\\\\nRAG:\\\\nUsing\\\\nLLMs\\\\nto\\\\nAutomate\\\\nBenchmarking\\\\nof\\\\nRetrieval\\\\nAugmented\\\\nGeneration\\\\nSystems\\\\n○' metadata={'source': '10 Academy Cohort A - Weekly Challenge: Week - 6.pdf', 'page': 5}\",\n",
       " \"page_content='of\\\\nRetrieval\\\\nAugmented\\\\nGeneration\\\\nSystems\\\\n○\\\\nEvaluating\\\\nRAG\\\\nApplications\\\\nwith\\\\nRAGAs\\\\n○\\\\nRAG\\\\nEvaluation' metadata={'source': '10 Academy Cohort A - Weekly Challenge: Week - 6.pdf', 'page': 5}\",\n",
       " \"page_content='RAG\\\\nApplications\\\\nwith\\\\nRAGAs\\\\n○\\\\nRAG\\\\nEvaluation\\\\nUsing\\\\nLangChain\\\\nand\\\\nRagas\\\\n○\\\\nRAG\\\\nSystem:\\\\nMetrics\\\\nand' metadata={'source': '10 Academy Cohort A - Weekly Challenge: Week - 6.pdf', 'page': 5}\",\n",
       " \"page_content='LangChain\\\\nand\\\\nRagas\\\\n○\\\\nRAG\\\\nSystem:\\\\nMetrics\\\\nand\\\\nEvaluation\\\\nAnalysis\\\\nwith\\\\nLlamaIndex\\\\n○\\\\nEvaluating\\\\nRAG' metadata={'source': '10 Academy Cohort A - Weekly Challenge: Week - 6.pdf', 'page': 5}\",\n",
       " \"page_content='Analysis\\\\nwith\\\\nLlamaIndex\\\\n○\\\\nEvaluating\\\\nRAG\\\\nPart\\\\nI:\\\\nHow\\\\nto\\\\nEvaluate\\\\nDocument\\\\nRetrieval\\\\n○\\\\nEvaluating' metadata={'source': '10 Academy Cohort A - Weekly Challenge: Week - 6.pdf', 'page': 5}\",\n",
       " \"page_content='How\\\\nto\\\\nEvaluate\\\\nDocument\\\\nRetrieval\\\\n○\\\\nEvaluating\\\\nRAG/LLMs\\\\nin\\\\nhighly\\\\ntechnical\\\\nsettings\\\\nusing' metadata={'source': '10 Academy Cohort A - Weekly Challenge: Week - 6.pdf', 'page': 5}\",\n",
       " \"page_content='RAG/LLMs\\\\nin\\\\nhighly\\\\ntechnical\\\\nsettings\\\\nusing\\\\nsynthetic\\\\nQA\\\\ngeneration\\\\n○\\\\nEvaluating\\\\nMulti-Modal\\\\nRAG\\\\n●' metadata={'source': '10 Academy Cohort A - Weekly Challenge: Week - 6.pdf', 'page': 5}\",\n",
       " \"page_content='QA\\\\ngeneration\\\\n○\\\\nEvaluating\\\\nMulti-Modal\\\\nRAG\\\\n●\\\\nUnderstand\\\\nthe\\\\ntools\\\\nand\\\\ntechniques\\\\nto\\\\nautomatically' metadata={'source': '10 Academy Cohort A - Weekly Challenge: Week - 6.pdf', 'page': 5}\",\n",
       " \"page_content='the\\\\ntools\\\\nand\\\\ntechniques\\\\nto\\\\nautomatically\\\\ngenerate\\\\nRAG\\\\nevaluation\\\\ndata\\\\n○\\\\nThe\\\\nTech\\\\nBuﬀet\\\\n#16:' metadata={'source': '10 Academy Cohort A - Weekly Challenge: Week - 6.pdf', 'page': 5}\",\n",
       " \"page_content='RAG\\\\nevaluation\\\\ndata\\\\n○\\\\nThe\\\\nTech\\\\nBuﬀet\\\\n#16:\\\\nQuickly\\\\nEvaluate\\\\nyour\\\\nRAG\\\\nWithout\\\\nManually\\\\nLabeling\\\\nTest' metadata={'source': '10 Academy Cohort A - Weekly Challenge: Week - 6.pdf', 'page': 5}\",\n",
       " \"page_content='Evaluate\\\\nyour\\\\nRAG\\\\nWithout\\\\nManually\\\\nLabeling\\\\nTest\\\\nData\\\\n○\\\\nGenerating\\\\na\\\\nSynthetic\\\\nDataset\\\\nfor\\\\nRAG\\\\n○\\\\n●' metadata={'source': '10 Academy Cohort A - Weekly Challenge: Week - 6.pdf', 'page': 5}\",\n",
       " \"page_content='Data\\\\n○\\\\nGenerating\\\\na\\\\nSynthetic\\\\nDataset\\\\nfor\\\\nRAG\\\\n○\\\\n●\\\\nLearn\\\\nkey\\\\npackages\\\\nto\\\\nplanning,\\\\nbuilding,' metadata={'source': '10 Academy Cohort A - Weekly Challenge: Week - 6.pdf', 'page': 5}\",\n",
       " \"page_content='RAG\\\\n○\\\\n●\\\\nLearn\\\\nkey\\\\npackages\\\\nto\\\\nplanning,\\\\nbuilding,\\\\ntesting,\\\\nmonitoring,\\\\nand\\\\ndeploying\\\\nenterprise' metadata={'source': '10 Academy Cohort A - Weekly Challenge: Week - 6.pdf', 'page': 5}\",\n",
       " \"page_content='testing,\\\\nmonitoring,\\\\nand\\\\ndeploying\\\\nenterprise\\\\ngrade\\\\nRAG\\\\nsystem\\\\n○\\\\nIterate\\\\non\\\\nLLMs\\\\nfaster:\\\\nMeasure' metadata={'source': '10 Academy Cohort A - Weekly Challenge: Week - 6.pdf', 'page': 5}\",\n",
       " \"page_content='RAG\\\\nsystem\\\\n○\\\\nIterate\\\\non\\\\nLLMs\\\\nfaster:\\\\nMeasure\\\\nLLM\\\\nquality\\\\nand\\\\ncatch\\\\nregressions\\\\n○\\\\nBuilding\\\\nRAG-based' metadata={'source': '10 Academy Cohort A - Weekly Challenge: Week - 6.pdf', 'page': 5}\",\n",
       " \"page_content='and\\\\ncatch\\\\nregressions\\\\n○\\\\nBuilding\\\\nRAG-based\\\\nLLM\\\\nApplications\\\\nfor\\\\nProduction\\\\n○\\\\nARES:\\\\nAn\\\\nAutomated' metadata={'source': '10 Academy Cohort A - Weekly Challenge: Week - 6.pdf', 'page': 5}\",\n",
       " \"page_content='Applications\\\\nfor\\\\nProduction\\\\n○\\\\nARES:\\\\nAn\\\\nAutomated\\\\nEvaluation\\\\nFramework\\\\nfor\\\\nRetrieval-Augmented' metadata={'source': '10 Academy Cohort A - Weekly Challenge: Week - 6.pdf', 'page': 5}\",\n",
       " \"page_content='Evaluation\\\\nFramework\\\\nfor\\\\nRetrieval-Augmented\\\\nGeneration\\\\nSystems\\\\n●\\\\nUnderstand\\\\nthe\\\\nend-to-end' metadata={'source': '10 Academy Cohort A - Weekly Challenge: Week - 6.pdf', 'page': 5}\",\n",
       " \"page_content='Generation\\\\nSystems\\\\n●\\\\nUnderstand\\\\nthe\\\\nend-to-end\\\\ntechnology\\\\nstack\\\\nof\\\\nRAG\\\\nsystems\\\\n○\\\\nEnd-to-End\\\\nLLMOps' metadata={'source': '10 Academy Cohort A - Weekly Challenge: Week - 6.pdf', 'page': 5}\",\n",
       " \"page_content='stack\\\\nof\\\\nRAG\\\\nsystems\\\\n○\\\\nEnd-to-End\\\\nLLMOps\\\\nPlatform' metadata={'source': '10 Academy Cohort A - Weekly Challenge: Week - 6.pdf', 'page': 5}\",\n",
       " \"page_content='○\\\\nAn\\\\nEnterprise-Grade\\\\nReference\\\\nArchitecture\\\\nfor\\\\nthe\\\\nProduction\\\\nDeployment\\\\nof\\\\nLLMs\\\\nUsing\\\\nthe\\\\nRAG' metadata={'source': '10 Academy Cohort A - Weekly Challenge: Week - 6.pdf', 'page': 6}\",\n",
       " \"page_content='the\\\\nProduction\\\\nDeployment\\\\nof\\\\nLLMs\\\\nUsing\\\\nthe\\\\nRAG\\\\nPattern\\\\non\\\\nAzure\\\\nOpenAI\\\\nTask\\\\n2:\\\\nDesign\\\\nand\\\\nDevelop' metadata={'source': '10 Academy Cohort A - Weekly Challenge: Week - 6.pdf', 'page': 6}\",\n",
       " \"page_content='on\\\\nAzure\\\\nOpenAI\\\\nTask\\\\n2:\\\\nDesign\\\\nand\\\\nDevelop\\\\nthe\\\\nPrompt\\\\nGeneration\\\\nSystem\\\\n●\\\\nUsers\\\\ncan\\\\ninput\\\\na' metadata={'source': '10 Academy Cohort A - Weekly Challenge: Week - 6.pdf', 'page': 6}\",\n",
       " \"page_content='the\\\\nPrompt\\\\nGeneration\\\\nSystem\\\\n●\\\\nUsers\\\\ncan\\\\ninput\\\\na\\\\ndescription\\\\nof\\\\ntheir\\\\nobjective\\\\nor\\\\ntask\\\\nand\\\\nspecify' metadata={'source': '10 Academy Cohort A - Weekly Challenge: Week - 6.pdf', 'page': 6}\",\n",
       " \"page_content='of\\\\ntheir\\\\nobjective\\\\nor\\\\ntask\\\\nand\\\\nspecify\\\\na\\\\nfew\\\\nscenarios\\\\nalong\\\\nwith\\\\ntheir\\\\nexpected\\\\noutputs.\\\\n●\\\\nWrite' metadata={'source': '10 Academy Cohort A - Weekly Challenge: Week - 6.pdf', 'page': 6}\",\n",
       " \"page_content='along\\\\nwith\\\\ntheir\\\\nexpected\\\\noutputs.\\\\n●\\\\nWrite\\\\nor\\\\nadopt\\\\nsophisticated\\\\nalgorithms,\\\\nyou\\\\ngenerate\\\\nmultiple' metadata={'source': '10 Academy Cohort A - Weekly Challenge: Week - 6.pdf', 'page': 6}\",\n",
       " \"page_content='sophisticated\\\\nalgorithms,\\\\nyou\\\\ngenerate\\\\nmultiple\\\\nprompt\\\\noptions\\\\nbased\\\\non\\\\nthe\\\\nprovided\\\\ninformation.\\\\n●' metadata={'source': '10 Academy Cohort A - Weekly Challenge: Week - 6.pdf', 'page': 6}\",\n",
       " \"page_content='options\\\\nbased\\\\non\\\\nthe\\\\nprovided\\\\ninformation.\\\\n●\\\\nThis\\\\nautomated\\\\nprompt\\\\ngeneration\\\\nprocess\\\\nsaves\\\\ntime' metadata={'source': '10 Academy Cohort A - Weekly Challenge: Week - 6.pdf', 'page': 6}\",\n",
       " \"page_content='automated\\\\nprompt\\\\ngeneration\\\\nprocess\\\\nsaves\\\\ntime\\\\nand\\\\nprovides\\\\na\\\\ndiverse\\\\nrange\\\\nof\\\\nalternatives\\\\nto' metadata={'source': '10 Academy Cohort A - Weekly Challenge: Week - 6.pdf', 'page': 6}\",\n",
       " \"page_content='and\\\\nprovides\\\\na\\\\ndiverse\\\\nrange\\\\nof\\\\nalternatives\\\\nto\\\\nconsider.\\\\nBut\\\\nadd\\\\nan\\\\nevaluation\\\\nmetrics\\\\nthat\\\\ncheck' metadata={'source': '10 Academy Cohort A - Weekly Challenge: Week - 6.pdf', 'page': 6}\",\n",
       " \"page_content='But\\\\nadd\\\\nan\\\\nevaluation\\\\nmetrics\\\\nthat\\\\ncheck\\\\nwhether\\\\nthe\\\\ngenerated\\\\nprompt\\\\ncandidate\\\\naligns\\\\nwith\\\\nthe' metadata={'source': '10 Academy Cohort A - Weekly Challenge: Week - 6.pdf', 'page': 6}\",\n",
       " \"page_content='the\\\\ngenerated\\\\nprompt\\\\ncandidate\\\\naligns\\\\nwith\\\\nthe\\\\ninput\\\\ndescription.\\\\nTask\\\\n3:\\\\nImplement\\\\nEvaluation\\\\nData' metadata={'source': '10 Academy Cohort A - Weekly Challenge: Week - 6.pdf', 'page': 6}\",\n",
       " \"page_content='description.\\\\nTask\\\\n3:\\\\nImplement\\\\nEvaluation\\\\nData\\\\nGeneration\\\\nand\\\\nEvaluation\\\\nTo\\\\nfurther\\\\nenhance\\\\nthe' metadata={'source': '10 Academy Cohort A - Weekly Challenge: Week - 6.pdf', 'page': 6}\",\n",
       " \"page_content='Generation\\\\nand\\\\nEvaluation\\\\nTo\\\\nfurther\\\\nenhance\\\\nthe\\\\nprompt\\\\ngeneration\\\\nprocess,\\\\nincorporate\\\\nautomatic' metadata={'source': '10 Academy Cohort A - Weekly Challenge: Week - 6.pdf', 'page': 6}\",\n",
       " \"page_content='prompt\\\\ngeneration\\\\nprocess,\\\\nincorporate\\\\nautomatic\\\\nEvaluation\\\\nData\\\\nGeneration.\\\\n●\\\\nBy\\\\nanalysing\\\\nthe' metadata={'source': '10 Academy Cohort A - Weekly Challenge: Week - 6.pdf', 'page': 6}\",\n",
       " \"page_content='Evaluation\\\\nData\\\\nGeneration.\\\\n●\\\\nBy\\\\nanalysing\\\\nthe\\\\ndescription\\\\nprovided\\\\nby\\\\nthe\\\\nuser,\\\\ncreate\\\\na\\\\nset\\\\nof' metadata={'source': '10 Academy Cohort A - Weekly Challenge: Week - 6.pdf', 'page': 6}\",\n",
       " \"page_content='description\\\\nprovided\\\\nby\\\\nthe\\\\nuser,\\\\ncreate\\\\na\\\\nset\\\\nof\\\\ntest\\\\ncases\\\\nthat\\\\nserve\\\\nas\\\\nevaluation\\\\nbenchmarks' metadata={'source': '10 Academy Cohort A - Weekly Challenge: Week - 6.pdf', 'page': 6}\",\n",
       " \"page_content='of\\\\ntest\\\\ncases\\\\nthat\\\\nserve\\\\nas\\\\nevaluation\\\\nbenchmarks\\\\nfor\\\\nthe\\\\nprompt\\\\ncandidates.\\\\n●\\\\nThese\\\\ntest\\\\ncases' metadata={'source': '10 Academy Cohort A - Weekly Challenge: Week - 6.pdf', 'page': 6}\",\n",
       " \"page_content='for\\\\nthe\\\\nprompt\\\\ncandidates.\\\\n●\\\\nThese\\\\ntest\\\\ncases\\\\nsimulate\\\\nvarious\\\\nscenarios,\\\\nenabling\\\\nusers\\\\nto\\\\nobserve' metadata={'source': '10 Academy Cohort A - Weekly Challenge: Week - 6.pdf', 'page': 6}\",\n",
       " \"page_content='various\\\\nscenarios,\\\\nenabling\\\\nusers\\\\nto\\\\nobserve\\\\nhow\\\\neach\\\\nprompt\\\\nperforms\\\\nin\\\\ndiﬀerent\\\\ncontexts.\\\\n●\\\\nThe' metadata={'source': '10 Academy Cohort A - Weekly Challenge: Week - 6.pdf', 'page': 6}\",\n",
       " \"page_content='each\\\\nprompt\\\\nperforms\\\\nin\\\\ndiﬀerent\\\\ncontexts.\\\\n●\\\\nThe\\\\ngenerated\\\\ntest\\\\ncases\\\\nserve\\\\nas\\\\na\\\\nstarting\\\\npoint,' metadata={'source': '10 Academy Cohort A - Weekly Challenge: Week - 6.pdf', 'page': 6}\",\n",
       " \"page_content='generated\\\\ntest\\\\ncases\\\\nserve\\\\nas\\\\na\\\\nstarting\\\\npoint,\\\\nsparking\\\\ncreativity\\\\nand\\\\ninspiring\\\\nadditional\\\\ntest' metadata={'source': '10 Academy Cohort A - Weekly Challenge: Week - 6.pdf', 'page': 6}\",\n",
       " \"page_content='sparking\\\\ncreativity\\\\nand\\\\ninspiring\\\\nadditional\\\\ntest\\\\ncases\\\\nfor\\\\ncomprehensive\\\\nevaluation.\\\\nTask\\\\n4\\\\n:' metadata={'source': '10 Academy Cohort A - Weekly Challenge: Week - 6.pdf', 'page': 6}\",\n",
       " \"page_content='test\\\\ncases\\\\nfor\\\\ncomprehensive\\\\nevaluation.\\\\nTask\\\\n4\\\\n:\\\\nPrompt\\\\nTesting\\\\nand\\\\nRanking\\\\nGoals\\\\nComprehensive' metadata={'source': '10 Academy Cohort A - Weekly Challenge: Week - 6.pdf', 'page': 6}\",\n",
       " \"page_content=':\\\\nPrompt\\\\nTesting\\\\nand\\\\nRanking\\\\nGoals\\\\nComprehensive\\\\nEvaluation:\\\\nProvide\\\\na\\\\nrobust\\\\nsystem\\\\nthat\\\\nuses' metadata={'source': '10 Academy Cohort A - Weekly Challenge: Week - 6.pdf', 'page': 6}\",\n",
       " \"page_content='Evaluation:\\\\nProvide\\\\na\\\\nrobust\\\\nsystem\\\\nthat\\\\nuses\\\\nvarious\\\\nmethodologies\\\\nfor\\\\na\\\\nthorough\\\\nassessment\\\\nof' metadata={'source': '10 Academy Cohort A - Weekly Challenge: Week - 6.pdf', 'page': 6}\",\n",
       " \"page_content='methodologies\\\\nfor\\\\na\\\\nthorough\\\\nassessment\\\\nof\\\\nprompts.\\\\nCustomizable\\\\nand\\\\nUser-Centric:\\\\nAllow\\\\nusers\\\\nto' metadata={'source': '10 Academy Cohort A - Weekly Challenge: Week - 6.pdf', 'page': 6}\",\n",
       " \"page_content='Customizable\\\\nand\\\\nUser-Centric:\\\\nAllow\\\\nusers\\\\nto\\\\nchoose\\\\nor\\\\ncustomize\\\\ntheir\\\\npreferred\\\\nevaluation' metadata={'source': '10 Academy Cohort A - Weekly Challenge: Week - 6.pdf', 'page': 6}\",\n",
       " \"page_content='to\\\\nchoose\\\\nor\\\\ncustomize\\\\ntheir\\\\npreferred\\\\nevaluation\\\\nmethods.\\\\nDynamic\\\\nand\\\\nAdaptive:\\\\nEnsure\\\\nthe\\\\nsystem' metadata={'source': '10 Academy Cohort A - Weekly Challenge: Week - 6.pdf', 'page': 6}\",\n",
       " \"page_content='methods.\\\\nDynamic\\\\nand\\\\nAdaptive:\\\\nEnsure\\\\nthe\\\\nsystem\\\\nremains\\\\nﬂexible\\\\nand\\\\nadaptive,\\\\ncapable\\\\nof' metadata={'source': '10 Academy Cohort A - Weekly Challenge: Week - 6.pdf', 'page': 6}\",\n",
       " \"page_content='system\\\\nremains\\\\nﬂexible\\\\nand\\\\nadaptive,\\\\ncapable\\\\nof\\\\nincorporating\\\\nnew\\\\nranking\\\\nmethodologies\\\\nas\\\\nthey' metadata={'source': '10 Academy Cohort A - Weekly Challenge: Week - 6.pdf', 'page': 6}\",\n",
       " \"page_content='incorporating\\\\nnew\\\\nranking\\\\nmethodologies\\\\nas\\\\nthey\\\\nemerge.\\\\nPrimary\\\\nMethods\\\\n●\\\\nMonte\\\\nCarlo\\\\nMatchmaking:' metadata={'source': '10 Academy Cohort A - Weekly Challenge: Week - 6.pdf', 'page': 6}\",\n",
       " \"page_content='Primary\\\\nMethods\\\\n●\\\\nMonte\\\\nCarlo\\\\nMatchmaking:\\\\nThis\\\\nmethod\\\\nis\\\\nused\\\\nto\\\\nselect\\\\nand\\\\nmatch\\\\ndiﬀerent\\\\nprompt' metadata={'source': '10 Academy Cohort A - Weekly Challenge: Week - 6.pdf', 'page': 6}\",\n",
       " \"page_content='is\\\\nused\\\\nto\\\\nselect\\\\nand\\\\nmatch\\\\ndiﬀerent\\\\nprompt\\\\ncandidates\\\\nagainst\\\\neach\\\\nother.\\\\nThe\\\\nMonte\\\\nCarlo\\\\nmethod,' metadata={'source': '10 Academy Cohort A - Weekly Challenge: Week - 6.pdf', 'page': 6}\",\n",
       " \"page_content='against\\\\neach\\\\nother.\\\\nThe\\\\nMonte\\\\nCarlo\\\\nmethod,\\\\nknown\\\\nfor\\\\nits\\\\napplications\\\\nin\\\\nproblem-solving\\\\nand' metadata={'source': '10 Academy Cohort A - Weekly Challenge: Week - 6.pdf', 'page': 6}\",\n",
       " \"page_content='known\\\\nfor\\\\nits\\\\napplications\\\\nin\\\\nproblem-solving\\\\nand\\\\ndecision-making\\\\nprocesses,\\\\nhelps\\\\nin\\\\noptimizing' metadata={'source': '10 Academy Cohort A - Weekly Challenge: Week - 6.pdf', 'page': 6}\",\n",
       " \"page_content='decision-making\\\\nprocesses,\\\\nhelps\\\\nin\\\\noptimizing\\\\nthe\\\\ninformation\\\\ngained\\\\nfrom\\\\neach\\\\nprompt\\\\nbattle.\\\\nBy' metadata={'source': '10 Academy Cohort A - Weekly Challenge: Week - 6.pdf', 'page': 6}\",\n",
       " \"page_content='information\\\\ngained\\\\nfrom\\\\neach\\\\nprompt\\\\nbattle.\\\\nBy\\\\nsimulating\\\\nvarious\\\\nmatchups,\\\\nit\\\\nallows\\\\nthe\\\\nsystem\\\\nto' metadata={'source': '10 Academy Cohort A - Weekly Challenge: Week - 6.pdf', 'page': 6}\",\n",
       " \"page_content='various\\\\nmatchups,\\\\nit\\\\nallows\\\\nthe\\\\nsystem\\\\nto\\\\ntest\\\\nthe\\\\neﬀectiveness\\\\nof\\\\neach\\\\nprompt\\\\nin\\\\ndiﬀerent' metadata={'source': '10 Academy Cohort A - Weekly Challenge: Week - 6.pdf', 'page': 6}\",\n",
       " \"page_content='test\\\\nthe\\\\neﬀectiveness\\\\nof\\\\neach\\\\nprompt\\\\nin\\\\ndiﬀerent\\\\nscenarios.\\\\n●\\\\nELO\\\\nRating\\\\nSystem:\\\\nThis\\\\nsystem,\\\\nwhich' metadata={'source': '10 Academy Cohort A - Weekly Challenge: Week - 6.pdf', 'page': 6}\",\n",
       " \"page_content='●\\\\nELO\\\\nRating\\\\nSystem:\\\\nThis\\\\nsystem,\\\\nwhich\\\\nis\\\\ncommonly\\\\nused\\\\nin\\\\nchess\\\\nand\\\\nother\\\\ncompetitive\\\\ngames,' metadata={'source': '10 Academy Cohort A - Weekly Challenge: Week - 6.pdf', 'page': 6}\",\n",
       " \"page_content='used\\\\nin\\\\nchess\\\\nand\\\\nother\\\\ncompetitive\\\\ngames,\\\\nrates\\\\nthe\\\\nprompts\\\\nbased\\\\non\\\\ntheir\\\\nperformance\\\\nin\\\\nthe' metadata={'source': '10 Academy Cohort A - Weekly Challenge: Week - 6.pdf', 'page': 6}\",\n",
       " \"page_content='the\\\\nprompts\\\\nbased\\\\non\\\\ntheir\\\\nperformance\\\\nin\\\\nthe\\\\nbattles.\\\\nEach\\\\nprompt\\\\ncandidate\\\\nis\\\\nassigned\\\\na\\\\nrating' metadata={'source': '10 Academy Cohort A - Weekly Challenge: Week - 6.pdf', 'page': 6}\",\n",
       " \"page_content='Each\\\\nprompt\\\\ncandidate\\\\nis\\\\nassigned\\\\na\\\\nrating\\\\nthat\\\\nreﬂects\\\\nits\\\\nsuccess\\\\nin\\\\nprevious\\\\nmatchups.\\\\nThe' metadata={'source': '10 Academy Cohort A - Weekly Challenge: Week - 6.pdf', 'page': 6}\",\n",
       " \"page_content='reﬂects\\\\nits\\\\nsuccess\\\\nin\\\\nprevious\\\\nmatchups.\\\\nThe\\\\nsystem\\\\ntakes\\\\ninto\\\\naccount\\\\nnot\\\\njust\\\\nthe\\\\nnumber\\\\nof\\\\nwins' metadata={'source': '10 Academy Cohort A - Weekly Challenge: Week - 6.pdf', 'page': 6}\",\n",
       " \"page_content='takes\\\\ninto\\\\naccount\\\\nnot\\\\njust\\\\nthe\\\\nnumber\\\\nof\\\\nwins\\\\nbut\\\\nalso\\\\nthe' metadata={'source': '10 Academy Cohort A - Weekly Challenge: Week - 6.pdf', 'page': 6}\",\n",
       " \"page_content='strength\\\\nof\\\\nthe\\\\nopponents\\\\neach\\\\nprompt\\\\nhas\\\\ndefeated.\\\\nThis\\\\nrating\\\\nhelps\\\\nin\\\\nobjectively\\\\nranking\\\\nthe' metadata={'source': '10 Academy Cohort A - Weekly Challenge: Week - 6.pdf', 'page': 7}\",\n",
       " \"page_content='This\\\\nrating\\\\nhelps\\\\nin\\\\nobjectively\\\\nranking\\\\nthe\\\\nprompts\\\\nbased\\\\non\\\\ntheir\\\\neﬀectiveness.\\\\nAdditional' metadata={'source': '10 Academy Cohort A - Weekly Challenge: Week - 6.pdf', 'page': 7}\",\n",
       " \"page_content='prompts\\\\nbased\\\\non\\\\ntheir\\\\neﬀectiveness.\\\\nAdditional\\\\nRanking\\\\nand\\\\nMatching\\\\nMechanisms\\\\n●\\\\nTrueSkill\\\\nRating' metadata={'source': '10 Academy Cohort A - Weekly Challenge: Week - 6.pdf', 'page': 7}\",\n",
       " \"page_content='and\\\\nMatching\\\\nMechanisms\\\\n●\\\\nTrueSkill\\\\nRating\\\\nSystem\\\\n:\\\\nIdeal\\\\nfor\\\\nscenarios\\\\ninvolving\\\\nmultiple' metadata={'source': '10 Academy Cohort A - Weekly Challenge: Week - 6.pdf', 'page': 7}\",\n",
       " \"page_content='System\\\\n:\\\\nIdeal\\\\nfor\\\\nscenarios\\\\ninvolving\\\\nmultiple\\\\ncompetitors,\\\\nadjusting\\\\nratings\\\\nbased\\\\non\\\\nnot\\\\njust' metadata={'source': '10 Academy Cohort A - Weekly Challenge: Week - 6.pdf', 'page': 7}\",\n",
       " \"page_content='competitors,\\\\nadjusting\\\\nratings\\\\nbased\\\\non\\\\nnot\\\\njust\\\\nwins\\\\nand\\\\nlosses\\\\nbut\\\\nalso\\\\nthe\\\\nuncertainty\\\\nin' metadata={'source': '10 Academy Cohort A - Weekly Challenge: Week - 6.pdf', 'page': 7}\",\n",
       " \"page_content='just\\\\nwins\\\\nand\\\\nlosses\\\\nbut\\\\nalso\\\\nthe\\\\nuncertainty\\\\nin\\\\nperformance.\\\\n●\\\\nGlicko\\\\nRating\\\\nSystem:\\\\nSimilar\\\\nto' metadata={'source': '10 Academy Cohort A - Weekly Challenge: Week - 6.pdf', 'page': 7}\",\n",
       " \"page_content='performance.\\\\n●\\\\nGlicko\\\\nRating\\\\nSystem:\\\\nSimilar\\\\nto\\\\nELO\\\\nbut\\\\nwith\\\\nadded\\\\nﬂexibility,\\\\naccounting\\\\nfor\\\\nthe' metadata={'source': '10 Academy Cohort A - Weekly Challenge: Week - 6.pdf', 'page': 7}\",\n",
       " 'page_content=\"ELO\\\\nbut\\\\nwith\\\\nadded\\\\nﬂexibility,\\\\naccounting\\\\nfor\\\\nthe\\\\nvolatility\\\\nin\\\\na\\\\nplayer\\'s\\\\n(or\\\\nprompt’s)\" metadata={\\'source\\': \\'10 Academy Cohort A - Weekly Challenge: Week - 6.pdf\\', \\'page\\': 7}',\n",
       " 'page_content=\"for\\\\nthe\\\\nvolatility\\\\nin\\\\na\\\\nplayer\\'s\\\\n(or\\\\nprompt’s)\\\\nperformance\\\\nand\\\\nthe\\\\nreliability\\\\nof\\\\ntheir\\\\nrating.\\\\n●\" metadata={\\'source\\': \\'10 Academy Cohort A - Weekly Challenge: Week - 6.pdf\\', \\'page\\': 7}',\n",
       " \"page_content='and\\\\nthe\\\\nreliability\\\\nof\\\\ntheir\\\\nrating.\\\\n●\\\\nBayesian\\\\nRating\\\\nSystems\\\\n:\\\\nApplies\\\\nBayesian\\\\ninference\\\\nfor\\\\na' metadata={'source': '10 Academy Cohort A - Weekly Challenge: Week - 6.pdf', 'page': 7}\",\n",
       " \"page_content='Rating\\\\nSystems\\\\n:\\\\nApplies\\\\nBayesian\\\\ninference\\\\nfor\\\\na\\\\nprobabilistic\\\\napproach\\\\nto\\\\nrating,\\\\nconsidering' metadata={'source': '10 Academy Cohort A - Weekly Challenge: Week - 6.pdf', 'page': 7}\",\n",
       " \"page_content='a\\\\nprobabilistic\\\\napproach\\\\nto\\\\nrating,\\\\nconsidering\\\\nuncertainties\\\\nand\\\\ncontextual\\\\nvariations\\\\nin\\\\nprompt' metadata={'source': '10 Academy Cohort A - Weekly Challenge: Week - 6.pdf', 'page': 7}\",\n",
       " \"page_content='uncertainties\\\\nand\\\\ncontextual\\\\nvariations\\\\nin\\\\nprompt\\\\nperformance.\\\\n●\\\\nPairwise\\\\nComparison\\\\nMethods\\\\n:' metadata={'source': '10 Academy Cohort A - Weekly Challenge: Week - 6.pdf', 'page': 7}\",\n",
       " \"page_content='performance.\\\\n●\\\\nPairwise\\\\nComparison\\\\nMethods\\\\n:\\\\nInvolves\\\\ndirect\\\\ncomparisons\\\\nbetween\\\\npairs\\\\nof\\\\nprompts,' metadata={'source': '10 Academy Cohort A - Weekly Challenge: Week - 6.pdf', 'page': 7}\",\n",
       " \"page_content='direct\\\\ncomparisons\\\\nbetween\\\\npairs\\\\nof\\\\nprompts,\\\\npotentially\\\\nintegrating\\\\nuser\\\\npreferences\\\\nor\\\\nexpert' metadata={'source': '10 Academy Cohort A - Weekly Challenge: Week - 6.pdf', 'page': 7}\",\n",
       " \"page_content='integrating\\\\nuser\\\\npreferences\\\\nor\\\\nexpert\\\\nevaluations\\\\ninto\\\\nthe\\\\nranking\\\\nprocess.\\\\n●\\\\nCategorical\\\\nRanking' metadata={'source': '10 Academy Cohort A - Weekly Challenge: Week - 6.pdf', 'page': 7}\",\n",
       " \"page_content='into\\\\nthe\\\\nranking\\\\nprocess.\\\\n●\\\\nCategorical\\\\nRanking\\\\n:\\\\nInstead\\\\nof\\\\na\\\\nnumerical\\\\nrating,\\\\nprompts\\\\nare' metadata={'source': '10 Academy Cohort A - Weekly Challenge: Week - 6.pdf', 'page': 7}\",\n",
       " \"page_content=':\\\\nInstead\\\\nof\\\\na\\\\nnumerical\\\\nrating,\\\\nprompts\\\\nare\\\\ncategorized\\\\nbased\\\\non\\\\nperformance\\\\ncriteria\\\\nlike' metadata={'source': '10 Academy Cohort A - Weekly Challenge: Week - 6.pdf', 'page': 7}\",\n",
       " \"page_content='categorized\\\\nbased\\\\non\\\\nperformance\\\\ncriteria\\\\nlike\\\\ncreativity,\\\\nrelevance,\\\\netc.,\\\\nfor\\\\nmore\\\\nqualitative' metadata={'source': '10 Academy Cohort A - Weekly Challenge: Week - 6.pdf', 'page': 7}\",\n",
       " \"page_content='creativity,\\\\nrelevance,\\\\netc.,\\\\nfor\\\\nmore\\\\nqualitative\\\\nassessments.\\\\n●\\\\nAdaptive\\\\nRanking\\\\nAlgorithms\\\\n:' metadata={'source': '10 Academy Cohort A - Weekly Challenge: Week - 6.pdf', 'page': 7}\",\n",
       " \"page_content='assessments.\\\\n●\\\\nAdaptive\\\\nRanking\\\\nAlgorithms\\\\n:\\\\nAlgorithms\\\\nthat\\\\nlearn\\\\nand\\\\nadjust\\\\nover\\\\ntime,' metadata={'source': '10 Academy Cohort A - Weekly Challenge: Week - 6.pdf', 'page': 7}\",\n",
       " \"page_content=':\\\\nAlgorithms\\\\nthat\\\\nlearn\\\\nand\\\\nadjust\\\\nover\\\\ntime,\\\\nconsidering\\\\nhistorical\\\\nperformance\\\\ndata\\\\nand\\\\nevolving' metadata={'source': '10 Academy Cohort A - Weekly Challenge: Week - 6.pdf', 'page': 7}\",\n",
       " \"page_content='historical\\\\nperformance\\\\ndata\\\\nand\\\\nevolving\\\\nuser\\\\npreferences\\\\nor\\\\nrequirements.\\\\n●\\\\nSemantic\\\\nSimilarity' metadata={'source': '10 Academy Cohort A - Weekly Challenge: Week - 6.pdf', 'page': 7}\",\n",
       " \"page_content='or\\\\nrequirements.\\\\n●\\\\nSemantic\\\\nSimilarity\\\\nMatching\\\\n:\\\\nUsing\\\\nNLP\\\\ntechniques\\\\nto\\\\nmatch\\\\nprompts\\\\nbased\\\\non' metadata={'source': '10 Academy Cohort A - Weekly Challenge: Week - 6.pdf', 'page': 7}\",\n",
       " \"page_content=':\\\\nUsing\\\\nNLP\\\\ntechniques\\\\nto\\\\nmatch\\\\nprompts\\\\nbased\\\\non\\\\nsemantic\\\\ncontent,\\\\nideal\\\\nfor\\\\nunderstanding\\\\nnuanced' metadata={'source': '10 Academy Cohort A - Weekly Challenge: Week - 6.pdf', 'page': 7}\",\n",
       " \"page_content='semantic\\\\ncontent,\\\\nideal\\\\nfor\\\\nunderstanding\\\\nnuanced\\\\ndiﬀerences\\\\nin\\\\nprompt\\\\neﬀectiveness.\\\\nYou\\\\nshould' metadata={'source': '10 Academy Cohort A - Weekly Challenge: Week - 6.pdf', 'page': 7}\",\n",
       " \"page_content='diﬀerences\\\\nin\\\\nprompt\\\\neﬀectiveness.\\\\nYou\\\\nshould\\\\nadopt\\\\nan\\\\ninnovative\\\\napproach\\\\nto\\\\nprompt\\\\nevaluation\\\\nby' metadata={'source': '10 Academy Cohort A - Weekly Challenge: Week - 6.pdf', 'page': 7}\",\n",
       " \"page_content='an\\\\ninnovative\\\\napproach\\\\nto\\\\nprompt\\\\nevaluation\\\\nby\\\\nutilizing\\\\nMonte\\\\nCarlo\\\\nmatchmaking\\\\nand\\\\nELO\\\\nrating' metadata={'source': '10 Academy Cohort A - Weekly Challenge: Week - 6.pdf', 'page': 7}\",\n",
       " \"page_content='utilizing\\\\nMonte\\\\nCarlo\\\\nmatchmaking\\\\nand\\\\nELO\\\\nrating\\\\nsystems,\\\\nor\\\\nany\\\\nalternative\\\\nmethod\\\\nto\\\\nmatch\\\\nand' metadata={'source': '10 Academy Cohort A - Weekly Challenge: Week - 6.pdf', 'page': 7}\",\n",
       " \"page_content='systems,\\\\nor\\\\nany\\\\nalternative\\\\nmethod\\\\nto\\\\nmatch\\\\nand\\\\nrank.\\\\nTask\\\\n5:\\\\nUser\\\\nInterface\\\\nDevelopment\\\\nDevelop\\\\na' metadata={'source': '10 Academy Cohort A - Weekly Challenge: Week - 6.pdf', 'page': 7}\",\n",
       " \"page_content='Task\\\\n5:\\\\nUser\\\\nInterface\\\\nDevelopment\\\\nDevelop\\\\na\\\\nuser-friendly\\\\ninterface\\\\nfor\\\\ninteracting\\\\nwith\\\\nthe' metadata={'source': '10 Academy Cohort A - Weekly Challenge: Week - 6.pdf', 'page': 7}\",\n",
       " \"page_content='user-friendly\\\\ninterface\\\\nfor\\\\ninteracting\\\\nwith\\\\nthe\\\\nprompt\\\\nengineering\\\\nsystem.\\\\n●\\\\nUI\\\\nDesign:\\\\nPlan\\\\nand' metadata={'source': '10 Academy Cohort A - Weekly Challenge: Week - 6.pdf', 'page': 7}\",\n",
       " \"page_content='prompt\\\\nengineering\\\\nsystem.\\\\n●\\\\nUI\\\\nDesign:\\\\nPlan\\\\nand\\\\ndesign\\\\na\\\\nuser\\\\ninterface\\\\nthat\\\\nallows\\\\nusers\\\\nto' metadata={'source': '10 Academy Cohort A - Weekly Challenge: Week - 6.pdf', 'page': 7}\",\n",
       " \"page_content='and\\\\ndesign\\\\na\\\\nuser\\\\ninterface\\\\nthat\\\\nallows\\\\nusers\\\\nto\\\\neasily\\\\ninput\\\\ndata,\\\\nreceive\\\\nprompts,\\\\nand\\\\nview' metadata={'source': '10 Academy Cohort A - Weekly Challenge: Week - 6.pdf', 'page': 7}\",\n",
       " \"page_content='to\\\\neasily\\\\ninput\\\\ndata,\\\\nreceive\\\\nprompts,\\\\nand\\\\nview\\\\nevaluation\\\\nresults.\\\\n●\\\\nUI\\\\nImplementation:\\\\nDevelop' metadata={'source': '10 Academy Cohort A - Weekly Challenge: Week - 6.pdf', 'page': 7}\",\n",
       " \"page_content='evaluation\\\\nresults.\\\\n●\\\\nUI\\\\nImplementation:\\\\nDevelop\\\\nand\\\\nintegrate\\\\nthe\\\\nuser\\\\ninterface\\\\nwith\\\\nthe\\\\nbackend' metadata={'source': '10 Academy Cohort A - Weekly Challenge: Week - 6.pdf', 'page': 7}\",\n",
       " \"page_content='and\\\\nintegrate\\\\nthe\\\\nuser\\\\ninterface\\\\nwith\\\\nthe\\\\nbackend\\\\nprompt\\\\nengineering\\\\nsystem.\\\\nTask\\\\n6:\\\\nSystem' metadata={'source': '10 Academy Cohort A - Weekly Challenge: Week - 6.pdf', 'page': 7}\",\n",
       " \"page_content='backend\\\\nprompt\\\\nengineering\\\\nsystem.\\\\nTask\\\\n6:\\\\nSystem\\\\nIntegration\\\\nand\\\\nTesting\\\\n●\\\\nIntegrate\\\\nall' metadata={'source': '10 Academy Cohort A - Weekly Challenge: Week - 6.pdf', 'page': 7}\",\n",
       " \"page_content='6:\\\\nSystem\\\\nIntegration\\\\nand\\\\nTesting\\\\n●\\\\nIntegrate\\\\nall\\\\ncomponents\\\\nof\\\\nthe\\\\nsystem\\\\nand\\\\nconduct' metadata={'source': '10 Academy Cohort A - Weekly Challenge: Week - 6.pdf', 'page': 7}\",\n",
       " \"page_content='all\\\\ncomponents\\\\nof\\\\nthe\\\\nsystem\\\\nand\\\\nconduct\\\\ncomprehensive\\\\ntesting.\\\\n●\\\\nIntegrate\\\\nthe\\\\nprompt\\\\ngeneration,' metadata={'source': '10 Academy Cohort A - Weekly Challenge: Week - 6.pdf', 'page': 7}\",\n",
       " \"page_content='testing.\\\\n●\\\\nIntegrate\\\\nthe\\\\nprompt\\\\ngeneration,\\\\nEvaluation\\\\nData\\\\nGeneration,\\\\nevaluation,\\\\nand\\\\nuser' metadata={'source': '10 Academy Cohort A - Weekly Challenge: Week - 6.pdf', 'page': 7}\",\n",
       " \"page_content='Evaluation\\\\nData\\\\nGeneration,\\\\nevaluation,\\\\nand\\\\nuser\\\\ninterface\\\\ncomponents.\\\\n●\\\\nTest\\\\nthe\\\\nentire\\\\nsystem\\\\nfor' metadata={'source': '10 Academy Cohort A - Weekly Challenge: Week - 6.pdf', 'page': 7}\",\n",
       " \"page_content='components.\\\\n●\\\\nTest\\\\nthe\\\\nentire\\\\nsystem\\\\nfor\\\\nfunctionality,\\\\nusability,\\\\nand\\\\nperformance.\\\\nReﬁne\\\\nbased\\\\non' metadata={'source': '10 Academy Cohort A - Weekly Challenge: Week - 6.pdf', 'page': 7}\",\n",
       " \"page_content='usability,\\\\nand\\\\nperformance.\\\\nReﬁne\\\\nbased\\\\non\\\\nfeedback\\\\nand\\\\ntest\\\\nresults.' metadata={'source': '10 Academy Cohort A - Weekly Challenge: Week - 6.pdf', 'page': 7}\",\n",
       " \"page_content='Tutorials\\\\nSchedule\\\\nIn\\\\nthe\\\\nfollowing,\\\\nthe\\\\ncolour\\\\npurple\\\\nindicates\\\\nmorning\\\\nsessions,\\\\nand\\\\nblue' metadata={'source': '10 Academy Cohort A - Weekly Challenge: Week - 6.pdf', 'page': 9}\",\n",
       " \"page_content='purple\\\\nindicates\\\\nmorning\\\\nsessions,\\\\nand\\\\nblue\\\\nindicates\\\\nafternoon\\\\nsessions.\\\\nMonday:\\\\nUnderstanding' metadata={'source': '10 Academy Cohort A - Weekly Challenge: Week - 6.pdf', 'page': 9}\",\n",
       " \"page_content='afternoon\\\\nsessions.\\\\nMonday:\\\\nUnderstanding\\\\nPrompt\\\\nengineering\\\\nHere\\\\nthe\\\\ntrainees\\\\nwill\\\\nunderstand\\\\nthe' metadata={'source': '10 Academy Cohort A - Weekly Challenge: Week - 6.pdf', 'page': 9}\",\n",
       " \"page_content='engineering\\\\nHere\\\\nthe\\\\ntrainees\\\\nwill\\\\nunderstand\\\\nthe\\\\nweek’s\\\\nchallenge.\\\\n●\\\\nIntroduction\\\\nto\\\\nWeek' metadata={'source': '10 Academy Cohort A - Weekly Challenge: Week - 6.pdf', 'page': 9}\",\n",
       " \"page_content='the\\\\nweek’s\\\\nchallenge.\\\\n●\\\\nIntroduction\\\\nto\\\\nWeek\\\\nChallenge\\\\n(Yabebal)\\\\n●\\\\nIntroduction\\\\nand\\\\nchallenge\\\\nto' metadata={'source': '10 Academy Cohort A - Weekly Challenge: Week - 6.pdf', 'page': 9}\",\n",
       " \"page_content='(Yabebal)\\\\n●\\\\nIntroduction\\\\nand\\\\nchallenge\\\\nto\\\\nprompt\\\\nengineering\\\\n(Fikerte)\\\\nKey\\\\nPerformance\\\\nIndicators:' metadata={'source': '10 Academy Cohort A - Weekly Challenge: Week - 6.pdf', 'page': 9}\",\n",
       " \"page_content='engineering\\\\n(Fikerte)\\\\nKey\\\\nPerformance\\\\nIndicators:\\\\n●\\\\nUnderstanding\\\\nweek’s\\\\nchallenge\\\\n●\\\\nUnderstanding' metadata={'source': '10 Academy Cohort A - Weekly Challenge: Week - 6.pdf', 'page': 9}\",\n",
       " \"page_content='●\\\\nUnderstanding\\\\nweek’s\\\\nchallenge\\\\n●\\\\nUnderstanding\\\\nthe\\\\nprompt\\\\nengineering\\\\n●\\\\nAbility\\\\nto\\\\nreuse\\\\nprevious' metadata={'source': '10 Academy Cohort A - Weekly Challenge: Week - 6.pdf', 'page': 9}\",\n",
       " \"page_content='prompt\\\\nengineering\\\\n●\\\\nAbility\\\\nto\\\\nreuse\\\\nprevious\\\\nknowledge\\\\nTuesday\\\\n●\\\\nRAG\\\\ncomponents\\\\n(Rehmet)\\\\n●' metadata={'source': '10 Academy Cohort A - Weekly Challenge: Week - 6.pdf', 'page': 9}\",\n",
       " \"page_content='knowledge\\\\nTuesday\\\\n●\\\\nRAG\\\\ncomponents\\\\n(Rehmet)\\\\n●\\\\nTechniques\\\\nto\\\\nimproving\\\\nR\\\\n(Retrievers)\\\\nin\\\\nRAG' metadata={'source': '10 Academy Cohort A - Weekly Challenge: Week - 6.pdf', 'page': 9}\",\n",
       " \"page_content='●\\\\nTechniques\\\\nto\\\\nimproving\\\\nR\\\\n(Retrievers)\\\\nin\\\\nRAG\\\\n(Emitnan)\\\\nKey\\\\nPerformance\\\\nIndicators:\\\\n●' metadata={'source': '10 Academy Cohort A - Weekly Challenge: Week - 6.pdf', 'page': 9}\",\n",
       " \"page_content='in\\\\nRAG\\\\n(Emitnan)\\\\nKey\\\\nPerformance\\\\nIndicators:\\\\n●\\\\nUnderstanding\\\\nPrompt\\\\nranking\\\\n●\\\\nUnderstanding\\\\nprompt' metadata={'source': '10 Academy Cohort A - Weekly Challenge: Week - 6.pdf', 'page': 9}\",\n",
       " \"page_content='Prompt\\\\nranking\\\\n●\\\\nUnderstanding\\\\nprompt\\\\nmatching\\\\n●\\\\nAbility\\\\nto\\\\nreuse\\\\nprevious\\\\nknowledge\\\\nWednesday\\\\n●' metadata={'source': '10 Academy Cohort A - Weekly Challenge: Week - 6.pdf', 'page': 9}\",\n",
       " \"page_content='●\\\\nAbility\\\\nto\\\\nreuse\\\\nprevious\\\\nknowledge\\\\nWednesday\\\\n●\\\\nRAG\\\\nEvaluation\\\\nData\\\\nGeneration\\\\n(Abel)\\\\n●' metadata={'source': '10 Academy Cohort A - Weekly Challenge: Week - 6.pdf', 'page': 9}\",\n",
       " \"page_content='●\\\\nRAG\\\\nEvaluation\\\\nData\\\\nGeneration\\\\n(Abel)\\\\n●\\\\nUnderstanding\\\\nof\\\\nprompt\\\\nmatching\\\\nand\\\\nranking\\\\n(Mahlet)' metadata={'source': '10 Academy Cohort A - Weekly Challenge: Week - 6.pdf', 'page': 9}\",\n",
       " \"page_content='of\\\\nprompt\\\\nmatching\\\\nand\\\\nranking\\\\n(Mahlet)\\\\nThursday\\\\n●\\\\nRAG\\\\nevaluation\\\\nmetrics\\\\n(Emitnan)\\\\n●\\\\nRAGObs\\\\n-' metadata={'source': '10 Academy Cohort A - Weekly Challenge: Week - 6.pdf', 'page': 9}\",\n",
       " \"page_content='●\\\\nRAG\\\\nevaluation\\\\nmetrics\\\\n(Emitnan)\\\\n●\\\\nRAGObs\\\\n-\\\\nDevObs\\\\nof\\\\nRAG\\\\ndevelopment\\\\nand\\\\nproduction\\\\ndeployment' metadata={'source': '10 Academy Cohort A - Weekly Challenge: Week - 6.pdf', 'page': 9}\",\n",
       " \"page_content='Deliverables\\\\nNOTE:\\\\nDocument\\\\nshould\\\\nbe\\\\na\\\\nPDF\\\\nstored\\\\nin\\\\ngoogle\\\\ndrive\\\\nor\\\\npublished\\\\nblog\\\\nlink.\\\\nDO\\\\nNOT' metadata={'source': '10 Academy Cohort A - Weekly Challenge: Week - 6.pdf', 'page': 10}\",\n",
       " \"page_content='in\\\\ngoogle\\\\ndrive\\\\nor\\\\npublished\\\\nblog\\\\nlink.\\\\nDO\\\\nNOT\\\\nSUBMIT\\\\nA\\\\nLINK\\\\nas\\\\nPDF!\\\\nIf\\\\nyou\\\\nwant\\\\nto\\\\nsubmit\\\\npdf' metadata={'source': '10 Academy Cohort A - Weekly Challenge: Week - 6.pdf', 'page': 10}\",\n",
       " \"page_content='SUBMIT\\\\nA\\\\nLINK\\\\nas\\\\nPDF!\\\\nIf\\\\nyou\\\\nwant\\\\nto\\\\nsubmit\\\\npdf\\\\ndocument,\\\\nit\\\\nshould\\\\nbe\\\\nthe\\\\ncontent\\\\nof\\\\nyour\\\\nreport' metadata={'source': '10 Academy Cohort A - Weekly Challenge: Week - 6.pdf', 'page': 10}\",\n",
       " \"page_content='document,\\\\nit\\\\nshould\\\\nbe\\\\nthe\\\\ncontent\\\\nof\\\\nyour\\\\nreport\\\\nnot\\\\na\\\\nlink.\\\\nInterim\\\\nSubmission\\\\n-\\\\nWednesday\\\\n8pm' metadata={'source': '10 Academy Cohort A - Weekly Challenge: Week - 6.pdf', 'page': 10}\",\n",
       " \"page_content='not\\\\na\\\\nlink.\\\\nInterim\\\\nSubmission\\\\n-\\\\nWednesday\\\\n8pm\\\\nUTC\\\\n●\\\\nLink\\\\nto\\\\nyour\\\\ncode\\\\nin\\\\nGitHub\\\\n○\\\\nRepository\\\\nwhere' metadata={'source': '10 Academy Cohort A - Weekly Challenge: Week - 6.pdf', 'page': 10}\",\n",
       " \"page_content='●\\\\nLink\\\\nto\\\\nyour\\\\ncode\\\\nin\\\\nGitHub\\\\n○\\\\nRepository\\\\nwhere\\\\nyou\\\\nwill\\\\nbe\\\\nusing\\\\nto\\\\ncomplete\\\\nthe\\\\ntasks\\\\nin\\\\nthis' metadata={'source': '10 Academy Cohort A - Weekly Challenge: Week - 6.pdf', 'page': 10}\",\n",
       " 'page_content=\"you\\\\nwill\\\\nbe\\\\nusing\\\\nto\\\\ncomplete\\\\nthe\\\\ntasks\\\\nin\\\\nthis\\\\nweek\\'s\\\\nchallenge.\\\\nA\\\\nminimum\\\\nrequirement\\\\nis\\\\nthat\\\\nyou\" metadata={\\'source\\': \\'10 Academy Cohort A - Weekly Challenge: Week - 6.pdf\\', \\'page\\': 10}',\n",
       " \"page_content='challenge.\\\\nA\\\\nminimum\\\\nrequirement\\\\nis\\\\nthat\\\\nyou\\\\nhave\\\\na\\\\nwell\\\\nstructured\\\\nrepository\\\\nand\\\\nsome\\\\ncoding' metadata={'source': '10 Academy Cohort A - Weekly Challenge: Week - 6.pdf', 'page': 10}\",\n",
       " \"page_content='have\\\\na\\\\nwell\\\\nstructured\\\\nrepository\\\\nand\\\\nsome\\\\ncoding\\\\nprogress\\\\nis\\\\nmade.\\\\n●\\\\nA\\\\nreview\\\\nreport\\\\nof\\\\nyour' metadata={'source': '10 Academy Cohort A - Weekly Challenge: Week - 6.pdf', 'page': 10}\",\n",
       " \"page_content='progress\\\\nis\\\\nmade.\\\\n●\\\\nA\\\\nreview\\\\nreport\\\\nof\\\\nyour\\\\nreading\\\\nand\\\\nunderstanding\\\\nof\\\\nTask\\\\n1\\\\nand\\\\nany\\\\nprogress' metadata={'source': '10 Academy Cohort A - Weekly Challenge: Week - 6.pdf', 'page': 10}\",\n",
       " \"page_content='and\\\\nunderstanding\\\\nof\\\\nTask\\\\n1\\\\nand\\\\nany\\\\nprogress\\\\nyou\\\\nmade\\\\nin\\\\nother\\\\ntasks.\\\\nFeedback\\\\nYou\\\\nmay\\\\nnot\\\\nreceive' metadata={'source': '10 Academy Cohort A - Weekly Challenge: Week - 6.pdf', 'page': 10}\",\n",
       " \"page_content='made\\\\nin\\\\nother\\\\ntasks.\\\\nFeedback\\\\nYou\\\\nmay\\\\nnot\\\\nreceive\\\\ndetailed\\\\ncomments\\\\non\\\\nyour\\\\ninterim\\\\nsubmission,\\\\nbut' metadata={'source': '10 Academy Cohort A - Weekly Challenge: Week - 6.pdf', 'page': 10}\",\n",
       " \"page_content='detailed\\\\ncomments\\\\non\\\\nyour\\\\ninterim\\\\nsubmission,\\\\nbut\\\\nwill\\\\nreceive\\\\na\\\\ngrade.\\\\nFinal\\\\nSubmission\\\\n-\\\\nSaturday' metadata={'source': '10 Academy Cohort A - Weekly Challenge: Week - 6.pdf', 'page': 10}\",\n",
       " \"page_content='will\\\\nreceive\\\\na\\\\ngrade.\\\\nFinal\\\\nSubmission\\\\n-\\\\nSaturday\\\\n8pm\\\\nUTC\\\\n●\\\\nLink\\\\nto\\\\nyour\\\\ncode\\\\nin\\\\nGitHub\\\\n○\\\\nComplete' metadata={'source': '10 Academy Cohort A - Weekly Challenge: Week - 6.pdf', 'page': 10}\",\n",
       " \"page_content='8pm\\\\nUTC\\\\n●\\\\nLink\\\\nto\\\\nyour\\\\ncode\\\\nin\\\\nGitHub\\\\n○\\\\nComplete\\\\nwork\\\\nfor\\\\nAutomatic\\\\nprompt\\\\ngeneration\\\\n○\\\\nComplete' metadata={'source': '10 Academy Cohort A - Weekly Challenge: Week - 6.pdf', 'page': 10}\",\n",
       " \"page_content='work\\\\nfor\\\\nAutomatic\\\\nprompt\\\\ngeneration\\\\n○\\\\nComplete\\\\nwork\\\\nfor\\\\nAutomatic\\\\nevaluation\\\\n○\\\\nComplete\\\\nwork\\\\nfor' metadata={'source': '10 Academy Cohort A - Weekly Challenge: Week - 6.pdf', 'page': 10}\",\n",
       " \"page_content='work\\\\nfor\\\\nAutomatic\\\\nevaluation\\\\n○\\\\nComplete\\\\nwork\\\\nfor\\\\nEvaluation\\\\nData\\\\nGeneration\\\\n●\\\\nA\\\\nblog\\\\npost\\\\nentry' metadata={'source': '10 Academy Cohort A - Weekly Challenge: Week - 6.pdf', 'page': 10}\",\n",
       " \"page_content='Evaluation\\\\nData\\\\nGeneration\\\\n●\\\\nA\\\\nblog\\\\npost\\\\nentry\\\\n(which\\\\nyou\\\\ncan\\\\nsubmit\\\\nfor\\\\nexample\\\\nto\\\\nMedium' metadata={'source': '10 Academy Cohort A - Weekly Challenge: Week - 6.pdf', 'page': 10}\",\n",
       " \"page_content='entry\\\\n(which\\\\nyou\\\\ncan\\\\nsubmit\\\\nfor\\\\nexample\\\\nto\\\\nMedium\\\\npublishing)\\\\nor\\\\na\\\\npdf\\\\nreport.\\\\n.\\\\nFeedback\\\\nYou\\\\nwill' metadata={'source': '10 Academy Cohort A - Weekly Challenge: Week - 6.pdf', 'page': 10}\",\n",
       " \"page_content='publishing)\\\\nor\\\\na\\\\npdf\\\\nreport.\\\\n.\\\\nFeedback\\\\nYou\\\\nwill\\\\nreceive\\\\ncomments/feedback\\\\nin\\\\naddition\\\\nto\\\\na\\\\ngrade.' metadata={'source': '10 Academy Cohort A - Weekly Challenge: Week - 6.pdf', 'page': 10}\",\n",
       " \"page_content='References\\\\n●\\\\nMeistrari\\\\ndidn’t\\\\nsee\\\\na\\\\ngood\\\\nsolution\\\\nfor\\\\nprompt\\\\nengineering,\\\\nso\\\\nit’s\\\\nbuilding\\\\none\\\\n●' metadata={'source': '10 Academy Cohort A - Weekly Challenge: Week - 6.pdf', 'page': 11}\",\n",
       " \"page_content='for\\\\nprompt\\\\nengineering,\\\\nso\\\\nit’s\\\\nbuilding\\\\none\\\\n●\\\\nAutoPrompt:\\\\nEliciting\\\\nKnowledge\\\\nfrom\\\\nLanguage\\\\nModels' metadata={'source': '10 Academy Cohort A - Weekly Challenge: Week - 6.pdf', 'page': 11}\",\n",
       " \"page_content='Eliciting\\\\nKnowledge\\\\nfrom\\\\nLanguage\\\\nModels\\\\nwith\\\\nAutomatically\\\\nGenerated\\\\nPrompts\\\\n●\\\\nLarge\\\\nLanguage' metadata={'source': '10 Academy Cohort A - Weekly Challenge: Week - 6.pdf', 'page': 11}\",\n",
       " \"page_content='Automatically\\\\nGenerated\\\\nPrompts\\\\n●\\\\nLarge\\\\nLanguage\\\\nModels\\\\nAre\\\\nHuman-Level\\\\nPrompt\\\\nEngineers\\\\n●\\\\nPrompt' metadata={'source': '10 Academy Cohort A - Weekly Challenge: Week - 6.pdf', 'page': 11}\",\n",
       " \"page_content='Models\\\\nAre\\\\nHuman-Level\\\\nPrompt\\\\nEngineers\\\\n●\\\\nPrompt\\\\nEngineering\\\\n●\\\\nHow\\\\nto\\\\nCreate\\\\na\\\\nMonte\\\\nCarlo' metadata={'source': '10 Academy Cohort A - Weekly Challenge: Week - 6.pdf', 'page': 11}\",\n",
       " \"page_content='Prompt\\\\nEngineering\\\\n●\\\\nHow\\\\nto\\\\nCreate\\\\na\\\\nMonte\\\\nCarlo\\\\nSimulation\\\\nusing\\\\nPython\\\\n●\\\\nMonte\\\\nCarlo\\\\nMethod' metadata={'source': '10 Academy Cohort A - Weekly Challenge: Week - 6.pdf', 'page': 11}\",\n",
       " \"page_content='Simulation\\\\nusing\\\\nPython\\\\n●\\\\nMonte\\\\nCarlo\\\\nMethod\\\\nExplained\\\\n●\\\\nWhat\\\\nis\\\\nMonte\\\\nCarlo\\\\nSimulation?\\\\nHow\\\\ndoes' metadata={'source': '10 Academy Cohort A - Weekly Challenge: Week - 6.pdf', 'page': 11}\",\n",
       " \"page_content='●\\\\nWhat\\\\nis\\\\nMonte\\\\nCarlo\\\\nSimulation?\\\\nHow\\\\ndoes\\\\nit\\\\nwork?\\\\n●\\\\nElo\\\\nRating\\\\nAlgorithm\\\\n●\\\\nElo\\\\nalgorithm' metadata={'source': '10 Academy Cohort A - Weekly Challenge: Week - 6.pdf', 'page': 11}\",\n",
       " \"page_content='it\\\\nwork?\\\\n●\\\\nElo\\\\nRating\\\\nAlgorithm\\\\n●\\\\nElo\\\\nalgorithm\\\\nimplementation\\\\nin\\\\nPython\\\\n●\\\\nTrueSkillTM:\\\\nA\\\\nBayesian' metadata={'source': '10 Academy Cohort A - Weekly Challenge: Week - 6.pdf', 'page': 11}\",\n",
       " \"page_content='in\\\\nPython\\\\n●\\\\nTrueSkillTM:\\\\nA\\\\nBayesian\\\\nskill\\\\nrating\\\\nsystem\\\\nCompanies\\\\ndoing\\\\nsomething\\\\nsimilar\\\\nto\\\\nthis' metadata={'source': '10 Academy Cohort A - Weekly Challenge: Week - 6.pdf', 'page': 11}\",\n",
       " \"page_content='system\\\\nCompanies\\\\ndoing\\\\nsomething\\\\nsimilar\\\\nto\\\\nthis\\\\nproject\\\\n●\\\\nAI\\\\nPrompt\\\\nGenerator' metadata={'source': '10 Academy Cohort A - Weekly Challenge: Week - 6.pdf', 'page': 11}\",\n",
       " \"page_content='similar\\\\nto\\\\nthis\\\\nproject\\\\n●\\\\nAI\\\\nPrompt\\\\nGenerator\\\\n(promptlygenerated.com)' metadata={'source': '10 Academy Cohort A - Weekly Challenge: Week - 6.pdf', 'page': 11}\"]"
      ]
     },
     "execution_count": 47,
     "metadata": {},
     "output_type": "execute_result"
    }
   ],
   "source": [
    "import os\n",
    "import re\n",
    "import openai\n",
    "import pinecone\n",
    "from langchain.document_loaders import PyPDFLoader\n",
    "from langchain.text_splitter import RecursiveCharacterTextSplitter\n",
    "\n",
    "openai.api_key =os.environ[\"OPENAI_API_KEY\"]\n",
    "MODEL = \"text-embedding-ada-002\"\n",
    "\n",
    "def preprocess_text(text):\n",
    "    text = re.sub(r'\\s+', ' ', text)\n",
    "    return text\n",
    "\n",
    "def process_pdf(file_path):\n",
    "    # create a loader\n",
    "    loader = PyPDFLoader(file_path)\n",
    "    # load your data\n",
    "    data = loader.load()\n",
    "    # Split your data up into smaller documents with Chunks\n",
    "    text_splitter = RecursiveCharacterTextSplitter(chunk_size=100, chunk_overlap=50)\n",
    "    documents = text_splitter.split_documents(data)\n",
    "    # Convert Document objects into strings\n",
    "    texts = [str(doc) for doc in documents]\n",
    "    return texts\n",
    "\n",
    "# Define a function to create embeddings\n",
    "def create_embeddings(texts):\n",
    "    embeddings_list = []\n",
    "    for text in texts:\n",
    "        res = embed_model.embed_documents(text)\n",
    "        # embeddings_list.append(res['data'][0]['embedding'])\n",
    "    return embeddings_list\n",
    "\n",
    "file_path = \"10 Academy Cohort A - Weekly Challenge: Week - 6.pdf\"  \n",
    "docs = process_pdf(file_path)\n",
    "docs"
   ]
  },
  {
   "cell_type": "code",
   "execution_count": 21,
   "metadata": {},
   "outputs": [],
   "source": [
    "from langchain.embeddings.openai import OpenAIEmbeddings\n",
    "\n",
    "embeddings = OpenAIEmbeddings(openai_api_key = openai.api_key)"
   ]
  },
  {
   "cell_type": "code",
   "execution_count": 22,
   "metadata": {},
   "outputs": [],
   "source": [
    "import weaviate\n",
    "import weaviate.classes as wvc\n",
    "from langchain.vectorstores import Weaviate\n",
    "import os\n",
    "\n",
    "client = weaviate.connect_to_local(\n",
    "    port=8080,\n",
    "    grpc_port=50051,\n",
    "    headers={\n",
    "        \"X-OpenAI-Api-Key\": os.environ[\"OPENAI_API_KEY\"]  # Replace with your inference API key\n",
    "    }\n",
    ")"
   ]
  },
  {
   "cell_type": "code",
   "execution_count": 23,
   "metadata": {},
   "outputs": [],
   "source": [
    "client = weaviate.Client(\"http://localhost:8080/\")\n",
    "client.schema.delete_all()\n",
    "client.schema.get()\n",
    "schema = {\n",
    "    \"classes\": [\n",
    "        {\n",
    "            \"class\": \"Chatbot\",\n",
    "            \"description\": \"Documents for chatbot\",\n",
    "            \"vectorizer\": \"text2vec-openai\",\n",
    "            \"moduleConfig\": {\"text2vec-openai\": {\"model\": \"ada\", \"type\": \"text\"}},\n",
    "            \"properties\": [\n",
    "                {\n",
    "                    \"dataType\": [\"text\"],\n",
    "                    \"description\": \"The content of the paragraph\",\n",
    "                    \"moduleConfig\": {\n",
    "                        \"text2vec-openai\": {\n",
    "                            \"skip\": False,\n",
    "                            \"vectorizePropertyName\": False,\n",
    "                        }\n",
    "                    },\n",
    "                    \"name\": \"content\",\n",
    "                },\n",
    "            ],\n",
    "        },\n",
    "    ]\n",
    "}\n",
    "\n",
    "client.schema.create(schema)\n",
    "\n",
    "vectorstore = Weaviate(client, \"Chatbot\", \"content\", attributes=[\"source\"])"
   ]
  },
  {
   "cell_type": "code",
   "execution_count": 24,
   "metadata": {},
   "outputs": [
    {
     "ename": "AttributeError",
     "evalue": "'str' object has no attribute 'page_content'",
     "output_type": "error",
     "traceback": [
      "\u001b[0;31m---------------------------------------------------------------------------\u001b[0m",
      "\u001b[0;31mAttributeError\u001b[0m                            Traceback (most recent call last)",
      "Cell \u001b[0;32mIn[24], line 1\u001b[0m\n\u001b[0;32m----> 1\u001b[0m text_meta_pair \u001b[38;5;241m=\u001b[39m \u001b[43m[\u001b[49m\u001b[43m(\u001b[49m\u001b[43mdoc\u001b[49m\u001b[38;5;241;43m.\u001b[39;49m\u001b[43mpage_content\u001b[49m\u001b[43m,\u001b[49m\u001b[43m \u001b[49m\u001b[43mdoc\u001b[49m\u001b[38;5;241;43m.\u001b[39;49m\u001b[43mmetadata\u001b[49m\u001b[43m)\u001b[49m\u001b[43m \u001b[49m\u001b[38;5;28;43;01mfor\u001b[39;49;00m\u001b[43m \u001b[49m\u001b[43mdoc\u001b[49m\u001b[43m \u001b[49m\u001b[38;5;129;43;01min\u001b[39;49;00m\u001b[43m \u001b[49m\u001b[43mdocs\u001b[49m\u001b[43m]\u001b[49m\n\u001b[1;32m      2\u001b[0m texts, meta \u001b[38;5;241m=\u001b[39m \u001b[38;5;28mlist\u001b[39m(\u001b[38;5;28mzip\u001b[39m(\u001b[38;5;241m*\u001b[39mtext_meta_pair))\n\u001b[1;32m      3\u001b[0m vectorstore\u001b[38;5;241m.\u001b[39madd_texts(texts, meta)\n",
      "Cell \u001b[0;32mIn[24], line 1\u001b[0m, in \u001b[0;36m<listcomp>\u001b[0;34m(.0)\u001b[0m\n\u001b[0;32m----> 1\u001b[0m text_meta_pair \u001b[38;5;241m=\u001b[39m [(\u001b[43mdoc\u001b[49m\u001b[38;5;241;43m.\u001b[39;49m\u001b[43mpage_content\u001b[49m, doc\u001b[38;5;241m.\u001b[39mmetadata) \u001b[38;5;28;01mfor\u001b[39;00m doc \u001b[38;5;129;01min\u001b[39;00m docs]\n\u001b[1;32m      2\u001b[0m texts, meta \u001b[38;5;241m=\u001b[39m \u001b[38;5;28mlist\u001b[39m(\u001b[38;5;28mzip\u001b[39m(\u001b[38;5;241m*\u001b[39mtext_meta_pair))\n\u001b[1;32m      3\u001b[0m vectorstore\u001b[38;5;241m.\u001b[39madd_texts(texts, meta)\n",
      "\u001b[0;31mAttributeError\u001b[0m: 'str' object has no attribute 'page_content'"
     ]
    }
   ],
   "source": [
    "text_meta_pair = [(doc.page_content, doc.metadata) for doc in docs]\n",
    "texts, meta = list(zip(*text_meta_pair))\n",
    "vectorstore.add_texts(texts, meta)"
   ]
  },
  {
   "cell_type": "code",
   "execution_count": 96,
   "metadata": {},
   "outputs": [
    {
     "ename": "ValueError",
     "evalue": "Error during query: [{'locations': [{'column': 84, 'line': 1}], 'message': 'Cannot query field \"source\" on type \"Chatbot\".', 'path': None}]",
     "output_type": "error",
     "traceback": [
      "\u001b[0;31m---------------------------------------------------------------------------\u001b[0m",
      "\u001b[0;31mValueError\u001b[0m                                Traceback (most recent call last)",
      "Cell \u001b[0;32mIn[96], line 4\u001b[0m\n\u001b[1;32m      1\u001b[0m query \u001b[38;5;241m=\u001b[39m \u001b[38;5;124m\"\u001b[39m\u001b[38;5;124mwhat is this weeks task?\u001b[39m\u001b[38;5;124m\"\u001b[39m\n\u001b[1;32m      3\u001b[0m \u001b[38;5;66;03m# retrieve text related to the query\u001b[39;00m\n\u001b[0;32m----> 4\u001b[0m docs \u001b[38;5;241m=\u001b[39m \u001b[43mvectorstore\u001b[49m\u001b[38;5;241;43m.\u001b[39;49m\u001b[43msimilarity_search\u001b[49m\u001b[43m(\u001b[49m\u001b[43mquery\u001b[49m\u001b[43m,\u001b[49m\u001b[43m \u001b[49m\u001b[43mk\u001b[49m\u001b[38;5;241;43m=\u001b[39;49m\u001b[38;5;241;43m4\u001b[39;49m\u001b[43m)\u001b[49m\n",
      "File \u001b[0;32m~/miniconda3/envs/wk6/lib/python3.11/site-packages/langchain_community/vectorstores/weaviate.py:185\u001b[0m, in \u001b[0;36mWeaviate.similarity_search\u001b[0;34m(self, query, k, **kwargs)\u001b[0m\n\u001b[1;32m    175\u001b[0m \u001b[38;5;250m\u001b[39m\u001b[38;5;124;03m\"\"\"Return docs most similar to query.\u001b[39;00m\n\u001b[1;32m    176\u001b[0m \n\u001b[1;32m    177\u001b[0m \u001b[38;5;124;03mArgs:\u001b[39;00m\n\u001b[0;32m   (...)\u001b[0m\n\u001b[1;32m    182\u001b[0m \u001b[38;5;124;03m    List of Documents most similar to the query.\u001b[39;00m\n\u001b[1;32m    183\u001b[0m \u001b[38;5;124;03m\"\"\"\u001b[39;00m\n\u001b[1;32m    184\u001b[0m \u001b[38;5;28;01mif\u001b[39;00m \u001b[38;5;28mself\u001b[39m\u001b[38;5;241m.\u001b[39m_by_text:\n\u001b[0;32m--> 185\u001b[0m     \u001b[38;5;28;01mreturn\u001b[39;00m \u001b[38;5;28;43mself\u001b[39;49m\u001b[38;5;241;43m.\u001b[39;49m\u001b[43msimilarity_search_by_text\u001b[49m\u001b[43m(\u001b[49m\u001b[43mquery\u001b[49m\u001b[43m,\u001b[49m\u001b[43m \u001b[49m\u001b[43mk\u001b[49m\u001b[43m,\u001b[49m\u001b[43m \u001b[49m\u001b[38;5;241;43m*\u001b[39;49m\u001b[38;5;241;43m*\u001b[39;49m\u001b[43mkwargs\u001b[49m\u001b[43m)\u001b[49m\n\u001b[1;32m    186\u001b[0m \u001b[38;5;28;01melse\u001b[39;00m:\n\u001b[1;32m    187\u001b[0m     \u001b[38;5;28;01mif\u001b[39;00m \u001b[38;5;28mself\u001b[39m\u001b[38;5;241m.\u001b[39m_embedding \u001b[38;5;129;01mis\u001b[39;00m \u001b[38;5;28;01mNone\u001b[39;00m:\n",
      "File \u001b[0;32m~/miniconda3/envs/wk6/lib/python3.11/site-packages/langchain_community/vectorstores/weaviate.py:219\u001b[0m, in \u001b[0;36mWeaviate.similarity_search_by_text\u001b[0;34m(self, query, k, **kwargs)\u001b[0m\n\u001b[1;32m    217\u001b[0m result \u001b[38;5;241m=\u001b[39m query_obj\u001b[38;5;241m.\u001b[39mwith_near_text(content)\u001b[38;5;241m.\u001b[39mwith_limit(k)\u001b[38;5;241m.\u001b[39mdo()\n\u001b[1;32m    218\u001b[0m \u001b[38;5;28;01mif\u001b[39;00m \u001b[38;5;124m\"\u001b[39m\u001b[38;5;124merrors\u001b[39m\u001b[38;5;124m\"\u001b[39m \u001b[38;5;129;01min\u001b[39;00m result:\n\u001b[0;32m--> 219\u001b[0m     \u001b[38;5;28;01mraise\u001b[39;00m \u001b[38;5;167;01mValueError\u001b[39;00m(\u001b[38;5;124mf\u001b[39m\u001b[38;5;124m\"\u001b[39m\u001b[38;5;124mError during query: \u001b[39m\u001b[38;5;132;01m{\u001b[39;00mresult[\u001b[38;5;124m'\u001b[39m\u001b[38;5;124merrors\u001b[39m\u001b[38;5;124m'\u001b[39m]\u001b[38;5;132;01m}\u001b[39;00m\u001b[38;5;124m\"\u001b[39m)\n\u001b[1;32m    220\u001b[0m docs \u001b[38;5;241m=\u001b[39m []\n\u001b[1;32m    221\u001b[0m \u001b[38;5;28;01mfor\u001b[39;00m res \u001b[38;5;129;01min\u001b[39;00m result[\u001b[38;5;124m\"\u001b[39m\u001b[38;5;124mdata\u001b[39m\u001b[38;5;124m\"\u001b[39m][\u001b[38;5;124m\"\u001b[39m\u001b[38;5;124mGet\u001b[39m\u001b[38;5;124m\"\u001b[39m][\u001b[38;5;28mself\u001b[39m\u001b[38;5;241m.\u001b[39m_index_name]:\n",
      "\u001b[0;31mValueError\u001b[0m: Error during query: [{'locations': [{'column': 84, 'line': 1}], 'message': 'Cannot query field \"source\" on type \"Chatbot\".', 'path': None}]"
     ]
    }
   ],
   "source": [
    "query = \"what is this weeks task?\"\n",
    "\n",
    "# retrieve text related to the query\n",
    "docs = vectorstore.similarity_search(query, k=4)"
   ]
  }
 ],
 "metadata": {
  "kernelspec": {
   "display_name": "redacre",
   "language": "python",
   "name": "python3"
  },
  "language_info": {
   "codemirror_mode": {
    "name": "ipython",
    "version": 3
   },
   "file_extension": ".py",
   "mimetype": "text/x-python",
   "name": "python",
   "nbconvert_exporter": "python",
   "pygments_lexer": "ipython3",
   "version": "3.11.7"
  },
  "orig_nbformat": 4
 },
 "nbformat": 4,
 "nbformat_minor": 2
}
